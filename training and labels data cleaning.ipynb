{
 "cells": [
  {
   "cell_type": "markdown",
   "metadata": {},
   "source": [
    "# TANZANIA WATER POINTS ANALYSIS USING MACHINE LEARNING"
   ]
  },
  {
   "cell_type": "markdown",
   "metadata": {},
   "source": [
    "#### PROBLEM STATEMENT"
   ]
  },
  {
   "cell_type": "markdown",
   "metadata": {},
   "source": [
    "The Tanzanian Ministry of Water needs to ensure that clean, potable water is available to communities across Tanzania using limited resources.\n",
    "\n",
    "That water can be provided by improving the maintenance of existing waterpoints and by expanding the number of waterpoints\n",
    "\n",
    "If we can accurately classify a waterpoint, the Ministry will have a better understanding of their existing infrastructure, and because of cost savings, will be able to reallocate existing resources to expand the water infrastructure.\n",
    "\n",
    "The ministry needs to be able to predict which class the waterpoints belong to: functional, functional but need some repairs, and non-functional."
   ]
  },
  {
   "cell_type": "markdown",
   "metadata": {},
   "source": [
    "## DATA"
   ]
  },
  {
   "cell_type": "markdown",
   "metadata": {},
   "source": [
    "Data is provided by Taarifa and the Tanzanian Ministry of Water originally as part of a competition hosted by DrivenData.\n",
    "\n",
    "EDA / Data Cleaning\n",
    "The data provided has a lot of cleaning procedures that are done within this notebook.."
   ]
  },
  {
   "cell_type": "code",
   "execution_count": 1,
   "metadata": {},
   "outputs": [],
   "source": [
    "import pandas as pd\n",
    "import numpy as np\n",
    "import matplotlib.pyplot as plt\n",
    "import matplotlib.ticker as mtick\n",
    "import seaborn as sns"
   ]
  },
  {
   "cell_type": "code",
   "execution_count": 2,
   "metadata": {},
   "outputs": [],
   "source": [
    "training_labels_data = pd.read_csv(\"training-set-labels.csv\")\n",
    "training_set_data = pd.read_csv(\"training-set-values.csv\")\n"
   ]
  },
  {
   "cell_type": "code",
   "execution_count": 3,
   "metadata": {},
   "outputs": [
    {
     "data": {
      "text/html": [
       "<div>\n",
       "<style scoped>\n",
       "    .dataframe tbody tr th:only-of-type {\n",
       "        vertical-align: middle;\n",
       "    }\n",
       "\n",
       "    .dataframe tbody tr th {\n",
       "        vertical-align: top;\n",
       "    }\n",
       "\n",
       "    .dataframe thead th {\n",
       "        text-align: right;\n",
       "    }\n",
       "</style>\n",
       "<table border=\"1\" class=\"dataframe\">\n",
       "  <thead>\n",
       "    <tr style=\"text-align: right;\">\n",
       "      <th></th>\n",
       "      <th>id</th>\n",
       "      <th>status_group</th>\n",
       "    </tr>\n",
       "  </thead>\n",
       "  <tbody>\n",
       "    <tr>\n",
       "      <th>0</th>\n",
       "      <td>69572</td>\n",
       "      <td>functional</td>\n",
       "    </tr>\n",
       "    <tr>\n",
       "      <th>1</th>\n",
       "      <td>8776</td>\n",
       "      <td>functional</td>\n",
       "    </tr>\n",
       "    <tr>\n",
       "      <th>2</th>\n",
       "      <td>34310</td>\n",
       "      <td>functional</td>\n",
       "    </tr>\n",
       "    <tr>\n",
       "      <th>3</th>\n",
       "      <td>67743</td>\n",
       "      <td>non functional</td>\n",
       "    </tr>\n",
       "    <tr>\n",
       "      <th>4</th>\n",
       "      <td>19728</td>\n",
       "      <td>functional</td>\n",
       "    </tr>\n",
       "  </tbody>\n",
       "</table>\n",
       "</div>"
      ],
      "text/plain": [
       "      id    status_group\n",
       "0  69572      functional\n",
       "1   8776      functional\n",
       "2  34310      functional\n",
       "3  67743  non functional\n",
       "4  19728      functional"
      ]
     },
     "execution_count": 3,
     "metadata": {},
     "output_type": "execute_result"
    }
   ],
   "source": [
    "training_labels_data.head()\n",
    "#training_set_data.head()"
   ]
  },
  {
   "cell_type": "code",
   "execution_count": 4,
   "metadata": {},
   "outputs": [
    {
     "data": {
      "text/html": [
       "<div>\n",
       "<style scoped>\n",
       "    .dataframe tbody tr th:only-of-type {\n",
       "        vertical-align: middle;\n",
       "    }\n",
       "\n",
       "    .dataframe tbody tr th {\n",
       "        vertical-align: top;\n",
       "    }\n",
       "\n",
       "    .dataframe thead th {\n",
       "        text-align: right;\n",
       "    }\n",
       "</style>\n",
       "<table border=\"1\" class=\"dataframe\">\n",
       "  <thead>\n",
       "    <tr style=\"text-align: right;\">\n",
       "      <th></th>\n",
       "      <th>id</th>\n",
       "      <th>status_group</th>\n",
       "      <th>amount_tsh</th>\n",
       "      <th>date_recorded</th>\n",
       "      <th>funder</th>\n",
       "      <th>gps_height</th>\n",
       "      <th>installer</th>\n",
       "      <th>longitude</th>\n",
       "      <th>latitude</th>\n",
       "      <th>wpt_name</th>\n",
       "      <th>...</th>\n",
       "      <th>payment_type</th>\n",
       "      <th>water_quality</th>\n",
       "      <th>quality_group</th>\n",
       "      <th>quantity</th>\n",
       "      <th>quantity_group</th>\n",
       "      <th>source</th>\n",
       "      <th>source_type</th>\n",
       "      <th>source_class</th>\n",
       "      <th>waterpoint_type</th>\n",
       "      <th>waterpoint_type_group</th>\n",
       "    </tr>\n",
       "  </thead>\n",
       "  <tbody>\n",
       "    <tr>\n",
       "      <th>0</th>\n",
       "      <td>69572</td>\n",
       "      <td>functional</td>\n",
       "      <td>6000.0</td>\n",
       "      <td>3/14/2011</td>\n",
       "      <td>Roman</td>\n",
       "      <td>1390</td>\n",
       "      <td>Roman</td>\n",
       "      <td>34.938093</td>\n",
       "      <td>-9.856322</td>\n",
       "      <td>none</td>\n",
       "      <td>...</td>\n",
       "      <td>annually</td>\n",
       "      <td>soft</td>\n",
       "      <td>good</td>\n",
       "      <td>enough</td>\n",
       "      <td>enough</td>\n",
       "      <td>spring</td>\n",
       "      <td>spring</td>\n",
       "      <td>groundwater</td>\n",
       "      <td>communal standpipe</td>\n",
       "      <td>communal standpipe</td>\n",
       "    </tr>\n",
       "    <tr>\n",
       "      <th>1</th>\n",
       "      <td>8776</td>\n",
       "      <td>functional</td>\n",
       "      <td>0.0</td>\n",
       "      <td>3/6/2013</td>\n",
       "      <td>Grumeti</td>\n",
       "      <td>1399</td>\n",
       "      <td>GRUMETI</td>\n",
       "      <td>34.698766</td>\n",
       "      <td>-2.147466</td>\n",
       "      <td>Zahanati</td>\n",
       "      <td>...</td>\n",
       "      <td>never pay</td>\n",
       "      <td>soft</td>\n",
       "      <td>good</td>\n",
       "      <td>insufficient</td>\n",
       "      <td>insufficient</td>\n",
       "      <td>rainwater harvesting</td>\n",
       "      <td>rainwater harvesting</td>\n",
       "      <td>surface</td>\n",
       "      <td>communal standpipe</td>\n",
       "      <td>communal standpipe</td>\n",
       "    </tr>\n",
       "    <tr>\n",
       "      <th>2</th>\n",
       "      <td>34310</td>\n",
       "      <td>functional</td>\n",
       "      <td>25.0</td>\n",
       "      <td>2/25/2013</td>\n",
       "      <td>Lottery Club</td>\n",
       "      <td>686</td>\n",
       "      <td>World vision</td>\n",
       "      <td>37.460664</td>\n",
       "      <td>-3.821329</td>\n",
       "      <td>Kwa Mahundi</td>\n",
       "      <td>...</td>\n",
       "      <td>per bucket</td>\n",
       "      <td>soft</td>\n",
       "      <td>good</td>\n",
       "      <td>enough</td>\n",
       "      <td>enough</td>\n",
       "      <td>dam</td>\n",
       "      <td>dam</td>\n",
       "      <td>surface</td>\n",
       "      <td>communal standpipe multiple</td>\n",
       "      <td>communal standpipe</td>\n",
       "    </tr>\n",
       "    <tr>\n",
       "      <th>3</th>\n",
       "      <td>67743</td>\n",
       "      <td>non functional</td>\n",
       "      <td>0.0</td>\n",
       "      <td>1/28/2013</td>\n",
       "      <td>Unicef</td>\n",
       "      <td>263</td>\n",
       "      <td>UNICEF</td>\n",
       "      <td>38.486161</td>\n",
       "      <td>-11.155298</td>\n",
       "      <td>Zahanati Ya Nanyumbu</td>\n",
       "      <td>...</td>\n",
       "      <td>never pay</td>\n",
       "      <td>soft</td>\n",
       "      <td>good</td>\n",
       "      <td>dry</td>\n",
       "      <td>dry</td>\n",
       "      <td>machine dbh</td>\n",
       "      <td>borehole</td>\n",
       "      <td>groundwater</td>\n",
       "      <td>communal standpipe multiple</td>\n",
       "      <td>communal standpipe</td>\n",
       "    </tr>\n",
       "    <tr>\n",
       "      <th>4</th>\n",
       "      <td>19728</td>\n",
       "      <td>functional</td>\n",
       "      <td>0.0</td>\n",
       "      <td>7/13/2011</td>\n",
       "      <td>Action In A</td>\n",
       "      <td>0</td>\n",
       "      <td>Artisan</td>\n",
       "      <td>31.130847</td>\n",
       "      <td>-1.825359</td>\n",
       "      <td>Shuleni</td>\n",
       "      <td>...</td>\n",
       "      <td>never pay</td>\n",
       "      <td>soft</td>\n",
       "      <td>good</td>\n",
       "      <td>seasonal</td>\n",
       "      <td>seasonal</td>\n",
       "      <td>rainwater harvesting</td>\n",
       "      <td>rainwater harvesting</td>\n",
       "      <td>surface</td>\n",
       "      <td>communal standpipe</td>\n",
       "      <td>communal standpipe</td>\n",
       "    </tr>\n",
       "  </tbody>\n",
       "</table>\n",
       "<p>5 rows × 41 columns</p>\n",
       "</div>"
      ],
      "text/plain": [
       "      id    status_group  amount_tsh date_recorded        funder  gps_height  \\\n",
       "0  69572      functional      6000.0     3/14/2011         Roman        1390   \n",
       "1   8776      functional         0.0      3/6/2013       Grumeti        1399   \n",
       "2  34310      functional        25.0     2/25/2013  Lottery Club         686   \n",
       "3  67743  non functional         0.0     1/28/2013        Unicef         263   \n",
       "4  19728      functional         0.0     7/13/2011   Action In A           0   \n",
       "\n",
       "      installer  longitude   latitude              wpt_name  ...  \\\n",
       "0         Roman  34.938093  -9.856322                  none  ...   \n",
       "1       GRUMETI  34.698766  -2.147466              Zahanati  ...   \n",
       "2  World vision  37.460664  -3.821329           Kwa Mahundi  ...   \n",
       "3        UNICEF  38.486161 -11.155298  Zahanati Ya Nanyumbu  ...   \n",
       "4       Artisan  31.130847  -1.825359               Shuleni  ...   \n",
       "\n",
       "   payment_type water_quality quality_group      quantity  quantity_group  \\\n",
       "0      annually          soft          good        enough          enough   \n",
       "1     never pay          soft          good  insufficient    insufficient   \n",
       "2    per bucket          soft          good        enough          enough   \n",
       "3     never pay          soft          good           dry             dry   \n",
       "4     never pay          soft          good      seasonal        seasonal   \n",
       "\n",
       "                 source           source_type source_class  \\\n",
       "0                spring                spring  groundwater   \n",
       "1  rainwater harvesting  rainwater harvesting      surface   \n",
       "2                   dam                   dam      surface   \n",
       "3           machine dbh              borehole  groundwater   \n",
       "4  rainwater harvesting  rainwater harvesting      surface   \n",
       "\n",
       "               waterpoint_type waterpoint_type_group  \n",
       "0           communal standpipe    communal standpipe  \n",
       "1           communal standpipe    communal standpipe  \n",
       "2  communal standpipe multiple    communal standpipe  \n",
       "3  communal standpipe multiple    communal standpipe  \n",
       "4           communal standpipe    communal standpipe  \n",
       "\n",
       "[5 rows x 41 columns]"
      ]
     },
     "execution_count": 4,
     "metadata": {},
     "output_type": "execute_result"
    }
   ],
   "source": [
    "#setting the id column as index for both dataframes before merging\n",
    "training_labels_data.set_index(\"id\",inplace = True)\n",
    "training_set_data.set_index(\"id\",inplace = True)\n",
    "df = pd.merge(training_labels_data, training_set_data, how = 'inner', left_index = True,right_index=True)\n",
    "df.reset_index(inplace = True)\n",
    "df.head()"
   ]
  },
  {
   "cell_type": "code",
   "execution_count": 5,
   "metadata": {},
   "outputs": [
    {
     "data": {
      "text/plain": [
       "(59400, 41)"
      ]
     },
     "execution_count": 5,
     "metadata": {},
     "output_type": "execute_result"
    }
   ],
   "source": [
    "df.shape"
   ]
  },
  {
   "cell_type": "code",
   "execution_count": 6,
   "metadata": {},
   "outputs": [
    {
     "data": {
      "text/plain": [
       "id                         int64\n",
       "status_group              object\n",
       "amount_tsh               float64\n",
       "date_recorded             object\n",
       "funder                    object\n",
       "gps_height                 int64\n",
       "installer                 object\n",
       "longitude                float64\n",
       "latitude                 float64\n",
       "wpt_name                  object\n",
       "num_private                int64\n",
       "basin                     object\n",
       "subvillage                object\n",
       "region                    object\n",
       "region_code                int64\n",
       "district_code              int64\n",
       "lga                       object\n",
       "ward                      object\n",
       "population                 int64\n",
       "public_meeting            object\n",
       "recorded_by               object\n",
       "scheme_management         object\n",
       "scheme_name               object\n",
       "permit                    object\n",
       "construction_year          int64\n",
       "extraction_type           object\n",
       "extraction_type_group     object\n",
       "extraction_type_class     object\n",
       "management                object\n",
       "management_group          object\n",
       "payment                   object\n",
       "payment_type              object\n",
       "water_quality             object\n",
       "quality_group             object\n",
       "quantity                  object\n",
       "quantity_group            object\n",
       "source                    object\n",
       "source_type               object\n",
       "source_class              object\n",
       "waterpoint_type           object\n",
       "waterpoint_type_group     object\n",
       "dtype: object"
      ]
     },
     "execution_count": 6,
     "metadata": {},
     "output_type": "execute_result"
    }
   ],
   "source": [
    "df.dtypes"
   ]
  },
  {
   "cell_type": "code",
   "execution_count": 7,
   "metadata": {},
   "outputs": [
    {
     "name": "stdout",
     "output_type": "stream",
     "text": [
      "<class 'pandas.core.frame.DataFrame'>\n",
      "RangeIndex: 59400 entries, 0 to 59399\n",
      "Data columns (total 41 columns):\n",
      " #   Column                 Non-Null Count  Dtype  \n",
      "---  ------                 --------------  -----  \n",
      " 0   id                     59400 non-null  int64  \n",
      " 1   status_group           59400 non-null  object \n",
      " 2   amount_tsh             59400 non-null  float64\n",
      " 3   date_recorded          59400 non-null  object \n",
      " 4   funder                 55765 non-null  object \n",
      " 5   gps_height             59400 non-null  int64  \n",
      " 6   installer              55745 non-null  object \n",
      " 7   longitude              59400 non-null  float64\n",
      " 8   latitude               59400 non-null  float64\n",
      " 9   wpt_name               59400 non-null  object \n",
      " 10  num_private            59400 non-null  int64  \n",
      " 11  basin                  59400 non-null  object \n",
      " 12  subvillage             59029 non-null  object \n",
      " 13  region                 59400 non-null  object \n",
      " 14  region_code            59400 non-null  int64  \n",
      " 15  district_code          59400 non-null  int64  \n",
      " 16  lga                    59400 non-null  object \n",
      " 17  ward                   59400 non-null  object \n",
      " 18  population             59400 non-null  int64  \n",
      " 19  public_meeting         56066 non-null  object \n",
      " 20  recorded_by            59400 non-null  object \n",
      " 21  scheme_management      55523 non-null  object \n",
      " 22  scheme_name            31234 non-null  object \n",
      " 23  permit                 56344 non-null  object \n",
      " 24  construction_year      59400 non-null  int64  \n",
      " 25  extraction_type        59400 non-null  object \n",
      " 26  extraction_type_group  59400 non-null  object \n",
      " 27  extraction_type_class  59400 non-null  object \n",
      " 28  management             59400 non-null  object \n",
      " 29  management_group       59400 non-null  object \n",
      " 30  payment                59400 non-null  object \n",
      " 31  payment_type           59400 non-null  object \n",
      " 32  water_quality          59400 non-null  object \n",
      " 33  quality_group          59400 non-null  object \n",
      " 34  quantity               59400 non-null  object \n",
      " 35  quantity_group         59400 non-null  object \n",
      " 36  source                 59400 non-null  object \n",
      " 37  source_type            59400 non-null  object \n",
      " 38  source_class           59400 non-null  object \n",
      " 39  waterpoint_type        59400 non-null  object \n",
      " 40  waterpoint_type_group  59400 non-null  object \n",
      "dtypes: float64(3), int64(7), object(31)\n",
      "memory usage: 18.6+ MB\n"
     ]
    }
   ],
   "source": [
    "df.info()"
   ]
  },
  {
   "cell_type": "code",
   "execution_count": 8,
   "metadata": {},
   "outputs": [
    {
     "data": {
      "text/plain": [
       "id                           0\n",
       "status_group                 0\n",
       "amount_tsh                   0\n",
       "date_recorded                0\n",
       "funder                    3635\n",
       "gps_height                   0\n",
       "installer                 3655\n",
       "longitude                    0\n",
       "latitude                     0\n",
       "wpt_name                     0\n",
       "num_private                  0\n",
       "basin                        0\n",
       "subvillage                 371\n",
       "region                       0\n",
       "region_code                  0\n",
       "district_code                0\n",
       "lga                          0\n",
       "ward                         0\n",
       "population                   0\n",
       "public_meeting            3334\n",
       "recorded_by                  0\n",
       "scheme_management         3877\n",
       "scheme_name              28166\n",
       "permit                    3056\n",
       "construction_year            0\n",
       "extraction_type              0\n",
       "extraction_type_group        0\n",
       "extraction_type_class        0\n",
       "management                   0\n",
       "management_group             0\n",
       "payment                      0\n",
       "payment_type                 0\n",
       "water_quality                0\n",
       "quality_group                0\n",
       "quantity                     0\n",
       "quantity_group               0\n",
       "source                       0\n",
       "source_type                  0\n",
       "source_class                 0\n",
       "waterpoint_type              0\n",
       "waterpoint_type_group        0\n",
       "dtype: int64"
      ]
     },
     "execution_count": 8,
     "metadata": {},
     "output_type": "execute_result"
    }
   ],
   "source": [
    "df.isna().sum()"
   ]
  },
  {
   "cell_type": "code",
   "execution_count": 9,
   "metadata": {},
   "outputs": [
    {
     "data": {
      "text/plain": [
       "0"
      ]
     },
     "execution_count": 9,
     "metadata": {},
     "output_type": "execute_result"
    }
   ],
   "source": [
    "df.status_group.isna().sum()"
   ]
  },
  {
   "cell_type": "markdown",
   "metadata": {},
   "source": [
    "#### assessing our target column\n"
   ]
  },
  {
   "cell_type": "code",
   "execution_count": 10,
   "metadata": {},
   "outputs": [
    {
     "data": {
      "text/plain": [
       "functional                 32259\n",
       "non functional             22824\n",
       "functional needs repair     4317\n",
       "Name: status_group, dtype: int64"
      ]
     },
     "execution_count": 10,
     "metadata": {},
     "output_type": "execute_result"
    }
   ],
   "source": [
    "df.status_group.value_counts()"
   ]
  },
  {
   "cell_type": "markdown",
   "metadata": {},
   "source": [
    "There are no null values in the column \n",
    "\n",
    "There are three unique values fo this class namely; functional,non functional and functional needs repair.\n",
    "\n",
    "Looking at the target values, we see that theres an imbalance of values in our class."
   ]
  },
  {
   "cell_type": "code",
   "execution_count": 11,
   "metadata": {},
   "outputs": [],
   "source": [
    "# converting these values into tenary values\n",
    "# target_var = {'functional':0, \n",
    "#                    'non functional': 2, \n",
    "#                    'functional needs repair': 1} \n",
    "# df['status_group'] = df['status_group'].replace(target_var)"
   ]
  },
  {
   "cell_type": "code",
   "execution_count": null,
   "metadata": {},
   "outputs": [],
   "source": []
  },
  {
   "cell_type": "markdown",
   "metadata": {},
   "source": [
    "##### ASSESSING OTHER COLUMNS"
   ]
  },
  {
   "cell_type": "markdown",
   "metadata": {},
   "source": [
    "#### quantity and quantity_group columns"
   ]
  },
  {
   "cell_type": "code",
   "execution_count": 12,
   "metadata": {},
   "outputs": [
    {
     "data": {
      "text/plain": [
       "enough          33186\n",
       "insufficient    15129\n",
       "dry              6246\n",
       "seasonal         4050\n",
       "unknown           789\n",
       "Name: quantity_group, dtype: int64"
      ]
     },
     "execution_count": 12,
     "metadata": {},
     "output_type": "execute_result"
    }
   ],
   "source": [
    "df.quantity_group.value_counts()"
   ]
  },
  {
   "cell_type": "code",
   "execution_count": 13,
   "metadata": {},
   "outputs": [
    {
     "data": {
      "text/plain": [
       "enough          33186\n",
       "insufficient    15129\n",
       "dry              6246\n",
       "seasonal         4050\n",
       "unknown           789\n",
       "Name: quantity, dtype: int64"
      ]
     },
     "execution_count": 13,
     "metadata": {},
     "output_type": "execute_result"
    }
   ],
   "source": [
    "df.quantity.value_counts()"
   ]
  },
  {
   "cell_type": "code",
   "execution_count": 14,
   "metadata": {},
   "outputs": [
    {
     "data": {
      "text/plain": [
       "enough          True\n",
       "insufficient    True\n",
       "dry             True\n",
       "seasonal        True\n",
       "unknown         True\n",
       "dtype: bool"
      ]
     },
     "execution_count": 14,
     "metadata": {},
     "output_type": "execute_result"
    }
   ],
   "source": [
    "df.quantity_group.value_counts() == df.quantity.value_counts()"
   ]
  },
  {
   "cell_type": "markdown",
   "metadata": {},
   "source": [
    "From the above assessment, we can see that the two columns contain similar information. Therefore we will drop the \"quantity_group\" column."
   ]
  },
  {
   "cell_type": "code",
   "execution_count": 15,
   "metadata": {},
   "outputs": [],
   "source": [
    "df.drop(\"quantity_group\",axis = 1,inplace = True)"
   ]
  },
  {
   "cell_type": "markdown",
   "metadata": {},
   "source": [
    "#### management,management_group,scheme_management columns"
   ]
  },
  {
   "cell_type": "code",
   "execution_count": 16,
   "metadata": {},
   "outputs": [
    {
     "data": {
      "text/plain": [
       "vwc                 40507\n",
       "wug                  6515\n",
       "water board          2933\n",
       "wua                  2535\n",
       "private operator     1971\n",
       "parastatal           1768\n",
       "water authority       904\n",
       "other                 844\n",
       "company               685\n",
       "unknown               561\n",
       "other - school         99\n",
       "trust                  78\n",
       "Name: management, dtype: int64"
      ]
     },
     "execution_count": 16,
     "metadata": {},
     "output_type": "execute_result"
    }
   ],
   "source": [
    "\n",
    "df.management.value_counts()"
   ]
  },
  {
   "cell_type": "code",
   "execution_count": 17,
   "metadata": {},
   "outputs": [
    {
     "data": {
      "text/plain": [
       "0"
      ]
     },
     "execution_count": 17,
     "metadata": {},
     "output_type": "execute_result"
    }
   ],
   "source": [
    "df.management.isna().sum()"
   ]
  },
  {
   "cell_type": "code",
   "execution_count": 18,
   "metadata": {},
   "outputs": [
    {
     "data": {
      "text/plain": [
       "user-group    52490\n",
       "commercial     3638\n",
       "parastatal     1768\n",
       "other           943\n",
       "unknown         561\n",
       "Name: management_group, dtype: int64"
      ]
     },
     "execution_count": 18,
     "metadata": {},
     "output_type": "execute_result"
    }
   ],
   "source": [
    "df.management_group.value_counts()\n"
   ]
  },
  {
   "cell_type": "code",
   "execution_count": 19,
   "metadata": {},
   "outputs": [
    {
     "data": {
      "text/plain": [
       "0"
      ]
     },
     "execution_count": 19,
     "metadata": {},
     "output_type": "execute_result"
    }
   ],
   "source": [
    "df.management_group.isna().sum()"
   ]
  },
  {
   "cell_type": "code",
   "execution_count": 20,
   "metadata": {},
   "outputs": [
    {
     "data": {
      "text/plain": [
       "VWC                 36793\n",
       "WUG                  5206\n",
       "Water authority      3153\n",
       "WUA                  2883\n",
       "Water Board          2748\n",
       "Parastatal           1680\n",
       "Private operator     1063\n",
       "Company              1061\n",
       "Other                 766\n",
       "SWC                    97\n",
       "Trust                  72\n",
       "None                    1\n",
       "Name: scheme_management, dtype: int64"
      ]
     },
     "execution_count": 20,
     "metadata": {},
     "output_type": "execute_result"
    }
   ],
   "source": [
    "df.scheme_management.value_counts()"
   ]
  },
  {
   "cell_type": "code",
   "execution_count": 21,
   "metadata": {},
   "outputs": [
    {
     "data": {
      "text/plain": [
       "3877"
      ]
     },
     "execution_count": 21,
     "metadata": {},
     "output_type": "execute_result"
    }
   ],
   "source": [
    "df.scheme_management.isna().sum()"
   ]
  },
  {
   "cell_type": "markdown",
   "metadata": {},
   "source": [
    "Scheme management and management columns have almost similar information although scheme_management has 3877 missing values.\n",
    "\n",
    "Lets drop the scheme_management column since both columns represent how the water wells are managed."
   ]
  },
  {
   "cell_type": "code",
   "execution_count": 22,
   "metadata": {},
   "outputs": [],
   "source": [
    "df.drop(\"scheme_management\",axis = 1, inplace= True)"
   ]
  },
  {
   "cell_type": "markdown",
   "metadata": {},
   "source": [
    "The remaining management group and management also seem to have similar values.\n",
    "Lets check for any similarities "
   ]
  },
  {
   "cell_type": "code",
   "execution_count": 23,
   "metadata": {},
   "outputs": [
    {
     "data": {
      "text/html": [
       "<div>\n",
       "<style scoped>\n",
       "    .dataframe tbody tr th:only-of-type {\n",
       "        vertical-align: middle;\n",
       "    }\n",
       "\n",
       "    .dataframe tbody tr th {\n",
       "        vertical-align: top;\n",
       "    }\n",
       "\n",
       "    .dataframe thead th {\n",
       "        text-align: right;\n",
       "    }\n",
       "</style>\n",
       "<table border=\"1\" class=\"dataframe\">\n",
       "  <thead>\n",
       "    <tr style=\"text-align: right;\">\n",
       "      <th></th>\n",
       "      <th></th>\n",
       "      <th>id</th>\n",
       "      <th>status_group</th>\n",
       "      <th>amount_tsh</th>\n",
       "      <th>date_recorded</th>\n",
       "      <th>funder</th>\n",
       "      <th>gps_height</th>\n",
       "      <th>installer</th>\n",
       "      <th>longitude</th>\n",
       "      <th>latitude</th>\n",
       "      <th>wpt_name</th>\n",
       "      <th>...</th>\n",
       "      <th>payment</th>\n",
       "      <th>payment_type</th>\n",
       "      <th>water_quality</th>\n",
       "      <th>quality_group</th>\n",
       "      <th>quantity</th>\n",
       "      <th>source</th>\n",
       "      <th>source_type</th>\n",
       "      <th>source_class</th>\n",
       "      <th>waterpoint_type</th>\n",
       "      <th>waterpoint_type_group</th>\n",
       "    </tr>\n",
       "    <tr>\n",
       "      <th>management_group</th>\n",
       "      <th>management</th>\n",
       "      <th></th>\n",
       "      <th></th>\n",
       "      <th></th>\n",
       "      <th></th>\n",
       "      <th></th>\n",
       "      <th></th>\n",
       "      <th></th>\n",
       "      <th></th>\n",
       "      <th></th>\n",
       "      <th></th>\n",
       "      <th></th>\n",
       "      <th></th>\n",
       "      <th></th>\n",
       "      <th></th>\n",
       "      <th></th>\n",
       "      <th></th>\n",
       "      <th></th>\n",
       "      <th></th>\n",
       "      <th></th>\n",
       "      <th></th>\n",
       "      <th></th>\n",
       "    </tr>\n",
       "  </thead>\n",
       "  <tbody>\n",
       "    <tr>\n",
       "      <th rowspan=\"4\" valign=\"top\">commercial</th>\n",
       "      <th>company</th>\n",
       "      <td>685</td>\n",
       "      <td>685</td>\n",
       "      <td>685</td>\n",
       "      <td>685</td>\n",
       "      <td>663</td>\n",
       "      <td>685</td>\n",
       "      <td>663</td>\n",
       "      <td>685</td>\n",
       "      <td>685</td>\n",
       "      <td>685</td>\n",
       "      <td>...</td>\n",
       "      <td>685</td>\n",
       "      <td>685</td>\n",
       "      <td>685</td>\n",
       "      <td>685</td>\n",
       "      <td>685</td>\n",
       "      <td>685</td>\n",
       "      <td>685</td>\n",
       "      <td>685</td>\n",
       "      <td>685</td>\n",
       "      <td>685</td>\n",
       "    </tr>\n",
       "    <tr>\n",
       "      <th>private operator</th>\n",
       "      <td>1971</td>\n",
       "      <td>1971</td>\n",
       "      <td>1971</td>\n",
       "      <td>1971</td>\n",
       "      <td>1957</td>\n",
       "      <td>1971</td>\n",
       "      <td>1959</td>\n",
       "      <td>1971</td>\n",
       "      <td>1971</td>\n",
       "      <td>1971</td>\n",
       "      <td>...</td>\n",
       "      <td>1971</td>\n",
       "      <td>1971</td>\n",
       "      <td>1971</td>\n",
       "      <td>1971</td>\n",
       "      <td>1971</td>\n",
       "      <td>1971</td>\n",
       "      <td>1971</td>\n",
       "      <td>1971</td>\n",
       "      <td>1971</td>\n",
       "      <td>1971</td>\n",
       "    </tr>\n",
       "    <tr>\n",
       "      <th>trust</th>\n",
       "      <td>78</td>\n",
       "      <td>78</td>\n",
       "      <td>78</td>\n",
       "      <td>78</td>\n",
       "      <td>78</td>\n",
       "      <td>78</td>\n",
       "      <td>78</td>\n",
       "      <td>78</td>\n",
       "      <td>78</td>\n",
       "      <td>78</td>\n",
       "      <td>...</td>\n",
       "      <td>78</td>\n",
       "      <td>78</td>\n",
       "      <td>78</td>\n",
       "      <td>78</td>\n",
       "      <td>78</td>\n",
       "      <td>78</td>\n",
       "      <td>78</td>\n",
       "      <td>78</td>\n",
       "      <td>78</td>\n",
       "      <td>78</td>\n",
       "    </tr>\n",
       "    <tr>\n",
       "      <th>water authority</th>\n",
       "      <td>904</td>\n",
       "      <td>904</td>\n",
       "      <td>904</td>\n",
       "      <td>904</td>\n",
       "      <td>836</td>\n",
       "      <td>904</td>\n",
       "      <td>836</td>\n",
       "      <td>904</td>\n",
       "      <td>904</td>\n",
       "      <td>904</td>\n",
       "      <td>...</td>\n",
       "      <td>904</td>\n",
       "      <td>904</td>\n",
       "      <td>904</td>\n",
       "      <td>904</td>\n",
       "      <td>904</td>\n",
       "      <td>904</td>\n",
       "      <td>904</td>\n",
       "      <td>904</td>\n",
       "      <td>904</td>\n",
       "      <td>904</td>\n",
       "    </tr>\n",
       "    <tr>\n",
       "      <th rowspan=\"2\" valign=\"top\">other</th>\n",
       "      <th>other</th>\n",
       "      <td>844</td>\n",
       "      <td>844</td>\n",
       "      <td>844</td>\n",
       "      <td>844</td>\n",
       "      <td>837</td>\n",
       "      <td>844</td>\n",
       "      <td>831</td>\n",
       "      <td>844</td>\n",
       "      <td>844</td>\n",
       "      <td>844</td>\n",
       "      <td>...</td>\n",
       "      <td>844</td>\n",
       "      <td>844</td>\n",
       "      <td>844</td>\n",
       "      <td>844</td>\n",
       "      <td>844</td>\n",
       "      <td>844</td>\n",
       "      <td>844</td>\n",
       "      <td>844</td>\n",
       "      <td>844</td>\n",
       "      <td>844</td>\n",
       "    </tr>\n",
       "    <tr>\n",
       "      <th>other - school</th>\n",
       "      <td>99</td>\n",
       "      <td>99</td>\n",
       "      <td>99</td>\n",
       "      <td>99</td>\n",
       "      <td>99</td>\n",
       "      <td>99</td>\n",
       "      <td>99</td>\n",
       "      <td>99</td>\n",
       "      <td>99</td>\n",
       "      <td>99</td>\n",
       "      <td>...</td>\n",
       "      <td>99</td>\n",
       "      <td>99</td>\n",
       "      <td>99</td>\n",
       "      <td>99</td>\n",
       "      <td>99</td>\n",
       "      <td>99</td>\n",
       "      <td>99</td>\n",
       "      <td>99</td>\n",
       "      <td>99</td>\n",
       "      <td>99</td>\n",
       "    </tr>\n",
       "    <tr>\n",
       "      <th>parastatal</th>\n",
       "      <th>parastatal</th>\n",
       "      <td>1768</td>\n",
       "      <td>1768</td>\n",
       "      <td>1768</td>\n",
       "      <td>1768</td>\n",
       "      <td>1624</td>\n",
       "      <td>1768</td>\n",
       "      <td>1626</td>\n",
       "      <td>1768</td>\n",
       "      <td>1768</td>\n",
       "      <td>1768</td>\n",
       "      <td>...</td>\n",
       "      <td>1768</td>\n",
       "      <td>1768</td>\n",
       "      <td>1768</td>\n",
       "      <td>1768</td>\n",
       "      <td>1768</td>\n",
       "      <td>1768</td>\n",
       "      <td>1768</td>\n",
       "      <td>1768</td>\n",
       "      <td>1768</td>\n",
       "      <td>1768</td>\n",
       "    </tr>\n",
       "    <tr>\n",
       "      <th>unknown</th>\n",
       "      <th>unknown</th>\n",
       "      <td>561</td>\n",
       "      <td>561</td>\n",
       "      <td>561</td>\n",
       "      <td>561</td>\n",
       "      <td>533</td>\n",
       "      <td>561</td>\n",
       "      <td>527</td>\n",
       "      <td>561</td>\n",
       "      <td>561</td>\n",
       "      <td>561</td>\n",
       "      <td>...</td>\n",
       "      <td>561</td>\n",
       "      <td>561</td>\n",
       "      <td>561</td>\n",
       "      <td>561</td>\n",
       "      <td>561</td>\n",
       "      <td>561</td>\n",
       "      <td>561</td>\n",
       "      <td>561</td>\n",
       "      <td>561</td>\n",
       "      <td>561</td>\n",
       "    </tr>\n",
       "    <tr>\n",
       "      <th rowspan=\"4\" valign=\"top\">user-group</th>\n",
       "      <th>vwc</th>\n",
       "      <td>40507</td>\n",
       "      <td>40507</td>\n",
       "      <td>40507</td>\n",
       "      <td>40507</td>\n",
       "      <td>37632</td>\n",
       "      <td>40507</td>\n",
       "      <td>37630</td>\n",
       "      <td>40507</td>\n",
       "      <td>40507</td>\n",
       "      <td>40507</td>\n",
       "      <td>...</td>\n",
       "      <td>40507</td>\n",
       "      <td>40507</td>\n",
       "      <td>40507</td>\n",
       "      <td>40507</td>\n",
       "      <td>40507</td>\n",
       "      <td>40507</td>\n",
       "      <td>40507</td>\n",
       "      <td>40507</td>\n",
       "      <td>40507</td>\n",
       "      <td>40507</td>\n",
       "    </tr>\n",
       "    <tr>\n",
       "      <th>water board</th>\n",
       "      <td>2933</td>\n",
       "      <td>2933</td>\n",
       "      <td>2933</td>\n",
       "      <td>2933</td>\n",
       "      <td>2715</td>\n",
       "      <td>2933</td>\n",
       "      <td>2714</td>\n",
       "      <td>2933</td>\n",
       "      <td>2933</td>\n",
       "      <td>2933</td>\n",
       "      <td>...</td>\n",
       "      <td>2933</td>\n",
       "      <td>2933</td>\n",
       "      <td>2933</td>\n",
       "      <td>2933</td>\n",
       "      <td>2933</td>\n",
       "      <td>2933</td>\n",
       "      <td>2933</td>\n",
       "      <td>2933</td>\n",
       "      <td>2933</td>\n",
       "      <td>2933</td>\n",
       "    </tr>\n",
       "    <tr>\n",
       "      <th>wua</th>\n",
       "      <td>2535</td>\n",
       "      <td>2535</td>\n",
       "      <td>2535</td>\n",
       "      <td>2535</td>\n",
       "      <td>2308</td>\n",
       "      <td>2535</td>\n",
       "      <td>2309</td>\n",
       "      <td>2535</td>\n",
       "      <td>2535</td>\n",
       "      <td>2535</td>\n",
       "      <td>...</td>\n",
       "      <td>2535</td>\n",
       "      <td>2535</td>\n",
       "      <td>2535</td>\n",
       "      <td>2535</td>\n",
       "      <td>2535</td>\n",
       "      <td>2535</td>\n",
       "      <td>2535</td>\n",
       "      <td>2535</td>\n",
       "      <td>2535</td>\n",
       "      <td>2535</td>\n",
       "    </tr>\n",
       "    <tr>\n",
       "      <th>wug</th>\n",
       "      <td>6515</td>\n",
       "      <td>6515</td>\n",
       "      <td>6515</td>\n",
       "      <td>6515</td>\n",
       "      <td>6483</td>\n",
       "      <td>6515</td>\n",
       "      <td>6473</td>\n",
       "      <td>6515</td>\n",
       "      <td>6515</td>\n",
       "      <td>6515</td>\n",
       "      <td>...</td>\n",
       "      <td>6515</td>\n",
       "      <td>6515</td>\n",
       "      <td>6515</td>\n",
       "      <td>6515</td>\n",
       "      <td>6515</td>\n",
       "      <td>6515</td>\n",
       "      <td>6515</td>\n",
       "      <td>6515</td>\n",
       "      <td>6515</td>\n",
       "      <td>6515</td>\n",
       "    </tr>\n",
       "  </tbody>\n",
       "</table>\n",
       "<p>12 rows × 37 columns</p>\n",
       "</div>"
      ],
      "text/plain": [
       "                                      id  status_group  amount_tsh  \\\n",
       "management_group management                                          \n",
       "commercial       company             685           685         685   \n",
       "                 private operator   1971          1971        1971   \n",
       "                 trust                78            78          78   \n",
       "                 water authority     904           904         904   \n",
       "other            other               844           844         844   \n",
       "                 other - school       99            99          99   \n",
       "parastatal       parastatal         1768          1768        1768   \n",
       "unknown          unknown             561           561         561   \n",
       "user-group       vwc               40507         40507       40507   \n",
       "                 water board        2933          2933        2933   \n",
       "                 wua                2535          2535        2535   \n",
       "                 wug                6515          6515        6515   \n",
       "\n",
       "                                   date_recorded  funder  gps_height  \\\n",
       "management_group management                                            \n",
       "commercial       company                     685     663         685   \n",
       "                 private operator           1971    1957        1971   \n",
       "                 trust                        78      78          78   \n",
       "                 water authority             904     836         904   \n",
       "other            other                       844     837         844   \n",
       "                 other - school               99      99          99   \n",
       "parastatal       parastatal                 1768    1624        1768   \n",
       "unknown          unknown                     561     533         561   \n",
       "user-group       vwc                       40507   37632       40507   \n",
       "                 water board                2933    2715        2933   \n",
       "                 wua                        2535    2308        2535   \n",
       "                 wug                        6515    6483        6515   \n",
       "\n",
       "                                   installer  longitude  latitude  wpt_name  \\\n",
       "management_group management                                                   \n",
       "commercial       company                 663        685       685       685   \n",
       "                 private operator       1959       1971      1971      1971   \n",
       "                 trust                    78         78        78        78   \n",
       "                 water authority         836        904       904       904   \n",
       "other            other                   831        844       844       844   \n",
       "                 other - school           99         99        99        99   \n",
       "parastatal       parastatal             1626       1768      1768      1768   \n",
       "unknown          unknown                 527        561       561       561   \n",
       "user-group       vwc                   37630      40507     40507     40507   \n",
       "                 water board            2714       2933      2933      2933   \n",
       "                 wua                    2309       2535      2535      2535   \n",
       "                 wug                    6473       6515      6515      6515   \n",
       "\n",
       "                                   ...  payment  payment_type  water_quality  \\\n",
       "management_group management        ...                                         \n",
       "commercial       company           ...      685           685            685   \n",
       "                 private operator  ...     1971          1971           1971   \n",
       "                 trust             ...       78            78             78   \n",
       "                 water authority   ...      904           904            904   \n",
       "other            other             ...      844           844            844   \n",
       "                 other - school    ...       99            99             99   \n",
       "parastatal       parastatal        ...     1768          1768           1768   \n",
       "unknown          unknown           ...      561           561            561   \n",
       "user-group       vwc               ...    40507         40507          40507   \n",
       "                 water board       ...     2933          2933           2933   \n",
       "                 wua               ...     2535          2535           2535   \n",
       "                 wug               ...     6515          6515           6515   \n",
       "\n",
       "                                   quality_group  quantity  source  \\\n",
       "management_group management                                          \n",
       "commercial       company                     685       685     685   \n",
       "                 private operator           1971      1971    1971   \n",
       "                 trust                        78        78      78   \n",
       "                 water authority             904       904     904   \n",
       "other            other                       844       844     844   \n",
       "                 other - school               99        99      99   \n",
       "parastatal       parastatal                 1768      1768    1768   \n",
       "unknown          unknown                     561       561     561   \n",
       "user-group       vwc                       40507     40507   40507   \n",
       "                 water board                2933      2933    2933   \n",
       "                 wua                        2535      2535    2535   \n",
       "                 wug                        6515      6515    6515   \n",
       "\n",
       "                                   source_type  source_class  waterpoint_type  \\\n",
       "management_group management                                                     \n",
       "commercial       company                   685           685              685   \n",
       "                 private operator         1971          1971             1971   \n",
       "                 trust                      78            78               78   \n",
       "                 water authority           904           904              904   \n",
       "other            other                     844           844              844   \n",
       "                 other - school             99            99               99   \n",
       "parastatal       parastatal               1768          1768             1768   \n",
       "unknown          unknown                   561           561              561   \n",
       "user-group       vwc                     40507         40507            40507   \n",
       "                 water board              2933          2933             2933   \n",
       "                 wua                      2535          2535             2535   \n",
       "                 wug                      6515          6515             6515   \n",
       "\n",
       "                                   waterpoint_type_group  \n",
       "management_group management                               \n",
       "commercial       company                             685  \n",
       "                 private operator                   1971  \n",
       "                 trust                                78  \n",
       "                 water authority                     904  \n",
       "other            other                               844  \n",
       "                 other - school                       99  \n",
       "parastatal       parastatal                         1768  \n",
       "unknown          unknown                             561  \n",
       "user-group       vwc                               40507  \n",
       "                 water board                        2933  \n",
       "                 wua                                2535  \n",
       "                 wug                                6515  \n",
       "\n",
       "[12 rows x 37 columns]"
      ]
     },
     "execution_count": 23,
     "metadata": {},
     "output_type": "execute_result"
    }
   ],
   "source": [
    "df.groupby(['management_group','management']).count()"
   ]
  },
  {
   "cell_type": "markdown",
   "metadata": {},
   "source": [
    "By doing a groupby, we find that there are sub-groups to management group.\n",
    "\n",
    "The composition of this sub group are the values of the management.\n",
    "\n",
    "We can therefore drop the management_group since it has the same values."
   ]
  },
  {
   "cell_type": "code",
   "execution_count": 24,
   "metadata": {},
   "outputs": [],
   "source": [
    "df.drop(columns = [\"management\"],index=1,inplace = True)"
   ]
  },
  {
   "cell_type": "code",
   "execution_count": 25,
   "metadata": {},
   "outputs": [
    {
     "data": {
      "text/plain": [
       "(59399, 38)"
      ]
     },
     "execution_count": 25,
     "metadata": {},
     "output_type": "execute_result"
    }
   ],
   "source": [
    "df.shape"
   ]
  },
  {
   "cell_type": "markdown",
   "metadata": {},
   "source": [
    "#### source,source_type and source_class columns"
   ]
  },
  {
   "cell_type": "code",
   "execution_count": 26,
   "metadata": {},
   "outputs": [
    {
     "data": {
      "text/plain": [
       "spring                  17021\n",
       "shallow well            16824\n",
       "machine dbh             11075\n",
       "river                    9612\n",
       "rainwater harvesting     2294\n",
       "hand dtw                  874\n",
       "lake                      765\n",
       "dam                       656\n",
       "other                     212\n",
       "unknown                    66\n",
       "Name: source, dtype: int64"
      ]
     },
     "execution_count": 26,
     "metadata": {},
     "output_type": "execute_result"
    }
   ],
   "source": [
    "df.source.value_counts()"
   ]
  },
  {
   "cell_type": "code",
   "execution_count": 27,
   "metadata": {},
   "outputs": [
    {
     "data": {
      "text/plain": [
       "spring                  17021\n",
       "shallow well            16824\n",
       "borehole                11949\n",
       "river/lake              10377\n",
       "rainwater harvesting     2294\n",
       "dam                       656\n",
       "other                     278\n",
       "Name: source_type, dtype: int64"
      ]
     },
     "execution_count": 27,
     "metadata": {},
     "output_type": "execute_result"
    }
   ],
   "source": [
    "df.source_type.value_counts()"
   ]
  },
  {
   "cell_type": "code",
   "execution_count": 28,
   "metadata": {},
   "outputs": [
    {
     "data": {
      "text/plain": [
       "groundwater    45794\n",
       "surface        13327\n",
       "unknown          278\n",
       "Name: source_class, dtype: int64"
      ]
     },
     "execution_count": 28,
     "metadata": {},
     "output_type": "execute_result"
    }
   ],
   "source": [
    "df.source_class.value_counts()"
   ]
  },
  {
   "cell_type": "code",
   "execution_count": 29,
   "metadata": {},
   "outputs": [
    {
     "data": {
      "text/html": [
       "<div>\n",
       "<style scoped>\n",
       "    .dataframe tbody tr th:only-of-type {\n",
       "        vertical-align: middle;\n",
       "    }\n",
       "\n",
       "    .dataframe tbody tr th {\n",
       "        vertical-align: top;\n",
       "    }\n",
       "\n",
       "    .dataframe thead th {\n",
       "        text-align: right;\n",
       "    }\n",
       "</style>\n",
       "<table border=\"1\" class=\"dataframe\">\n",
       "  <thead>\n",
       "    <tr style=\"text-align: right;\">\n",
       "      <th></th>\n",
       "      <th></th>\n",
       "      <th>id</th>\n",
       "      <th>status_group</th>\n",
       "      <th>amount_tsh</th>\n",
       "      <th>date_recorded</th>\n",
       "      <th>funder</th>\n",
       "      <th>gps_height</th>\n",
       "      <th>installer</th>\n",
       "      <th>longitude</th>\n",
       "      <th>latitude</th>\n",
       "      <th>wpt_name</th>\n",
       "      <th>...</th>\n",
       "      <th>extraction_type_class</th>\n",
       "      <th>management_group</th>\n",
       "      <th>payment</th>\n",
       "      <th>payment_type</th>\n",
       "      <th>water_quality</th>\n",
       "      <th>quality_group</th>\n",
       "      <th>quantity</th>\n",
       "      <th>source</th>\n",
       "      <th>waterpoint_type</th>\n",
       "      <th>waterpoint_type_group</th>\n",
       "    </tr>\n",
       "    <tr>\n",
       "      <th>source_class</th>\n",
       "      <th>source_type</th>\n",
       "      <th></th>\n",
       "      <th></th>\n",
       "      <th></th>\n",
       "      <th></th>\n",
       "      <th></th>\n",
       "      <th></th>\n",
       "      <th></th>\n",
       "      <th></th>\n",
       "      <th></th>\n",
       "      <th></th>\n",
       "      <th></th>\n",
       "      <th></th>\n",
       "      <th></th>\n",
       "      <th></th>\n",
       "      <th></th>\n",
       "      <th></th>\n",
       "      <th></th>\n",
       "      <th></th>\n",
       "      <th></th>\n",
       "      <th></th>\n",
       "      <th></th>\n",
       "    </tr>\n",
       "  </thead>\n",
       "  <tbody>\n",
       "    <tr>\n",
       "      <th rowspan=\"3\" valign=\"top\">groundwater</th>\n",
       "      <th>borehole</th>\n",
       "      <td>11949</td>\n",
       "      <td>11949</td>\n",
       "      <td>11949</td>\n",
       "      <td>11949</td>\n",
       "      <td>11120</td>\n",
       "      <td>11949</td>\n",
       "      <td>11114</td>\n",
       "      <td>11949</td>\n",
       "      <td>11949</td>\n",
       "      <td>11949</td>\n",
       "      <td>...</td>\n",
       "      <td>11949</td>\n",
       "      <td>11949</td>\n",
       "      <td>11949</td>\n",
       "      <td>11949</td>\n",
       "      <td>11949</td>\n",
       "      <td>11949</td>\n",
       "      <td>11949</td>\n",
       "      <td>11949</td>\n",
       "      <td>11949</td>\n",
       "      <td>11949</td>\n",
       "    </tr>\n",
       "    <tr>\n",
       "      <th>shallow well</th>\n",
       "      <td>16824</td>\n",
       "      <td>16824</td>\n",
       "      <td>16824</td>\n",
       "      <td>16824</td>\n",
       "      <td>16302</td>\n",
       "      <td>16824</td>\n",
       "      <td>16286</td>\n",
       "      <td>16824</td>\n",
       "      <td>16824</td>\n",
       "      <td>16824</td>\n",
       "      <td>...</td>\n",
       "      <td>16824</td>\n",
       "      <td>16824</td>\n",
       "      <td>16824</td>\n",
       "      <td>16824</td>\n",
       "      <td>16824</td>\n",
       "      <td>16824</td>\n",
       "      <td>16824</td>\n",
       "      <td>16824</td>\n",
       "      <td>16824</td>\n",
       "      <td>16824</td>\n",
       "    </tr>\n",
       "    <tr>\n",
       "      <th>spring</th>\n",
       "      <td>17021</td>\n",
       "      <td>17021</td>\n",
       "      <td>17021</td>\n",
       "      <td>17021</td>\n",
       "      <td>15870</td>\n",
       "      <td>17021</td>\n",
       "      <td>15870</td>\n",
       "      <td>17021</td>\n",
       "      <td>17021</td>\n",
       "      <td>17021</td>\n",
       "      <td>...</td>\n",
       "      <td>17021</td>\n",
       "      <td>17021</td>\n",
       "      <td>17021</td>\n",
       "      <td>17021</td>\n",
       "      <td>17021</td>\n",
       "      <td>17021</td>\n",
       "      <td>17021</td>\n",
       "      <td>17021</td>\n",
       "      <td>17021</td>\n",
       "      <td>17021</td>\n",
       "    </tr>\n",
       "    <tr>\n",
       "      <th rowspan=\"3\" valign=\"top\">surface</th>\n",
       "      <th>dam</th>\n",
       "      <td>656</td>\n",
       "      <td>656</td>\n",
       "      <td>656</td>\n",
       "      <td>656</td>\n",
       "      <td>647</td>\n",
       "      <td>656</td>\n",
       "      <td>646</td>\n",
       "      <td>656</td>\n",
       "      <td>656</td>\n",
       "      <td>656</td>\n",
       "      <td>...</td>\n",
       "      <td>656</td>\n",
       "      <td>656</td>\n",
       "      <td>656</td>\n",
       "      <td>656</td>\n",
       "      <td>656</td>\n",
       "      <td>656</td>\n",
       "      <td>656</td>\n",
       "      <td>656</td>\n",
       "      <td>656</td>\n",
       "      <td>656</td>\n",
       "    </tr>\n",
       "    <tr>\n",
       "      <th>rainwater harvesting</th>\n",
       "      <td>2294</td>\n",
       "      <td>2294</td>\n",
       "      <td>2294</td>\n",
       "      <td>2294</td>\n",
       "      <td>2098</td>\n",
       "      <td>2294</td>\n",
       "      <td>2095</td>\n",
       "      <td>2294</td>\n",
       "      <td>2294</td>\n",
       "      <td>2294</td>\n",
       "      <td>...</td>\n",
       "      <td>2294</td>\n",
       "      <td>2294</td>\n",
       "      <td>2294</td>\n",
       "      <td>2294</td>\n",
       "      <td>2294</td>\n",
       "      <td>2294</td>\n",
       "      <td>2294</td>\n",
       "      <td>2294</td>\n",
       "      <td>2294</td>\n",
       "      <td>2294</td>\n",
       "    </tr>\n",
       "    <tr>\n",
       "      <th>river/lake</th>\n",
       "      <td>10377</td>\n",
       "      <td>10377</td>\n",
       "      <td>10377</td>\n",
       "      <td>10377</td>\n",
       "      <td>9478</td>\n",
       "      <td>10377</td>\n",
       "      <td>9483</td>\n",
       "      <td>10377</td>\n",
       "      <td>10377</td>\n",
       "      <td>10377</td>\n",
       "      <td>...</td>\n",
       "      <td>10377</td>\n",
       "      <td>10377</td>\n",
       "      <td>10377</td>\n",
       "      <td>10377</td>\n",
       "      <td>10377</td>\n",
       "      <td>10377</td>\n",
       "      <td>10377</td>\n",
       "      <td>10377</td>\n",
       "      <td>10377</td>\n",
       "      <td>10377</td>\n",
       "    </tr>\n",
       "    <tr>\n",
       "      <th>unknown</th>\n",
       "      <th>other</th>\n",
       "      <td>278</td>\n",
       "      <td>278</td>\n",
       "      <td>278</td>\n",
       "      <td>278</td>\n",
       "      <td>249</td>\n",
       "      <td>278</td>\n",
       "      <td>250</td>\n",
       "      <td>278</td>\n",
       "      <td>278</td>\n",
       "      <td>278</td>\n",
       "      <td>...</td>\n",
       "      <td>278</td>\n",
       "      <td>278</td>\n",
       "      <td>278</td>\n",
       "      <td>278</td>\n",
       "      <td>278</td>\n",
       "      <td>278</td>\n",
       "      <td>278</td>\n",
       "      <td>278</td>\n",
       "      <td>278</td>\n",
       "      <td>278</td>\n",
       "    </tr>\n",
       "  </tbody>\n",
       "</table>\n",
       "<p>7 rows × 36 columns</p>\n",
       "</div>"
      ],
      "text/plain": [
       "                                      id  status_group  amount_tsh  \\\n",
       "source_class source_type                                             \n",
       "groundwater  borehole              11949         11949       11949   \n",
       "             shallow well          16824         16824       16824   \n",
       "             spring                17021         17021       17021   \n",
       "surface      dam                     656           656         656   \n",
       "             rainwater harvesting   2294          2294        2294   \n",
       "             river/lake            10377         10377       10377   \n",
       "unknown      other                   278           278         278   \n",
       "\n",
       "                                   date_recorded  funder  gps_height  \\\n",
       "source_class source_type                                               \n",
       "groundwater  borehole                      11949   11120       11949   \n",
       "             shallow well                  16824   16302       16824   \n",
       "             spring                        17021   15870       17021   \n",
       "surface      dam                             656     647         656   \n",
       "             rainwater harvesting           2294    2098        2294   \n",
       "             river/lake                    10377    9478       10377   \n",
       "unknown      other                           278     249         278   \n",
       "\n",
       "                                   installer  longitude  latitude  wpt_name  \\\n",
       "source_class source_type                                                      \n",
       "groundwater  borehole                  11114      11949     11949     11949   \n",
       "             shallow well              16286      16824     16824     16824   \n",
       "             spring                    15870      17021     17021     17021   \n",
       "surface      dam                         646        656       656       656   \n",
       "             rainwater harvesting       2095       2294      2294      2294   \n",
       "             river/lake                 9483      10377     10377     10377   \n",
       "unknown      other                       250        278       278       278   \n",
       "\n",
       "                                   ...  extraction_type_class  \\\n",
       "source_class source_type           ...                          \n",
       "groundwater  borehole              ...                  11949   \n",
       "             shallow well          ...                  16824   \n",
       "             spring                ...                  17021   \n",
       "surface      dam                   ...                    656   \n",
       "             rainwater harvesting  ...                   2294   \n",
       "             river/lake            ...                  10377   \n",
       "unknown      other                 ...                    278   \n",
       "\n",
       "                                   management_group  payment  payment_type  \\\n",
       "source_class source_type                                                     \n",
       "groundwater  borehole                         11949    11949         11949   \n",
       "             shallow well                     16824    16824         16824   \n",
       "             spring                           17021    17021         17021   \n",
       "surface      dam                                656      656           656   \n",
       "             rainwater harvesting              2294     2294          2294   \n",
       "             river/lake                       10377    10377         10377   \n",
       "unknown      other                              278      278           278   \n",
       "\n",
       "                                   water_quality  quality_group  quantity  \\\n",
       "source_class source_type                                                    \n",
       "groundwater  borehole                      11949          11949     11949   \n",
       "             shallow well                  16824          16824     16824   \n",
       "             spring                        17021          17021     17021   \n",
       "surface      dam                             656            656       656   \n",
       "             rainwater harvesting           2294           2294      2294   \n",
       "             river/lake                    10377          10377     10377   \n",
       "unknown      other                           278            278       278   \n",
       "\n",
       "                                   source  waterpoint_type  \\\n",
       "source_class source_type                                     \n",
       "groundwater  borehole               11949            11949   \n",
       "             shallow well           16824            16824   \n",
       "             spring                 17021            17021   \n",
       "surface      dam                      656              656   \n",
       "             rainwater harvesting    2294             2294   \n",
       "             river/lake             10377            10377   \n",
       "unknown      other                    278              278   \n",
       "\n",
       "                                   waterpoint_type_group  \n",
       "source_class source_type                                  \n",
       "groundwater  borehole                              11949  \n",
       "             shallow well                          16824  \n",
       "             spring                                17021  \n",
       "surface      dam                                     656  \n",
       "             rainwater harvesting                   2294  \n",
       "             river/lake                            10377  \n",
       "unknown      other                                   278  \n",
       "\n",
       "[7 rows x 36 columns]"
      ]
     },
     "execution_count": 29,
     "metadata": {},
     "output_type": "execute_result"
    }
   ],
   "source": [
    "df.groupby([\"source_class\",\"source_type\"]).count()"
   ]
  },
  {
   "cell_type": "markdown",
   "metadata": {},
   "source": [
    "The three columns contain the same values\n",
    "\n",
    "we'll drop the source_class and source_type and remain with the source column"
   ]
  },
  {
   "cell_type": "code",
   "execution_count": 30,
   "metadata": {},
   "outputs": [],
   "source": [
    "df.drop(columns = [\"source_class\",\"source_type\"],axis = 1,inplace = True)"
   ]
  },
  {
   "cell_type": "code",
   "execution_count": 31,
   "metadata": {},
   "outputs": [
    {
     "name": "stdout",
     "output_type": "stream",
     "text": [
      "<class 'pandas.core.frame.DataFrame'>\n",
      "Int64Index: 59399 entries, 0 to 59399\n",
      "Data columns (total 36 columns):\n",
      " #   Column                 Non-Null Count  Dtype  \n",
      "---  ------                 --------------  -----  \n",
      " 0   id                     59399 non-null  int64  \n",
      " 1   status_group           59399 non-null  object \n",
      " 2   amount_tsh             59399 non-null  float64\n",
      " 3   date_recorded          59399 non-null  object \n",
      " 4   funder                 55764 non-null  object \n",
      " 5   gps_height             59399 non-null  int64  \n",
      " 6   installer              55744 non-null  object \n",
      " 7   longitude              59399 non-null  float64\n",
      " 8   latitude               59399 non-null  float64\n",
      " 9   wpt_name               59399 non-null  object \n",
      " 10  num_private            59399 non-null  int64  \n",
      " 11  basin                  59399 non-null  object \n",
      " 12  subvillage             59028 non-null  object \n",
      " 13  region                 59399 non-null  object \n",
      " 14  region_code            59399 non-null  int64  \n",
      " 15  district_code          59399 non-null  int64  \n",
      " 16  lga                    59399 non-null  object \n",
      " 17  ward                   59399 non-null  object \n",
      " 18  population             59399 non-null  int64  \n",
      " 19  public_meeting         56066 non-null  object \n",
      " 20  recorded_by            59399 non-null  object \n",
      " 21  scheme_name            31234 non-null  object \n",
      " 22  permit                 56343 non-null  object \n",
      " 23  construction_year      59399 non-null  int64  \n",
      " 24  extraction_type        59399 non-null  object \n",
      " 25  extraction_type_group  59399 non-null  object \n",
      " 26  extraction_type_class  59399 non-null  object \n",
      " 27  management_group       59399 non-null  object \n",
      " 28  payment                59399 non-null  object \n",
      " 29  payment_type           59399 non-null  object \n",
      " 30  water_quality          59399 non-null  object \n",
      " 31  quality_group          59399 non-null  object \n",
      " 32  quantity               59399 non-null  object \n",
      " 33  source                 59399 non-null  object \n",
      " 34  waterpoint_type        59399 non-null  object \n",
      " 35  waterpoint_type_group  59399 non-null  object \n",
      "dtypes: float64(3), int64(7), object(26)\n",
      "memory usage: 16.8+ MB\n"
     ]
    }
   ],
   "source": [
    "df.info()"
   ]
  },
  {
   "cell_type": "markdown",
   "metadata": {},
   "source": [
    "#### waterpoint_type and waterpoint_type_group"
   ]
  },
  {
   "cell_type": "code",
   "execution_count": 32,
   "metadata": {},
   "outputs": [
    {
     "data": {
      "text/plain": [
       "communal standpipe             28521\n",
       "hand pump                      17488\n",
       "other                           6380\n",
       "communal standpipe multiple     6103\n",
       "improved spring                  784\n",
       "cattle trough                    116\n",
       "dam                                7\n",
       "Name: waterpoint_type, dtype: int64"
      ]
     },
     "execution_count": 32,
     "metadata": {},
     "output_type": "execute_result"
    }
   ],
   "source": [
    "df.waterpoint_type.value_counts()"
   ]
  },
  {
   "cell_type": "code",
   "execution_count": 33,
   "metadata": {},
   "outputs": [
    {
     "data": {
      "text/plain": [
       "communal standpipe    34624\n",
       "hand pump             17488\n",
       "other                  6380\n",
       "improved spring         784\n",
       "cattle trough           116\n",
       "dam                       7\n",
       "Name: waterpoint_type_group, dtype: int64"
      ]
     },
     "execution_count": 33,
     "metadata": {},
     "output_type": "execute_result"
    }
   ],
   "source": [
    "df.waterpoint_type_group.value_counts()"
   ]
  },
  {
   "cell_type": "markdown",
   "metadata": {},
   "source": [
    "comparing the value counts, lets retain waterpoint type as it contains more values."
   ]
  },
  {
   "cell_type": "code",
   "execution_count": 34,
   "metadata": {},
   "outputs": [],
   "source": [
    "df.drop(\"waterpoint_type_group\", axis = 1, inplace = True)"
   ]
  },
  {
   "cell_type": "markdown",
   "metadata": {},
   "source": [
    "#### water_quality and quality_group columns"
   ]
  },
  {
   "cell_type": "code",
   "execution_count": 35,
   "metadata": {},
   "outputs": [
    {
     "data": {
      "text/plain": [
       "soft                  50817\n",
       "salty                  4856\n",
       "unknown                1876\n",
       "milky                   804\n",
       "coloured                490\n",
       "salty abandoned         339\n",
       "fluoride                200\n",
       "fluoride abandoned       17\n",
       "Name: water_quality, dtype: int64"
      ]
     },
     "execution_count": 35,
     "metadata": {},
     "output_type": "execute_result"
    }
   ],
   "source": [
    "df.water_quality.value_counts()"
   ]
  },
  {
   "cell_type": "code",
   "execution_count": 36,
   "metadata": {},
   "outputs": [
    {
     "data": {
      "text/plain": [
       "good        50817\n",
       "salty        5195\n",
       "unknown      1876\n",
       "milky         804\n",
       "colored       490\n",
       "fluoride      217\n",
       "Name: quality_group, dtype: int64"
      ]
     },
     "execution_count": 36,
     "metadata": {},
     "output_type": "execute_result"
    }
   ],
   "source": [
    "df.quality_group.value_counts()"
   ]
  },
  {
   "cell_type": "markdown",
   "metadata": {},
   "source": [
    "The two columns contain similar information.\n",
    "\n",
    "we'll drop the quality_group column since it has less information"
   ]
  },
  {
   "cell_type": "code",
   "execution_count": 37,
   "metadata": {},
   "outputs": [],
   "source": [
    "df.drop(\"quality_group\", axis=1,inplace = True)"
   ]
  },
  {
   "cell_type": "markdown",
   "metadata": {},
   "source": [
    "#### extraction_type, extraction_type_group,extraction_class"
   ]
  },
  {
   "cell_type": "code",
   "execution_count": 38,
   "metadata": {},
   "outputs": [
    {
     "data": {
      "text/plain": [
       "gravity                      26779\n",
       "nira/tanira                   8154\n",
       "other                         6430\n",
       "submersible                   4764\n",
       "swn 80                        3670\n",
       "mono                          2865\n",
       "india mark ii                 2400\n",
       "afridev                       1770\n",
       "ksb                           1415\n",
       "other - rope pump              451\n",
       "other - swn 81                 229\n",
       "windmill                       117\n",
       "india mark iii                  98\n",
       "cemo                            90\n",
       "other - play pump               85\n",
       "walimi                          48\n",
       "climax                          32\n",
       "other - mkulima/shinyanga        2\n",
       "Name: extraction_type, dtype: int64"
      ]
     },
     "execution_count": 38,
     "metadata": {},
     "output_type": "execute_result"
    }
   ],
   "source": [
    "df.extraction_type.value_counts()"
   ]
  },
  {
   "cell_type": "code",
   "execution_count": 39,
   "metadata": {},
   "outputs": [
    {
     "data": {
      "text/plain": [
       "gravity            26779\n",
       "nira/tanira         8154\n",
       "other               6430\n",
       "submersible         6179\n",
       "swn 80              3670\n",
       "mono                2865\n",
       "india mark ii       2400\n",
       "afridev             1770\n",
       "rope pump            451\n",
       "other handpump       364\n",
       "other motorpump      122\n",
       "wind-powered         117\n",
       "india mark iii        98\n",
       "Name: extraction_type_group, dtype: int64"
      ]
     },
     "execution_count": 39,
     "metadata": {},
     "output_type": "execute_result"
    }
   ],
   "source": [
    "df.extraction_type_group.value_counts()"
   ]
  },
  {
   "cell_type": "code",
   "execution_count": 40,
   "metadata": {},
   "outputs": [
    {
     "data": {
      "text/plain": [
       "gravity         26779\n",
       "handpump        16456\n",
       "other            6430\n",
       "submersible      6179\n",
       "motorpump        2987\n",
       "rope pump         451\n",
       "wind-powered      117\n",
       "Name: extraction_type_class, dtype: int64"
      ]
     },
     "execution_count": 40,
     "metadata": {},
     "output_type": "execute_result"
    }
   ],
   "source": [
    "df.extraction_type_class.value_counts()"
   ]
  },
  {
   "cell_type": "code",
   "execution_count": 41,
   "metadata": {},
   "outputs": [
    {
     "data": {
      "text/html": [
       "<div>\n",
       "<style scoped>\n",
       "    .dataframe tbody tr th:only-of-type {\n",
       "        vertical-align: middle;\n",
       "    }\n",
       "\n",
       "    .dataframe tbody tr th {\n",
       "        vertical-align: top;\n",
       "    }\n",
       "\n",
       "    .dataframe thead th {\n",
       "        text-align: right;\n",
       "    }\n",
       "</style>\n",
       "<table border=\"1\" class=\"dataframe\">\n",
       "  <thead>\n",
       "    <tr style=\"text-align: right;\">\n",
       "      <th></th>\n",
       "      <th></th>\n",
       "      <th>id</th>\n",
       "      <th>status_group</th>\n",
       "      <th>amount_tsh</th>\n",
       "      <th>date_recorded</th>\n",
       "      <th>funder</th>\n",
       "      <th>gps_height</th>\n",
       "      <th>installer</th>\n",
       "      <th>longitude</th>\n",
       "      <th>latitude</th>\n",
       "      <th>wpt_name</th>\n",
       "      <th>...</th>\n",
       "      <th>permit</th>\n",
       "      <th>construction_year</th>\n",
       "      <th>extraction_type</th>\n",
       "      <th>management_group</th>\n",
       "      <th>payment</th>\n",
       "      <th>payment_type</th>\n",
       "      <th>water_quality</th>\n",
       "      <th>quantity</th>\n",
       "      <th>source</th>\n",
       "      <th>waterpoint_type</th>\n",
       "    </tr>\n",
       "    <tr>\n",
       "      <th>extraction_type_class</th>\n",
       "      <th>extraction_type_group</th>\n",
       "      <th></th>\n",
       "      <th></th>\n",
       "      <th></th>\n",
       "      <th></th>\n",
       "      <th></th>\n",
       "      <th></th>\n",
       "      <th></th>\n",
       "      <th></th>\n",
       "      <th></th>\n",
       "      <th></th>\n",
       "      <th></th>\n",
       "      <th></th>\n",
       "      <th></th>\n",
       "      <th></th>\n",
       "      <th></th>\n",
       "      <th></th>\n",
       "      <th></th>\n",
       "      <th></th>\n",
       "      <th></th>\n",
       "      <th></th>\n",
       "      <th></th>\n",
       "    </tr>\n",
       "  </thead>\n",
       "  <tbody>\n",
       "    <tr>\n",
       "      <th>gravity</th>\n",
       "      <th>gravity</th>\n",
       "      <td>26779</td>\n",
       "      <td>26779</td>\n",
       "      <td>26779</td>\n",
       "      <td>26779</td>\n",
       "      <td>24703</td>\n",
       "      <td>26779</td>\n",
       "      <td>24713</td>\n",
       "      <td>26779</td>\n",
       "      <td>26779</td>\n",
       "      <td>26779</td>\n",
       "      <td>...</td>\n",
       "      <td>25233</td>\n",
       "      <td>26779</td>\n",
       "      <td>26779</td>\n",
       "      <td>26779</td>\n",
       "      <td>26779</td>\n",
       "      <td>26779</td>\n",
       "      <td>26779</td>\n",
       "      <td>26779</td>\n",
       "      <td>26779</td>\n",
       "      <td>26779</td>\n",
       "    </tr>\n",
       "    <tr>\n",
       "      <th rowspan=\"6\" valign=\"top\">handpump</th>\n",
       "      <th>afridev</th>\n",
       "      <td>1770</td>\n",
       "      <td>1770</td>\n",
       "      <td>1770</td>\n",
       "      <td>1770</td>\n",
       "      <td>1668</td>\n",
       "      <td>1770</td>\n",
       "      <td>1665</td>\n",
       "      <td>1770</td>\n",
       "      <td>1770</td>\n",
       "      <td>1770</td>\n",
       "      <td>...</td>\n",
       "      <td>1660</td>\n",
       "      <td>1770</td>\n",
       "      <td>1770</td>\n",
       "      <td>1770</td>\n",
       "      <td>1770</td>\n",
       "      <td>1770</td>\n",
       "      <td>1770</td>\n",
       "      <td>1770</td>\n",
       "      <td>1770</td>\n",
       "      <td>1770</td>\n",
       "    </tr>\n",
       "    <tr>\n",
       "      <th>india mark ii</th>\n",
       "      <td>2400</td>\n",
       "      <td>2400</td>\n",
       "      <td>2400</td>\n",
       "      <td>2400</td>\n",
       "      <td>2358</td>\n",
       "      <td>2400</td>\n",
       "      <td>2358</td>\n",
       "      <td>2400</td>\n",
       "      <td>2400</td>\n",
       "      <td>2400</td>\n",
       "      <td>...</td>\n",
       "      <td>2359</td>\n",
       "      <td>2400</td>\n",
       "      <td>2400</td>\n",
       "      <td>2400</td>\n",
       "      <td>2400</td>\n",
       "      <td>2400</td>\n",
       "      <td>2400</td>\n",
       "      <td>2400</td>\n",
       "      <td>2400</td>\n",
       "      <td>2400</td>\n",
       "    </tr>\n",
       "    <tr>\n",
       "      <th>india mark iii</th>\n",
       "      <td>98</td>\n",
       "      <td>98</td>\n",
       "      <td>98</td>\n",
       "      <td>98</td>\n",
       "      <td>98</td>\n",
       "      <td>98</td>\n",
       "      <td>98</td>\n",
       "      <td>98</td>\n",
       "      <td>98</td>\n",
       "      <td>98</td>\n",
       "      <td>...</td>\n",
       "      <td>98</td>\n",
       "      <td>98</td>\n",
       "      <td>98</td>\n",
       "      <td>98</td>\n",
       "      <td>98</td>\n",
       "      <td>98</td>\n",
       "      <td>98</td>\n",
       "      <td>98</td>\n",
       "      <td>98</td>\n",
       "      <td>98</td>\n",
       "    </tr>\n",
       "    <tr>\n",
       "      <th>nira/tanira</th>\n",
       "      <td>8154</td>\n",
       "      <td>8154</td>\n",
       "      <td>8154</td>\n",
       "      <td>8154</td>\n",
       "      <td>7899</td>\n",
       "      <td>8154</td>\n",
       "      <td>7885</td>\n",
       "      <td>8154</td>\n",
       "      <td>8154</td>\n",
       "      <td>8154</td>\n",
       "      <td>...</td>\n",
       "      <td>7920</td>\n",
       "      <td>8154</td>\n",
       "      <td>8154</td>\n",
       "      <td>8154</td>\n",
       "      <td>8154</td>\n",
       "      <td>8154</td>\n",
       "      <td>8154</td>\n",
       "      <td>8154</td>\n",
       "      <td>8154</td>\n",
       "      <td>8154</td>\n",
       "    </tr>\n",
       "    <tr>\n",
       "      <th>other handpump</th>\n",
       "      <td>364</td>\n",
       "      <td>364</td>\n",
       "      <td>364</td>\n",
       "      <td>364</td>\n",
       "      <td>353</td>\n",
       "      <td>364</td>\n",
       "      <td>354</td>\n",
       "      <td>364</td>\n",
       "      <td>364</td>\n",
       "      <td>364</td>\n",
       "      <td>...</td>\n",
       "      <td>356</td>\n",
       "      <td>364</td>\n",
       "      <td>364</td>\n",
       "      <td>364</td>\n",
       "      <td>364</td>\n",
       "      <td>364</td>\n",
       "      <td>364</td>\n",
       "      <td>364</td>\n",
       "      <td>364</td>\n",
       "      <td>364</td>\n",
       "    </tr>\n",
       "    <tr>\n",
       "      <th>swn 80</th>\n",
       "      <td>3670</td>\n",
       "      <td>3670</td>\n",
       "      <td>3670</td>\n",
       "      <td>3670</td>\n",
       "      <td>3596</td>\n",
       "      <td>3670</td>\n",
       "      <td>3593</td>\n",
       "      <td>3670</td>\n",
       "      <td>3670</td>\n",
       "      <td>3670</td>\n",
       "      <td>...</td>\n",
       "      <td>3655</td>\n",
       "      <td>3670</td>\n",
       "      <td>3670</td>\n",
       "      <td>3670</td>\n",
       "      <td>3670</td>\n",
       "      <td>3670</td>\n",
       "      <td>3670</td>\n",
       "      <td>3670</td>\n",
       "      <td>3670</td>\n",
       "      <td>3670</td>\n",
       "    </tr>\n",
       "    <tr>\n",
       "      <th rowspan=\"2\" valign=\"top\">motorpump</th>\n",
       "      <th>mono</th>\n",
       "      <td>2865</td>\n",
       "      <td>2865</td>\n",
       "      <td>2865</td>\n",
       "      <td>2865</td>\n",
       "      <td>2577</td>\n",
       "      <td>2865</td>\n",
       "      <td>2578</td>\n",
       "      <td>2865</td>\n",
       "      <td>2865</td>\n",
       "      <td>2865</td>\n",
       "      <td>...</td>\n",
       "      <td>2582</td>\n",
       "      <td>2865</td>\n",
       "      <td>2865</td>\n",
       "      <td>2865</td>\n",
       "      <td>2865</td>\n",
       "      <td>2865</td>\n",
       "      <td>2865</td>\n",
       "      <td>2865</td>\n",
       "      <td>2865</td>\n",
       "      <td>2865</td>\n",
       "    </tr>\n",
       "    <tr>\n",
       "      <th>other motorpump</th>\n",
       "      <td>122</td>\n",
       "      <td>122</td>\n",
       "      <td>122</td>\n",
       "      <td>122</td>\n",
       "      <td>122</td>\n",
       "      <td>122</td>\n",
       "      <td>122</td>\n",
       "      <td>122</td>\n",
       "      <td>122</td>\n",
       "      <td>122</td>\n",
       "      <td>...</td>\n",
       "      <td>122</td>\n",
       "      <td>122</td>\n",
       "      <td>122</td>\n",
       "      <td>122</td>\n",
       "      <td>122</td>\n",
       "      <td>122</td>\n",
       "      <td>122</td>\n",
       "      <td>122</td>\n",
       "      <td>122</td>\n",
       "      <td>122</td>\n",
       "    </tr>\n",
       "    <tr>\n",
       "      <th>other</th>\n",
       "      <th>other</th>\n",
       "      <td>6430</td>\n",
       "      <td>6430</td>\n",
       "      <td>6430</td>\n",
       "      <td>6430</td>\n",
       "      <td>6010</td>\n",
       "      <td>6430</td>\n",
       "      <td>6002</td>\n",
       "      <td>6430</td>\n",
       "      <td>6430</td>\n",
       "      <td>6430</td>\n",
       "      <td>...</td>\n",
       "      <td>6050</td>\n",
       "      <td>6430</td>\n",
       "      <td>6430</td>\n",
       "      <td>6430</td>\n",
       "      <td>6430</td>\n",
       "      <td>6430</td>\n",
       "      <td>6430</td>\n",
       "      <td>6430</td>\n",
       "      <td>6430</td>\n",
       "      <td>6430</td>\n",
       "    </tr>\n",
       "    <tr>\n",
       "      <th>rope pump</th>\n",
       "      <th>rope pump</th>\n",
       "      <td>451</td>\n",
       "      <td>451</td>\n",
       "      <td>451</td>\n",
       "      <td>451</td>\n",
       "      <td>448</td>\n",
       "      <td>451</td>\n",
       "      <td>448</td>\n",
       "      <td>451</td>\n",
       "      <td>451</td>\n",
       "      <td>451</td>\n",
       "      <td>...</td>\n",
       "      <td>349</td>\n",
       "      <td>451</td>\n",
       "      <td>451</td>\n",
       "      <td>451</td>\n",
       "      <td>451</td>\n",
       "      <td>451</td>\n",
       "      <td>451</td>\n",
       "      <td>451</td>\n",
       "      <td>451</td>\n",
       "      <td>451</td>\n",
       "    </tr>\n",
       "    <tr>\n",
       "      <th>submersible</th>\n",
       "      <th>submersible</th>\n",
       "      <td>6179</td>\n",
       "      <td>6179</td>\n",
       "      <td>6179</td>\n",
       "      <td>6179</td>\n",
       "      <td>5820</td>\n",
       "      <td>6179</td>\n",
       "      <td>5816</td>\n",
       "      <td>6179</td>\n",
       "      <td>6179</td>\n",
       "      <td>6179</td>\n",
       "      <td>...</td>\n",
       "      <td>5854</td>\n",
       "      <td>6179</td>\n",
       "      <td>6179</td>\n",
       "      <td>6179</td>\n",
       "      <td>6179</td>\n",
       "      <td>6179</td>\n",
       "      <td>6179</td>\n",
       "      <td>6179</td>\n",
       "      <td>6179</td>\n",
       "      <td>6179</td>\n",
       "    </tr>\n",
       "    <tr>\n",
       "      <th>wind-powered</th>\n",
       "      <th>wind-powered</th>\n",
       "      <td>117</td>\n",
       "      <td>117</td>\n",
       "      <td>117</td>\n",
       "      <td>117</td>\n",
       "      <td>112</td>\n",
       "      <td>117</td>\n",
       "      <td>112</td>\n",
       "      <td>117</td>\n",
       "      <td>117</td>\n",
       "      <td>117</td>\n",
       "      <td>...</td>\n",
       "      <td>105</td>\n",
       "      <td>117</td>\n",
       "      <td>117</td>\n",
       "      <td>117</td>\n",
       "      <td>117</td>\n",
       "      <td>117</td>\n",
       "      <td>117</td>\n",
       "      <td>117</td>\n",
       "      <td>117</td>\n",
       "      <td>117</td>\n",
       "    </tr>\n",
       "  </tbody>\n",
       "</table>\n",
       "<p>13 rows × 32 columns</p>\n",
       "</div>"
      ],
      "text/plain": [
       "                                                id  status_group  amount_tsh  \\\n",
       "extraction_type_class extraction_type_group                                    \n",
       "gravity               gravity                26779         26779       26779   \n",
       "handpump              afridev                 1770          1770        1770   \n",
       "                      india mark ii           2400          2400        2400   \n",
       "                      india mark iii            98            98          98   \n",
       "                      nira/tanira             8154          8154        8154   \n",
       "                      other handpump           364           364         364   \n",
       "                      swn 80                  3670          3670        3670   \n",
       "motorpump             mono                    2865          2865        2865   \n",
       "                      other motorpump          122           122         122   \n",
       "other                 other                   6430          6430        6430   \n",
       "rope pump             rope pump                451           451         451   \n",
       "submersible           submersible             6179          6179        6179   \n",
       "wind-powered          wind-powered             117           117         117   \n",
       "\n",
       "                                             date_recorded  funder  \\\n",
       "extraction_type_class extraction_type_group                          \n",
       "gravity               gravity                        26779   24703   \n",
       "handpump              afridev                         1770    1668   \n",
       "                      india mark ii                   2400    2358   \n",
       "                      india mark iii                    98      98   \n",
       "                      nira/tanira                     8154    7899   \n",
       "                      other handpump                   364     353   \n",
       "                      swn 80                          3670    3596   \n",
       "motorpump             mono                            2865    2577   \n",
       "                      other motorpump                  122     122   \n",
       "other                 other                           6430    6010   \n",
       "rope pump             rope pump                        451     448   \n",
       "submersible           submersible                     6179    5820   \n",
       "wind-powered          wind-powered                     117     112   \n",
       "\n",
       "                                             gps_height  installer  longitude  \\\n",
       "extraction_type_class extraction_type_group                                     \n",
       "gravity               gravity                     26779      24713      26779   \n",
       "handpump              afridev                      1770       1665       1770   \n",
       "                      india mark ii                2400       2358       2400   \n",
       "                      india mark iii                 98         98         98   \n",
       "                      nira/tanira                  8154       7885       8154   \n",
       "                      other handpump                364        354        364   \n",
       "                      swn 80                       3670       3593       3670   \n",
       "motorpump             mono                         2865       2578       2865   \n",
       "                      other motorpump               122        122        122   \n",
       "other                 other                        6430       6002       6430   \n",
       "rope pump             rope pump                     451        448        451   \n",
       "submersible           submersible                  6179       5816       6179   \n",
       "wind-powered          wind-powered                  117        112        117   \n",
       "\n",
       "                                             latitude  wpt_name  ...  permit  \\\n",
       "extraction_type_class extraction_type_group                      ...           \n",
       "gravity               gravity                   26779     26779  ...   25233   \n",
       "handpump              afridev                    1770      1770  ...    1660   \n",
       "                      india mark ii              2400      2400  ...    2359   \n",
       "                      india mark iii               98        98  ...      98   \n",
       "                      nira/tanira                8154      8154  ...    7920   \n",
       "                      other handpump              364       364  ...     356   \n",
       "                      swn 80                     3670      3670  ...    3655   \n",
       "motorpump             mono                       2865      2865  ...    2582   \n",
       "                      other motorpump             122       122  ...     122   \n",
       "other                 other                      6430      6430  ...    6050   \n",
       "rope pump             rope pump                   451       451  ...     349   \n",
       "submersible           submersible                6179      6179  ...    5854   \n",
       "wind-powered          wind-powered                117       117  ...     105   \n",
       "\n",
       "                                             construction_year  \\\n",
       "extraction_type_class extraction_type_group                      \n",
       "gravity               gravity                            26779   \n",
       "handpump              afridev                             1770   \n",
       "                      india mark ii                       2400   \n",
       "                      india mark iii                        98   \n",
       "                      nira/tanira                         8154   \n",
       "                      other handpump                       364   \n",
       "                      swn 80                              3670   \n",
       "motorpump             mono                                2865   \n",
       "                      other motorpump                      122   \n",
       "other                 other                               6430   \n",
       "rope pump             rope pump                            451   \n",
       "submersible           submersible                         6179   \n",
       "wind-powered          wind-powered                         117   \n",
       "\n",
       "                                             extraction_type  \\\n",
       "extraction_type_class extraction_type_group                    \n",
       "gravity               gravity                          26779   \n",
       "handpump              afridev                           1770   \n",
       "                      india mark ii                     2400   \n",
       "                      india mark iii                      98   \n",
       "                      nira/tanira                       8154   \n",
       "                      other handpump                     364   \n",
       "                      swn 80                            3670   \n",
       "motorpump             mono                              2865   \n",
       "                      other motorpump                    122   \n",
       "other                 other                             6430   \n",
       "rope pump             rope pump                          451   \n",
       "submersible           submersible                       6179   \n",
       "wind-powered          wind-powered                       117   \n",
       "\n",
       "                                             management_group  payment  \\\n",
       "extraction_type_class extraction_type_group                              \n",
       "gravity               gravity                           26779    26779   \n",
       "handpump              afridev                            1770     1770   \n",
       "                      india mark ii                      2400     2400   \n",
       "                      india mark iii                       98       98   \n",
       "                      nira/tanira                        8154     8154   \n",
       "                      other handpump                      364      364   \n",
       "                      swn 80                             3670     3670   \n",
       "motorpump             mono                               2865     2865   \n",
       "                      other motorpump                     122      122   \n",
       "other                 other                              6430     6430   \n",
       "rope pump             rope pump                           451      451   \n",
       "submersible           submersible                        6179     6179   \n",
       "wind-powered          wind-powered                        117      117   \n",
       "\n",
       "                                             payment_type  water_quality  \\\n",
       "extraction_type_class extraction_type_group                                \n",
       "gravity               gravity                       26779          26779   \n",
       "handpump              afridev                        1770           1770   \n",
       "                      india mark ii                  2400           2400   \n",
       "                      india mark iii                   98             98   \n",
       "                      nira/tanira                    8154           8154   \n",
       "                      other handpump                  364            364   \n",
       "                      swn 80                         3670           3670   \n",
       "motorpump             mono                           2865           2865   \n",
       "                      other motorpump                 122            122   \n",
       "other                 other                          6430           6430   \n",
       "rope pump             rope pump                       451            451   \n",
       "submersible           submersible                    6179           6179   \n",
       "wind-powered          wind-powered                    117            117   \n",
       "\n",
       "                                             quantity  source  waterpoint_type  \n",
       "extraction_type_class extraction_type_group                                     \n",
       "gravity               gravity                   26779   26779            26779  \n",
       "handpump              afridev                    1770    1770             1770  \n",
       "                      india mark ii              2400    2400             2400  \n",
       "                      india mark iii               98      98               98  \n",
       "                      nira/tanira                8154    8154             8154  \n",
       "                      other handpump              364     364              364  \n",
       "                      swn 80                     3670    3670             3670  \n",
       "motorpump             mono                       2865    2865             2865  \n",
       "                      other motorpump             122     122              122  \n",
       "other                 other                      6430    6430             6430  \n",
       "rope pump             rope pump                   451     451              451  \n",
       "submersible           submersible                6179    6179             6179  \n",
       "wind-powered          wind-powered                117     117              117  \n",
       "\n",
       "[13 rows x 32 columns]"
      ]
     },
     "execution_count": 41,
     "metadata": {},
     "output_type": "execute_result"
    }
   ],
   "source": [
    "df.groupby(['extraction_type_class','extraction_type_group']).count()"
   ]
  },
  {
   "cell_type": "markdown",
   "metadata": {},
   "source": [
    "The three columns have similar information\n",
    "\n",
    "extraction_type_group is a subgroup of extraction_type_class .\n",
    "\n",
    "We therefore drop all the other columns and remain with extraction_type column"
   ]
  },
  {
   "cell_type": "code",
   "execution_count": 42,
   "metadata": {},
   "outputs": [],
   "source": [
    "df.drop(columns = [\"extraction_type_group\",\"extraction_type\"], axis = 1, inplace = True)"
   ]
  },
  {
   "cell_type": "markdown",
   "metadata": {},
   "source": [
    "#### payment and payment_type column"
   ]
  },
  {
   "cell_type": "code",
   "execution_count": 43,
   "metadata": {},
   "outputs": [
    {
     "data": {
      "text/plain": [
       "never pay                25347\n",
       "pay per bucket            8985\n",
       "pay monthly               8300\n",
       "unknown                   8157\n",
       "pay when scheme fails     3914\n",
       "pay annually              3642\n",
       "other                     1054\n",
       "Name: payment, dtype: int64"
      ]
     },
     "execution_count": 43,
     "metadata": {},
     "output_type": "execute_result"
    }
   ],
   "source": [
    "df.payment.value_counts()"
   ]
  },
  {
   "cell_type": "code",
   "execution_count": 44,
   "metadata": {},
   "outputs": [
    {
     "data": {
      "text/plain": [
       "never pay     25347\n",
       "per bucket     8985\n",
       "monthly        8300\n",
       "unknown        8157\n",
       "on failure     3914\n",
       "annually       3642\n",
       "other          1054\n",
       "Name: payment_type, dtype: int64"
      ]
     },
     "execution_count": 44,
     "metadata": {},
     "output_type": "execute_result"
    }
   ],
   "source": [
    "df.payment_type.value_counts()"
   ]
  },
  {
   "cell_type": "markdown",
   "metadata": {},
   "source": [
    "The two columns have similar values.\n",
    "\n",
    "we drop the payment_type and retain payment"
   ]
  },
  {
   "cell_type": "code",
   "execution_count": 45,
   "metadata": {},
   "outputs": [],
   "source": [
    "df.drop(\"payment_type\", axis = 1,inplace = True)"
   ]
  },
  {
   "cell_type": "code",
   "execution_count": 46,
   "metadata": {},
   "outputs": [
    {
     "data": {
      "text/plain": [
       "(59399, 31)"
      ]
     },
     "execution_count": 46,
     "metadata": {},
     "output_type": "execute_result"
    }
   ],
   "source": [
    "df.shape"
   ]
  },
  {
   "cell_type": "code",
   "execution_count": 47,
   "metadata": {},
   "outputs": [
    {
     "name": "stdout",
     "output_type": "stream",
     "text": [
      "<class 'pandas.core.frame.DataFrame'>\n",
      "Int64Index: 59399 entries, 0 to 59399\n",
      "Data columns (total 31 columns):\n",
      " #   Column                 Non-Null Count  Dtype  \n",
      "---  ------                 --------------  -----  \n",
      " 0   id                     59399 non-null  int64  \n",
      " 1   status_group           59399 non-null  object \n",
      " 2   amount_tsh             59399 non-null  float64\n",
      " 3   date_recorded          59399 non-null  object \n",
      " 4   funder                 55764 non-null  object \n",
      " 5   gps_height             59399 non-null  int64  \n",
      " 6   installer              55744 non-null  object \n",
      " 7   longitude              59399 non-null  float64\n",
      " 8   latitude               59399 non-null  float64\n",
      " 9   wpt_name               59399 non-null  object \n",
      " 10  num_private            59399 non-null  int64  \n",
      " 11  basin                  59399 non-null  object \n",
      " 12  subvillage             59028 non-null  object \n",
      " 13  region                 59399 non-null  object \n",
      " 14  region_code            59399 non-null  int64  \n",
      " 15  district_code          59399 non-null  int64  \n",
      " 16  lga                    59399 non-null  object \n",
      " 17  ward                   59399 non-null  object \n",
      " 18  population             59399 non-null  int64  \n",
      " 19  public_meeting         56066 non-null  object \n",
      " 20  recorded_by            59399 non-null  object \n",
      " 21  scheme_name            31234 non-null  object \n",
      " 22  permit                 56343 non-null  object \n",
      " 23  construction_year      59399 non-null  int64  \n",
      " 24  extraction_type_class  59399 non-null  object \n",
      " 25  management_group       59399 non-null  object \n",
      " 26  payment                59399 non-null  object \n",
      " 27  water_quality          59399 non-null  object \n",
      " 28  quantity               59399 non-null  object \n",
      " 29  source                 59399 non-null  object \n",
      " 30  waterpoint_type        59399 non-null  object \n",
      "dtypes: float64(3), int64(7), object(21)\n",
      "memory usage: 14.5+ MB\n"
     ]
    }
   ],
   "source": [
    "df.info()"
   ]
  },
  {
   "cell_type": "code",
   "execution_count": 48,
   "metadata": {},
   "outputs": [],
   "source": [
    "df.drop(columns=['wpt_name','scheme_name',\n",
    "                 'region_code','district_code',\n",
    "                 \"recorded_by\",'num_private','subvillage','amount_tsh',\n",
    "                 ],inplace=True )"
   ]
  },
  {
   "cell_type": "markdown",
   "metadata": {},
   "source": [
    "Dropped these columns after assessing the dataframe and coming to a conclusion that they do not contain crucial information that would be required for our modelling process"
   ]
  },
  {
   "cell_type": "code",
   "execution_count": 49,
   "metadata": {},
   "outputs": [
    {
     "data": {
      "text/plain": [
       "(59399, 23)"
      ]
     },
     "execution_count": 49,
     "metadata": {},
     "output_type": "execute_result"
    }
   ],
   "source": [
    "df.shape"
   ]
  },
  {
   "cell_type": "code",
   "execution_count": 50,
   "metadata": {},
   "outputs": [
    {
     "data": {
      "text/plain": [
       "DWE                     17402\n",
       "Government               1825\n",
       "RWE                      1206\n",
       "Commu                    1060\n",
       "DANIDA                   1050\n",
       "                        ...  \n",
       "RC Njoro                    1\n",
       "ANSWAR                      1\n",
       "DDSA                        1\n",
       "SIMBA LODGE                 1\n",
       "Ramadhani M. Mvugalo        1\n",
       "Name: installer, Length: 2145, dtype: int64"
      ]
     },
     "execution_count": 50,
     "metadata": {},
     "output_type": "execute_result"
    }
   ],
   "source": [
    "df.installer.value_counts()"
   ]
  },
  {
   "cell_type": "code",
   "execution_count": 51,
   "metadata": {},
   "outputs": [
    {
     "data": {
      "text/plain": [
       "3655"
      ]
     },
     "execution_count": 51,
     "metadata": {},
     "output_type": "execute_result"
    }
   ],
   "source": [
    "df.installer.isna().sum()"
   ]
  },
  {
   "cell_type": "code",
   "execution_count": 52,
   "metadata": {},
   "outputs": [
    {
     "data": {
      "text/plain": [
       "0                    Roman\n",
       "2             World vision\n",
       "3                   UNICEF\n",
       "4                  Artisan\n",
       "5                      DWE\n",
       "6                     DWSP\n",
       "7                      DWE\n",
       "8                Water Aid\n",
       "9                  Artisan\n",
       "10                 Private\n",
       "11                  DANIDA\n",
       "12            World vision\n",
       "13    Lawatefuka water sup\n",
       "14                  WEDECO\n",
       "15                     DWE\n",
       "16                     DWE\n",
       "17                     DWE\n",
       "18                     DWE\n",
       "19                   Danid\n",
       "20                     TWE\n",
       "21                     DWE\n",
       "22                     DWE\n",
       "23                     ISF\n",
       "24                     DWE\n",
       "25                     DWE\n",
       "26             Kilolo Star\n",
       "27                     DWE\n",
       "28        District council\n",
       "29    Lawatefuka water sup\n",
       "30                   Water\n",
       "31                      WU\n",
       "32                     DWE\n",
       "33                     DWE\n",
       "34                     NaN\n",
       "35               Not known\n",
       "36      Central government\n",
       "37                     DWE\n",
       "38                    CEFA\n",
       "39                     DWE\n",
       "40                     DWE\n",
       "41                   Commu\n",
       "42                   Accra\n",
       "43                     NaN\n",
       "44                     DWE\n",
       "45            World Vision\n",
       "46                     LGA\n",
       "47                     NaN\n",
       "48                    CEFA\n",
       "49                     DWE\n",
       "50                   MUWSA\n",
       "Name: installer, dtype: object"
      ]
     },
     "execution_count": 52,
     "metadata": {},
     "output_type": "execute_result"
    }
   ],
   "source": [
    "df[\"installer\"].head(50)"
   ]
  },
  {
   "cell_type": "code",
   "execution_count": 53,
   "metadata": {},
   "outputs": [
    {
     "data": {
      "text/plain": [
       "59350              Government\n",
       "59351                       0\n",
       "59352    KKKT _ Konde and DWE\n",
       "59353                   Sacso\n",
       "59354                      DW\n",
       "59355                     DWE\n",
       "59356                   TASAF\n",
       "59357                     NaN\n",
       "59358                     DWE\n",
       "59359                  HESAWA\n",
       "59360                     DWE\n",
       "59361                     TLC\n",
       "59362                   SHIPO\n",
       "59363            SINGIDA YETU\n",
       "59364                      HE\n",
       "59365                     DWE\n",
       "59366                     NaN\n",
       "59367                   Commu\n",
       "59368                    Gove\n",
       "59369               RC Church\n",
       "59370                     NaN\n",
       "59371                     DWE\n",
       "59372                     TLC\n",
       "59373                  Distri\n",
       "59374                     DWE\n",
       "59375                     DWE\n",
       "59376                     NaN\n",
       "59377              Government\n",
       "59378                    ACRA\n",
       "59379                      DO\n",
       "59380                   Roman\n",
       "59381                     DWE\n",
       "59382                     DWE\n",
       "59383              World bank\n",
       "59384                 CONCERN\n",
       "59385                JAICA CO\n",
       "59386                     DWE\n",
       "59387                       0\n",
       "59388                     DWE\n",
       "59389                     DWE\n",
       "59390                     DWE\n",
       "59391              Government\n",
       "59392              Government\n",
       "59393                 Private\n",
       "59394                ML appro\n",
       "59395                     CES\n",
       "59396                    Cefa\n",
       "59397                     NaN\n",
       "59398                    Musa\n",
       "59399                   World\n",
       "Name: installer, dtype: object"
      ]
     },
     "execution_count": 53,
     "metadata": {},
     "output_type": "execute_result"
    }
   ],
   "source": [
    "df[\"installer\"].tail(50)"
   ]
  },
  {
   "cell_type": "code",
   "execution_count": 54,
   "metadata": {},
   "outputs": [],
   "source": [
    "df['installer'].fillna(value='Unknown',inplace=True)"
   ]
  },
  {
   "cell_type": "code",
   "execution_count": 55,
   "metadata": {},
   "outputs": [
    {
     "data": {
      "text/plain": [
       "47237"
      ]
     },
     "execution_count": 55,
     "metadata": {},
     "output_type": "execute_result"
    }
   ],
   "source": [
    "df['installer'].value_counts().head(100).sum()"
   ]
  },
  {
   "cell_type": "code",
   "execution_count": 56,
   "metadata": {},
   "outputs": [],
   "source": [
    "df['installer'].replace(to_replace = '0', value ='Unknown' , inplace=True)"
   ]
  },
  {
   "cell_type": "code",
   "execution_count": 57,
   "metadata": {},
   "outputs": [],
   "source": [
    "df['installer'].replace(to_replace = ('District Water Department', 'District water depar','Distric Water Department'),\n",
    "                        value ='District water department' , inplace=True)\n",
    "\n",
    "df['installer'].replace(to_replace = ('FinW','Fini water','FINI WATER'), value ='Fini Water' , inplace=True)\n",
    "df['installer'].replace(to_replace = 'JAICA', value ='Jaica' , inplace=True)\n",
    "\n",
    "df['installer'].replace(to_replace = ('COUN', 'District COUNCIL', 'DISTRICT COUNCIL','District Counci', \n",
    "                                      'District Council','Council','Counc','District  Council','Distri'),\n",
    "                                    value ='District council' , inplace=True)\n",
    "\n",
    "df['installer'].replace(to_replace = ('RC CHURCH', 'RC Churc', 'RC','RC Ch','RC C', 'RC CH','RC church', \n",
    "                                      'RC CATHORIC',) , value ='RC Church' , inplace=True)\n",
    "\n",
    "df['installer'].replace(to_replace = ('Central Government','Tanzania Government',\n",
    "                                       'central government','Cental Government', 'Cebtral Government', \n",
    "                                      'Tanzanian Government','Tanzania government', 'Centra Government' ,\n",
    "                                      'CENTRAL GOVERNMENT', 'TANZANIAN GOVERNMENT','Central govt', 'Centr', \n",
    "                                      'Centra govt') , value ='Central government' , inplace=True)\n",
    "\n",
    "df['installer'].replace(to_replace = ('World vision', 'World Division','World Vision'),\n",
    "                                        value ='world vision' , inplace=True)\n",
    "\n",
    "df['installer'].replace(to_replace = ('Unisef','UNICEF'),value ='Unicef' , inplace=True)\n",
    "df['installer'].replace(to_replace = 'DANID', value ='DANIDA' , inplace=True)\n",
    "\n",
    "df['installer'].replace(to_replace = ('villigers', 'villager', 'Villagers', 'Villa', 'Village', 'Villi', \n",
    "                                      'Village Council','Village Counil', 'Villages', 'Vill', 'Village community', \n",
    "                                      'Villaers', 'Village Community', 'Villag','Villege Council', 'Village council',\n",
    "                                      'Village  Council','Villagerd', 'Villager', 'Village Technician',\n",
    "                                      'Village Office','Village community members'),\n",
    "                                        value ='villagers' , inplace=True)\n",
    "\n",
    "df['installer'].replace(to_replace =('Commu','Communit','commu','COMMU', 'COMMUNITY') ,\n",
    "                                        value ='Community' , inplace=True)\n",
    "\n",
    "df['installer'].replace(to_replace = ('GOVERNMENT', 'GOVER', 'GOVERNME', 'GOVERM','GOVERN','Gover','Gove',\n",
    "                                      'Governme','Governmen' ) ,value ='Government' , inplace=True)\n",
    "\n",
    "df['installer'].replace(to_replace = 'Hesawa' ,value ='HESAWA' , inplace=True)"
   ]
  },
  {
   "cell_type": "code",
   "execution_count": 58,
   "metadata": {},
   "outputs": [],
   "source": [
    "df['installer'].replace(to_replace = ('Colonial Government') , value ='Colonial government' , inplace=True)\n",
    "df['installer'].replace(to_replace = ('Government of Misri') , value ='Misri Government' , inplace=True)\n",
    "df['installer'].replace(to_replace = ('Italy government') , value ='Italian government' , inplace=True)\n",
    "df['installer'].replace(to_replace = ('British colonial government') , value ='British government' , inplace=True)\n",
    "df['installer'].replace(to_replace = ('Concern /government') , value ='Concern/Government' , inplace=True)\n",
    "df['installer'].replace(to_replace = ('Village Government') , value ='Village government' , inplace=True)\n",
    "df['installer'].replace(to_replace = ('Government and Community') , value ='Government /Community' , inplace=True)\n",
    "df['installer'].replace(to_replace = ('Cetral government /RC') , value ='RC church/Central Gover' , inplace=True)\n",
    "df['installer'].replace(to_replace = ('Government /TCRS','Government/TCRS') , value ='TCRS /Government' , inplace=True)\n",
    "df['installer'].replace(to_replace = ('ADRA /Government') , value ='ADRA/Government' , inplace=True)"
   ]
  },
  {
   "cell_type": "markdown",
   "metadata": {},
   "source": [
    "We checked the first 100 value counts of installer column. Because we realized some installer names are written with mistake and given as different like 'District Council' and 'District council'. So, we will change the values which we realied. The first 100 value counts contains 47237 values. It means 79.5% of data is checked.\n",
    "\n",
    "Now we want to see most common 20 values and visualize them to see the functionality. For this plot, we will not take the values which are smaller than 400. Because this amount does not have majority in this data and it is not good to see thousands of values in same graph."
   ]
  },
  {
   "cell_type": "code",
   "execution_count": 59,
   "metadata": {},
   "outputs": [],
   "source": [
    "df_1 = df.loc[df['installer']== 'DWE']\n",
    "df_2 = df.loc[df['installer']== 'Unknown']              \n",
    "df_3 = df.loc[df['installer']== 'Government'] \n",
    "df_4 = df.loc[df['installer']== 'Community'] \n",
    "df_5 = df.loc[df['installer']== 'DANIDA'] \n",
    "df_6 = df.loc[df['installer']== 'RWE'] \n",
    "df_7 = df.loc[df['installer']== 'District council'] \n",
    "df_8 = df.loc[df['installer']== 'Central government']\n",
    "df_9 = df.loc[df['installer']== 'KKKT'] \n",
    "df_10 = df.loc[df['installer']== 'HESAWA'] \n",
    "df_11 = df.loc[df['installer']== 'TCRS'] \n",
    "df_12 = df.loc[df['installer']== 'world vision'] \n",
    "df_13 = df.loc[df['installer']== 'CES'] \n",
    "df_14 = df.loc[df['installer']== 'Fini Water'] \n",
    "df_15 = df.loc[df['installer']== 'RC Church'] \n",
    "df_16 = df.loc[df['installer']== 'villagers']\n",
    "df_17 = df.loc[df['installer']== 'LGA']\n",
    "df_installer = pd.concat([df_1,df_2,df_3,df_4,df_5,df_6,df_7,df_8,df_9,df_10,df_11,df_12,\n",
    "                          df_13,df_14,df_15,df_16,df_17], ignore_index=True)"
   ]
  },
  {
   "cell_type": "markdown",
   "metadata": {},
   "source": [
    "Assessing the different installers in order to gauge the functionality of the pumps they have installed."
   ]
  },
  {
   "cell_type": "code",
   "execution_count": 60,
   "metadata": {},
   "outputs": [
    {
     "data": {
      "image/png": "[encoded data removed]",
      "text/plain": [
       "<Figure size 1872x720 with 1 Axes>"
      ]
     },
     "metadata": {
      "needs_background": "light"
     },
     "output_type": "display_data"
    }
   ],
   "source": [
    "plt.figure(figsize=(26,10))\n",
    "ax = sns.countplot(x='installer', hue=\"status_group\", data=df_installer)"
   ]
  },
  {
   "cell_type": "code",
   "execution_count": 61,
   "metadata": {},
   "outputs": [],
   "source": [
    "df['installer_cat'] = df['installer'] # To make new categorizes, creating new column"
   ]
  },
  {
   "cell_type": "code",
   "execution_count": 62,
   "metadata": {},
   "outputs": [],
   "source": [
    "#df_test['installer_cat'] = df_test['installer']"
   ]
  },
  {
   "cell_type": "code",
   "execution_count": 63,
   "metadata": {},
   "outputs": [],
   "source": [
    "installer_data = ['DWE','Unknown','Government','Community','DANIDA','RWE','District council', 'Central government',\n",
    "         'KKKT','HESAWA','TCRS', 'world vision', 'Fini Water', 'RC Church','villagers','LGA']\n",
    "\n",
    "\n",
    "df.loc[~df[\"installer_cat\"].isin(installer_data), \"installer_cat\"] = \"Others\""
   ]
  },
  {
   "cell_type": "markdown",
   "metadata": {},
   "source": [
    "#### funder column"
   ]
  },
  {
   "cell_type": "code",
   "execution_count": 64,
   "metadata": {},
   "outputs": [
    {
     "data": {
      "text/plain": [
       "1897"
      ]
     },
     "execution_count": 64,
     "metadata": {},
     "output_type": "execute_result"
    }
   ],
   "source": [
    "df.funder.nunique()"
   ]
  },
  {
   "cell_type": "code",
   "execution_count": 65,
   "metadata": {},
   "outputs": [],
   "source": [
    "df['funder'].fillna(value='Unknown',inplace=True)\n",
    "df['funder'].replace(to_replace = '0', value ='Unknown' , inplace=True)"
   ]
  },
  {
   "cell_type": "markdown",
   "metadata": {},
   "source": [
    "The funder column has 1896 unique values that are highly categorical.\n",
    "\n",
    "We'll first  replace the null values with unknown. \n",
    "\n",
    "We'll take the first 30 and assign the other column as others."
   ]
  },
  {
   "cell_type": "code",
   "execution_count": 66,
   "metadata": {},
   "outputs": [
    {
     "data": {
      "text/plain": [
       "Government Of Tanzania    9084\n",
       "Unknown                   4416\n",
       "Danida                    3114\n",
       "Hesawa                    2202\n",
       "Rwssp                     1374\n",
       "World Bank                1349\n",
       "Kkkt                      1287\n",
       "World Vision              1246\n",
       "Unicef                    1057\n",
       "Tasaf                      877\n",
       "District Council           843\n",
       "Dhv                        829\n",
       "Private Individual         826\n",
       "Dwsp                       811\n",
       "Norad                      765\n",
       "Germany Republi            610\n",
       "Tcrs                       602\n",
       "Ministry Of Water          590\n",
       "Water                      583\n",
       "Dwe                        484\n",
       "Netherlands                470\n",
       "Hifab                      450\n",
       "Adb                        448\n",
       "Lga                        442\n",
       "Amref                      425\n",
       "Fini Water                 393\n",
       "Oxfam                      359\n",
       "Wateraid                   333\n",
       "Rc Church                  321\n",
       "Isf                        316\n",
       "Name: funder, dtype: int64"
      ]
     },
     "execution_count": 66,
     "metadata": {},
     "output_type": "execute_result"
    }
   ],
   "source": [
    "df.funder.value_counts().head(30)"
   ]
  },
  {
   "cell_type": "code",
   "execution_count": 67,
   "metadata": {},
   "outputs": [],
   "source": [
    "df1 = df.loc[df['funder']== 'Government Of Tanzania']\n",
    "df2 = df.loc[df['funder']== 'Unknown']              \n",
    "df3 = df.loc[df['funder']== 'Danida'] \n",
    "df4 = df.loc[df['funder']== 'Hesawa'] \n",
    "df5 = df.loc[df['funder']== 'Rwssp'] \n",
    "df6 = df.loc[df['funder']== 'World Bank'] \n",
    "df7 = df.loc[df['funder']== 'Kkkt'] \n",
    "df8 = df.loc[df['funder']== 'World Vision']\n",
    "df9 = df.loc[df['funder']== 'Unicef'] \n",
    "df10 = df.loc[df['funder']== 'Tasaf'] \n",
    "df11 = df.loc[df['funder']== 'District Council'] \n",
    "df12 = df.loc[df['funder']== 'Dhv'] \n",
    "df13 = df.loc[df['funder']== 'Private Individual'] \n",
    "df14 = df.loc[df['funder']== 'Dwsp'] \n",
    "df15 = df.loc[df['funder']== 'Norad'] \n",
    "df16 = df.loc[df['funder']== 'Germany Republi']\n",
    "df17 = df.loc[df['funder']== 'Tcrs']\n",
    "df18 = df.loc[df['funder']== 'Ministry Of Water']\n",
    "df19 = df.loc[df['funder']== 'Water']\n",
    "df20 = df.loc[df['funder']== 'Dwe']\n",
    "df21 = df.loc[df['funder']== 'Netherlands']\n",
    "df22 = df.loc[df['funder']== 'Hifab']\n",
    "df23 = df.loc[df['funder']== 'Adb']\n",
    "df24 = df.loc[df['funder']== 'Lga']\n",
    "df25 = df.loc[df['funder']== 'Amref']\n",
    "df26 = df.loc[df['funder']== 'Fini Water']\n",
    "df27 = df.loc[df['funder']== 'Oxfam']\n",
    "df28 = df.loc[df['funder']== 'Wateraid']\n",
    "df29 = df.loc[df['funder']== 'Rc Church']\n",
    "df30 = df.loc[df['funder']== 'Isf']"
   ]
  },
  {
   "cell_type": "code",
   "execution_count": 68,
   "metadata": {},
   "outputs": [],
   "source": [
    "df_funder = pd.concat([df1,df2,df3,df4,df5,df6,df7,df8,df9,df10,df11,df12,\n",
    "                          df13,df14,df15,df16,df17,df18,df19,df20,df21,df22,df23,df24,df25,df26,df27,df28,df29,df30], ignore_index=True)"
   ]
  },
  {
   "cell_type": "code",
   "execution_count": 69,
   "metadata": {},
   "outputs": [],
   "source": [
    "df['funder_cat'] = df['funder'] #creating new column\n",
    "\n",
    "c_fund = ['Danida','Unknown','Government Of Tanzania','Hesawa','Rwssp','World Bank','Kkkt', 'World Vision',\n",
    "         'Unicef','Tasaf','District Council', 'Dhv', 'Private Individual', 'Dwsp','Norad','Germany Republi',\n",
    "         'Tcrs','Ministry Of Water','Water','Dwe','Netherlands','Hifab','Adb','Lga','Amref','Fini Water','Oxfam','Wateraid','Rc Church','Isf']\n",
    "    \n",
    "\n",
    "df.loc[~df[\"funder_cat\"].isin(c_fund), \"funder_cat\"] = \"Others\""
   ]
  },
  {
   "cell_type": "code",
   "execution_count": 112,
   "metadata": {},
   "outputs": [
    {
     "data": {
      "image/png": "[encoded data removed]",
      "text/plain": [
       "<Figure size 1872x720 with 1 Axes>"
      ]
     },
     "metadata": {
      "needs_background": "light"
     },
     "output_type": "display_data"
    }
   ],
   "source": [
    "plt.figure(figsize=(26,10))\n",
    "ax = sns.countplot(x='funder', hue=\"status_group\", data=df_funder)"
   ]
  },
  {
   "cell_type": "code",
   "execution_count": 70,
   "metadata": {},
   "outputs": [
    {
     "data": {
      "text/plain": [
       "31"
      ]
     },
     "execution_count": 70,
     "metadata": {},
     "output_type": "execute_result"
    }
   ],
   "source": [
    "df['funder_cat'].nunique() "
   ]
  },
  {
   "cell_type": "code",
   "execution_count": 71,
   "metadata": {},
   "outputs": [
    {
     "data": {
      "text/plain": [
       "array(['Others', 'Unicef', 'Dwsp', 'Rwssp', 'Wateraid', 'Danida',\n",
       "       'World Vision', 'Hesawa', 'Isf', 'Government Of Tanzania', 'Water',\n",
       "       'Private Individual', 'Unknown', 'Lga', 'District Council', 'Kkkt',\n",
       "       'Norad', 'Dwe', 'Rc Church', 'Tcrs', 'Germany Republi',\n",
       "       'Netherlands', 'Tasaf', 'World Bank', 'Fini Water', 'Dhv', 'Amref',\n",
       "       'Ministry Of Water', 'Adb', 'Oxfam', 'Hifab'], dtype=object)"
      ]
     },
     "execution_count": 71,
     "metadata": {},
     "output_type": "execute_result"
    }
   ],
   "source": [
    "df.funder_cat.unique()"
   ]
  },
  {
   "cell_type": "markdown",
   "metadata": {},
   "source": [
    "The funder column has 1896 unique values that are highly categorical.\n",
    "\n",
    "We'll take the first 30 and assign the other column as others."
   ]
  },
  {
   "cell_type": "markdown",
   "metadata": {},
   "source": [
    "#### construction_year "
   ]
  },
  {
   "cell_type": "code",
   "execution_count": 72,
   "metadata": {},
   "outputs": [
    {
     "data": {
      "text/plain": [
       "0       20709\n",
       "2010     2644\n",
       "2008     2613\n",
       "2009     2533\n",
       "2000     2091\n",
       "2007     1587\n",
       "2006     1471\n",
       "2003     1286\n",
       "2011     1256\n",
       "2004     1123\n",
       "2012     1084\n",
       "2002     1075\n",
       "1978     1037\n",
       "1995     1014\n",
       "2005     1011\n",
       "1999      979\n",
       "1998      966\n",
       "1990      954\n",
       "1985      945\n",
       "1980      811\n",
       "1996      811\n",
       "1984      779\n",
       "1982      744\n",
       "1994      738\n",
       "1972      708\n",
       "1974      676\n",
       "1997      644\n",
       "1992      640\n",
       "1993      608\n",
       "2001      540\n",
       "1988      521\n",
       "1983      488\n",
       "1975      437\n",
       "1986      434\n",
       "1976      414\n",
       "1970      411\n",
       "1991      324\n",
       "1989      316\n",
       "1987      302\n",
       "1981      238\n",
       "1977      202\n",
       "1979      192\n",
       "1973      184\n",
       "2013      176\n",
       "1971      145\n",
       "1960      102\n",
       "1967       88\n",
       "1963       85\n",
       "1968       77\n",
       "1969       59\n",
       "1964       40\n",
       "1962       30\n",
       "1961       21\n",
       "1965       19\n",
       "1966       17\n",
       "Name: construction_year, dtype: int64"
      ]
     },
     "execution_count": 72,
     "metadata": {},
     "output_type": "execute_result"
    }
   ],
   "source": [
    "df.construction_year.value_counts()"
   ]
  },
  {
   "cell_type": "code",
   "execution_count": 73,
   "metadata": {},
   "outputs": [
    {
     "data": {
      "text/plain": [
       "0       20709\n",
       "2010     2644\n",
       "2008     2613\n",
       "2009     2533\n",
       "2000     2091\n",
       "2007     1587\n",
       "2006     1471\n",
       "2003     1286\n",
       "2011     1256\n",
       "2004     1123\n",
       "2012     1084\n",
       "2002     1075\n",
       "1978     1037\n",
       "1995     1014\n",
       "2005     1011\n",
       "1999      979\n",
       "1998      966\n",
       "1990      954\n",
       "1985      945\n",
       "1980      811\n",
       "1996      811\n",
       "1984      779\n",
       "1982      744\n",
       "1994      738\n",
       "1972      708\n",
       "1974      676\n",
       "1997      644\n",
       "1992      640\n",
       "1993      608\n",
       "2001      540\n",
       "1988      521\n",
       "1983      488\n",
       "1975      437\n",
       "1986      434\n",
       "1976      414\n",
       "1970      411\n",
       "1991      324\n",
       "1989      316\n",
       "1987      302\n",
       "1981      238\n",
       "1977      202\n",
       "1979      192\n",
       "1973      184\n",
       "2013      176\n",
       "1971      145\n",
       "1960      102\n",
       "1967       88\n",
       "1963       85\n",
       "1968       77\n",
       "1969       59\n",
       "1964       40\n",
       "1962       30\n",
       "1961       21\n",
       "1965       19\n",
       "1966       17\n",
       "Name: construction_year, dtype: int64"
      ]
     },
     "execution_count": 73,
     "metadata": {},
     "output_type": "execute_result"
    }
   ],
   "source": [
    "df.construction_year.value_counts()"
   ]
  },
  {
   "cell_type": "markdown",
   "metadata": {},
   "source": [
    "#### public_meeting column"
   ]
  },
  {
   "cell_type": "code",
   "execution_count": 74,
   "metadata": {},
   "outputs": [
    {
     "data": {
      "text/plain": [
       "True     54344\n",
       "False     5055\n",
       "Name: public_meeting, dtype: int64"
      ]
     },
     "execution_count": 74,
     "metadata": {},
     "output_type": "execute_result"
    }
   ],
   "source": [
    "df['public_meeting'].value_counts()\n",
    "df['public_meeting'].fillna(value=True, inplace=True)\n",
    "df.public_meeting.value_counts()\n",
    "#df.drop(\"public_meeting\" , axis =1)"
   ]
  },
  {
   "cell_type": "markdown",
   "metadata": {},
   "source": [
    "There are some null values and we convert them to most common data"
   ]
  },
  {
   "cell_type": "markdown",
   "metadata": {},
   "source": [
    "#### permit column"
   ]
  },
  {
   "cell_type": "code",
   "execution_count": 75,
   "metadata": {},
   "outputs": [],
   "source": [
    "df['permit'].value_counts()\n",
    "df['permit'].fillna(value=True, inplace=True)\n",
    "#df.drop(\"permit\",axis =1)"
   ]
  },
  {
   "cell_type": "markdown",
   "metadata": {},
   "source": [
    "There are some null values and we convert them to most common data"
   ]
  },
  {
   "cell_type": "markdown",
   "metadata": {},
   "source": [
    "#### population column"
   ]
  },
  {
   "cell_type": "code",
   "execution_count": 76,
   "metadata": {},
   "outputs": [
    {
     "data": {
      "text/html": [
       "<div>\n",
       "<style scoped>\n",
       "    .dataframe tbody tr th:only-of-type {\n",
       "        vertical-align: middle;\n",
       "    }\n",
       "\n",
       "    .dataframe tbody tr th {\n",
       "        vertical-align: top;\n",
       "    }\n",
       "\n",
       "    .dataframe thead th {\n",
       "        text-align: right;\n",
       "    }\n",
       "</style>\n",
       "<table border=\"1\" class=\"dataframe\">\n",
       "  <thead>\n",
       "    <tr style=\"text-align: right;\">\n",
       "      <th></th>\n",
       "      <th>id</th>\n",
       "      <th>date_recorded</th>\n",
       "      <th>funder</th>\n",
       "      <th>gps_height</th>\n",
       "      <th>installer</th>\n",
       "      <th>longitude</th>\n",
       "      <th>latitude</th>\n",
       "      <th>basin</th>\n",
       "      <th>region</th>\n",
       "      <th>lga</th>\n",
       "      <th>...</th>\n",
       "      <th>construction_year</th>\n",
       "      <th>extraction_type_class</th>\n",
       "      <th>management_group</th>\n",
       "      <th>payment</th>\n",
       "      <th>water_quality</th>\n",
       "      <th>quantity</th>\n",
       "      <th>source</th>\n",
       "      <th>waterpoint_type</th>\n",
       "      <th>installer_cat</th>\n",
       "      <th>funder_cat</th>\n",
       "    </tr>\n",
       "    <tr>\n",
       "      <th>status_group</th>\n",
       "      <th></th>\n",
       "      <th></th>\n",
       "      <th></th>\n",
       "      <th></th>\n",
       "      <th></th>\n",
       "      <th></th>\n",
       "      <th></th>\n",
       "      <th></th>\n",
       "      <th></th>\n",
       "      <th></th>\n",
       "      <th></th>\n",
       "      <th></th>\n",
       "      <th></th>\n",
       "      <th></th>\n",
       "      <th></th>\n",
       "      <th></th>\n",
       "      <th></th>\n",
       "      <th></th>\n",
       "      <th></th>\n",
       "      <th></th>\n",
       "      <th></th>\n",
       "    </tr>\n",
       "  </thead>\n",
       "  <tbody>\n",
       "    <tr>\n",
       "      <th>functional</th>\n",
       "      <td>11274</td>\n",
       "      <td>11274</td>\n",
       "      <td>11274</td>\n",
       "      <td>11274</td>\n",
       "      <td>11274</td>\n",
       "      <td>11274</td>\n",
       "      <td>11274</td>\n",
       "      <td>11274</td>\n",
       "      <td>11274</td>\n",
       "      <td>11274</td>\n",
       "      <td>...</td>\n",
       "      <td>11274</td>\n",
       "      <td>11274</td>\n",
       "      <td>11274</td>\n",
       "      <td>11274</td>\n",
       "      <td>11274</td>\n",
       "      <td>11274</td>\n",
       "      <td>11274</td>\n",
       "      <td>11274</td>\n",
       "      <td>11274</td>\n",
       "      <td>11274</td>\n",
       "    </tr>\n",
       "    <tr>\n",
       "      <th>functional needs repair</th>\n",
       "      <td>1775</td>\n",
       "      <td>1775</td>\n",
       "      <td>1775</td>\n",
       "      <td>1775</td>\n",
       "      <td>1775</td>\n",
       "      <td>1775</td>\n",
       "      <td>1775</td>\n",
       "      <td>1775</td>\n",
       "      <td>1775</td>\n",
       "      <td>1775</td>\n",
       "      <td>...</td>\n",
       "      <td>1775</td>\n",
       "      <td>1775</td>\n",
       "      <td>1775</td>\n",
       "      <td>1775</td>\n",
       "      <td>1775</td>\n",
       "      <td>1775</td>\n",
       "      <td>1775</td>\n",
       "      <td>1775</td>\n",
       "      <td>1775</td>\n",
       "      <td>1775</td>\n",
       "    </tr>\n",
       "    <tr>\n",
       "      <th>non functional</th>\n",
       "      <td>8332</td>\n",
       "      <td>8332</td>\n",
       "      <td>8332</td>\n",
       "      <td>8332</td>\n",
       "      <td>8332</td>\n",
       "      <td>8332</td>\n",
       "      <td>8332</td>\n",
       "      <td>8332</td>\n",
       "      <td>8332</td>\n",
       "      <td>8332</td>\n",
       "      <td>...</td>\n",
       "      <td>8332</td>\n",
       "      <td>8332</td>\n",
       "      <td>8332</td>\n",
       "      <td>8332</td>\n",
       "      <td>8332</td>\n",
       "      <td>8332</td>\n",
       "      <td>8332</td>\n",
       "      <td>8332</td>\n",
       "      <td>8332</td>\n",
       "      <td>8332</td>\n",
       "    </tr>\n",
       "  </tbody>\n",
       "</table>\n",
       "<p>3 rows × 24 columns</p>\n",
       "</div>"
      ],
      "text/plain": [
       "                            id  date_recorded  funder  gps_height  installer  \\\n",
       "status_group                                                                   \n",
       "functional               11274          11274   11274       11274      11274   \n",
       "functional needs repair   1775           1775    1775        1775       1775   \n",
       "non functional            8332           8332    8332        8332       8332   \n",
       "\n",
       "                         longitude  latitude  basin  region    lga  ...  \\\n",
       "status_group                                                        ...   \n",
       "functional                   11274     11274  11274   11274  11274  ...   \n",
       "functional needs repair       1775      1775   1775    1775   1775  ...   \n",
       "non functional                8332      8332   8332    8332   8332  ...   \n",
       "\n",
       "                         construction_year  extraction_type_class  \\\n",
       "status_group                                                        \n",
       "functional                           11274                  11274   \n",
       "functional needs repair               1775                   1775   \n",
       "non functional                        8332                   8332   \n",
       "\n",
       "                         management_group  payment  water_quality  quantity  \\\n",
       "status_group                                                                  \n",
       "functional                          11274    11274          11274     11274   \n",
       "functional needs repair              1775     1775           1775      1775   \n",
       "non functional                       8332     8332           8332      8332   \n",
       "\n",
       "                         source  waterpoint_type  installer_cat  funder_cat  \n",
       "status_group                                                                 \n",
       "functional                11274            11274          11274       11274  \n",
       "functional needs repair    1775             1775           1775        1775  \n",
       "non functional             8332             8332           8332        8332  \n",
       "\n",
       "[3 rows x 24 columns]"
      ]
     },
     "execution_count": 76,
     "metadata": {},
     "output_type": "execute_result"
    }
   ],
   "source": [
    "df.loc[df['population']==0].groupby('status_group').count()"
   ]
  },
  {
   "cell_type": "code",
   "execution_count": 77,
   "metadata": {},
   "outputs": [
    {
     "data": {
      "text/plain": [
       "0       21381\n",
       "1        7025\n",
       "200      1940\n",
       "150      1892\n",
       "250      1681\n",
       "        ...  \n",
       "3241        1\n",
       "1960        1\n",
       "1685        1\n",
       "2248        1\n",
       "1439        1\n",
       "Name: population, Length: 1049, dtype: int64"
      ]
     },
     "execution_count": 77,
     "metadata": {},
     "output_type": "execute_result"
    }
   ],
   "source": [
    "df.population.value_counts()"
   ]
  },
  {
   "cell_type": "code",
   "execution_count": 78,
   "metadata": {},
   "outputs": [
    {
     "data": {
      "text/plain": [
       "0"
      ]
     },
     "execution_count": 78,
     "metadata": {},
     "output_type": "execute_result"
    }
   ],
   "source": [
    "df.population.isna().sum()"
   ]
  },
  {
   "cell_type": "markdown",
   "metadata": {},
   "source": [
    "Some functional water points has zero population, it is weird so we will change zero population to mean"
   ]
  },
  {
   "cell_type": "code",
   "execution_count": 79,
   "metadata": {},
   "outputs": [],
   "source": [
    "df['population'].replace(to_replace = 0 , value =281, inplace=True)"
   ]
  },
  {
   "cell_type": "code",
   "execution_count": 80,
   "metadata": {},
   "outputs": [
    {
     "data": {
      "text/html": [
       "<div>\n",
       "<style scoped>\n",
       "    .dataframe tbody tr th:only-of-type {\n",
       "        vertical-align: middle;\n",
       "    }\n",
       "\n",
       "    .dataframe tbody tr th {\n",
       "        vertical-align: top;\n",
       "    }\n",
       "\n",
       "    .dataframe thead th {\n",
       "        text-align: right;\n",
       "    }\n",
       "</style>\n",
       "<table border=\"1\" class=\"dataframe\">\n",
       "  <thead>\n",
       "    <tr style=\"text-align: right;\">\n",
       "      <th></th>\n",
       "      <th>id</th>\n",
       "      <th>date_recorded</th>\n",
       "      <th>funder</th>\n",
       "      <th>gps_height</th>\n",
       "      <th>installer</th>\n",
       "      <th>longitude</th>\n",
       "      <th>latitude</th>\n",
       "      <th>basin</th>\n",
       "      <th>region</th>\n",
       "      <th>lga</th>\n",
       "      <th>...</th>\n",
       "      <th>construction_year</th>\n",
       "      <th>extraction_type_class</th>\n",
       "      <th>management_group</th>\n",
       "      <th>payment</th>\n",
       "      <th>water_quality</th>\n",
       "      <th>quantity</th>\n",
       "      <th>source</th>\n",
       "      <th>waterpoint_type</th>\n",
       "      <th>installer_cat</th>\n",
       "      <th>funder_cat</th>\n",
       "    </tr>\n",
       "    <tr>\n",
       "      <th>status_group</th>\n",
       "      <th></th>\n",
       "      <th></th>\n",
       "      <th></th>\n",
       "      <th></th>\n",
       "      <th></th>\n",
       "      <th></th>\n",
       "      <th></th>\n",
       "      <th></th>\n",
       "      <th></th>\n",
       "      <th></th>\n",
       "      <th></th>\n",
       "      <th></th>\n",
       "      <th></th>\n",
       "      <th></th>\n",
       "      <th></th>\n",
       "      <th></th>\n",
       "      <th></th>\n",
       "      <th></th>\n",
       "      <th></th>\n",
       "      <th></th>\n",
       "      <th></th>\n",
       "    </tr>\n",
       "  </thead>\n",
       "  <tbody>\n",
       "    <tr>\n",
       "      <th>functional</th>\n",
       "      <td>39</td>\n",
       "      <td>39</td>\n",
       "      <td>39</td>\n",
       "      <td>39</td>\n",
       "      <td>39</td>\n",
       "      <td>39</td>\n",
       "      <td>39</td>\n",
       "      <td>39</td>\n",
       "      <td>39</td>\n",
       "      <td>39</td>\n",
       "      <td>...</td>\n",
       "      <td>39</td>\n",
       "      <td>39</td>\n",
       "      <td>39</td>\n",
       "      <td>39</td>\n",
       "      <td>39</td>\n",
       "      <td>39</td>\n",
       "      <td>39</td>\n",
       "      <td>39</td>\n",
       "      <td>39</td>\n",
       "      <td>39</td>\n",
       "    </tr>\n",
       "    <tr>\n",
       "      <th>functional needs repair</th>\n",
       "      <td>4</td>\n",
       "      <td>4</td>\n",
       "      <td>4</td>\n",
       "      <td>4</td>\n",
       "      <td>4</td>\n",
       "      <td>4</td>\n",
       "      <td>4</td>\n",
       "      <td>4</td>\n",
       "      <td>4</td>\n",
       "      <td>4</td>\n",
       "      <td>...</td>\n",
       "      <td>4</td>\n",
       "      <td>4</td>\n",
       "      <td>4</td>\n",
       "      <td>4</td>\n",
       "      <td>4</td>\n",
       "      <td>4</td>\n",
       "      <td>4</td>\n",
       "      <td>4</td>\n",
       "      <td>4</td>\n",
       "      <td>4</td>\n",
       "    </tr>\n",
       "    <tr>\n",
       "      <th>non functional</th>\n",
       "      <td>7</td>\n",
       "      <td>7</td>\n",
       "      <td>7</td>\n",
       "      <td>7</td>\n",
       "      <td>7</td>\n",
       "      <td>7</td>\n",
       "      <td>7</td>\n",
       "      <td>7</td>\n",
       "      <td>7</td>\n",
       "      <td>7</td>\n",
       "      <td>...</td>\n",
       "      <td>7</td>\n",
       "      <td>7</td>\n",
       "      <td>7</td>\n",
       "      <td>7</td>\n",
       "      <td>7</td>\n",
       "      <td>7</td>\n",
       "      <td>7</td>\n",
       "      <td>7</td>\n",
       "      <td>7</td>\n",
       "      <td>7</td>\n",
       "    </tr>\n",
       "  </tbody>\n",
       "</table>\n",
       "<p>3 rows × 24 columns</p>\n",
       "</div>"
      ],
      "text/plain": [
       "                         id  date_recorded  funder  gps_height  installer  \\\n",
       "status_group                                                                \n",
       "functional               39             39      39          39         39   \n",
       "functional needs repair   4              4       4           4          4   \n",
       "non functional            7              7       7           7          7   \n",
       "\n",
       "                         longitude  latitude  basin  region  lga  ...  \\\n",
       "status_group                                                      ...   \n",
       "functional                      39        39     39      39   39  ...   \n",
       "functional needs repair          4         4      4       4    4  ...   \n",
       "non functional                   7         7      7       7    7  ...   \n",
       "\n",
       "                         construction_year  extraction_type_class  \\\n",
       "status_group                                                        \n",
       "functional                              39                     39   \n",
       "functional needs repair                  4                      4   \n",
       "non functional                           7                      7   \n",
       "\n",
       "                         management_group  payment  water_quality  quantity  \\\n",
       "status_group                                                                  \n",
       "functional                             39       39             39        39   \n",
       "functional needs repair                 4        4              4         4   \n",
       "non functional                          7        7              7         7   \n",
       "\n",
       "                         source  waterpoint_type  installer_cat  funder_cat  \n",
       "status_group                                                                 \n",
       "functional                   39               39             39          39  \n",
       "functional needs repair       4                4              4           4  \n",
       "non functional                7                7              7           7  \n",
       "\n",
       "[3 rows x 24 columns]"
      ]
     },
     "execution_count": 80,
     "metadata": {},
     "output_type": "execute_result"
    }
   ],
   "source": [
    "df.sort_values(by='population', ascending=False).head(50).groupby('status_group').count()"
   ]
  },
  {
   "cell_type": "markdown",
   "metadata": {},
   "source": [
    "To see the most populated areas water point functionality , we choose crowded 50 values and did groupby. It shows that higher population areas have more functional water points."
   ]
  },
  {
   "cell_type": "code",
   "execution_count": 81,
   "metadata": {},
   "outputs": [
    {
     "data": {
      "text/plain": [
       "(59399, 25)"
      ]
     },
     "execution_count": 81,
     "metadata": {},
     "output_type": "execute_result"
    }
   ],
   "source": [
    "df.shape"
   ]
  },
  {
   "cell_type": "code",
   "execution_count": 82,
   "metadata": {},
   "outputs": [
    {
     "data": {
      "text/html": [
       "<div>\n",
       "<style scoped>\n",
       "    .dataframe tbody tr th:only-of-type {\n",
       "        vertical-align: middle;\n",
       "    }\n",
       "\n",
       "    .dataframe tbody tr th {\n",
       "        vertical-align: top;\n",
       "    }\n",
       "\n",
       "    .dataframe thead th {\n",
       "        text-align: right;\n",
       "    }\n",
       "</style>\n",
       "<table border=\"1\" class=\"dataframe\">\n",
       "  <thead>\n",
       "    <tr style=\"text-align: right;\">\n",
       "      <th></th>\n",
       "      <th>id</th>\n",
       "      <th>status_group</th>\n",
       "      <th>date_recorded</th>\n",
       "      <th>funder</th>\n",
       "      <th>gps_height</th>\n",
       "      <th>installer</th>\n",
       "      <th>longitude</th>\n",
       "      <th>latitude</th>\n",
       "      <th>basin</th>\n",
       "      <th>region</th>\n",
       "      <th>...</th>\n",
       "      <th>construction_year</th>\n",
       "      <th>extraction_type_class</th>\n",
       "      <th>management_group</th>\n",
       "      <th>payment</th>\n",
       "      <th>water_quality</th>\n",
       "      <th>quantity</th>\n",
       "      <th>source</th>\n",
       "      <th>waterpoint_type</th>\n",
       "      <th>installer_cat</th>\n",
       "      <th>funder_cat</th>\n",
       "    </tr>\n",
       "  </thead>\n",
       "  <tbody>\n",
       "    <tr>\n",
       "      <th>0</th>\n",
       "      <td>69572</td>\n",
       "      <td>functional</td>\n",
       "      <td>3/14/2011</td>\n",
       "      <td>Roman</td>\n",
       "      <td>1390</td>\n",
       "      <td>Roman</td>\n",
       "      <td>34.938093</td>\n",
       "      <td>-9.856322</td>\n",
       "      <td>Lake Nyasa</td>\n",
       "      <td>Iringa</td>\n",
       "      <td>...</td>\n",
       "      <td>1999</td>\n",
       "      <td>gravity</td>\n",
       "      <td>user-group</td>\n",
       "      <td>pay annually</td>\n",
       "      <td>soft</td>\n",
       "      <td>enough</td>\n",
       "      <td>spring</td>\n",
       "      <td>communal standpipe</td>\n",
       "      <td>Others</td>\n",
       "      <td>Others</td>\n",
       "    </tr>\n",
       "    <tr>\n",
       "      <th>2</th>\n",
       "      <td>34310</td>\n",
       "      <td>functional</td>\n",
       "      <td>2/25/2013</td>\n",
       "      <td>Lottery Club</td>\n",
       "      <td>686</td>\n",
       "      <td>world vision</td>\n",
       "      <td>37.460664</td>\n",
       "      <td>-3.821329</td>\n",
       "      <td>Pangani</td>\n",
       "      <td>Manyara</td>\n",
       "      <td>...</td>\n",
       "      <td>2009</td>\n",
       "      <td>gravity</td>\n",
       "      <td>user-group</td>\n",
       "      <td>pay per bucket</td>\n",
       "      <td>soft</td>\n",
       "      <td>enough</td>\n",
       "      <td>dam</td>\n",
       "      <td>communal standpipe multiple</td>\n",
       "      <td>world vision</td>\n",
       "      <td>Others</td>\n",
       "    </tr>\n",
       "    <tr>\n",
       "      <th>3</th>\n",
       "      <td>67743</td>\n",
       "      <td>non functional</td>\n",
       "      <td>1/28/2013</td>\n",
       "      <td>Unicef</td>\n",
       "      <td>263</td>\n",
       "      <td>Unicef</td>\n",
       "      <td>38.486161</td>\n",
       "      <td>-11.155298</td>\n",
       "      <td>Ruvuma / Southern Coast</td>\n",
       "      <td>Mtwara</td>\n",
       "      <td>...</td>\n",
       "      <td>1986</td>\n",
       "      <td>submersible</td>\n",
       "      <td>user-group</td>\n",
       "      <td>never pay</td>\n",
       "      <td>soft</td>\n",
       "      <td>dry</td>\n",
       "      <td>machine dbh</td>\n",
       "      <td>communal standpipe multiple</td>\n",
       "      <td>Others</td>\n",
       "      <td>Unicef</td>\n",
       "    </tr>\n",
       "    <tr>\n",
       "      <th>4</th>\n",
       "      <td>19728</td>\n",
       "      <td>functional</td>\n",
       "      <td>7/13/2011</td>\n",
       "      <td>Action In A</td>\n",
       "      <td>0</td>\n",
       "      <td>Artisan</td>\n",
       "      <td>31.130847</td>\n",
       "      <td>-1.825359</td>\n",
       "      <td>Lake Victoria</td>\n",
       "      <td>Kagera</td>\n",
       "      <td>...</td>\n",
       "      <td>0</td>\n",
       "      <td>gravity</td>\n",
       "      <td>other</td>\n",
       "      <td>never pay</td>\n",
       "      <td>soft</td>\n",
       "      <td>seasonal</td>\n",
       "      <td>rainwater harvesting</td>\n",
       "      <td>communal standpipe</td>\n",
       "      <td>Others</td>\n",
       "      <td>Others</td>\n",
       "    </tr>\n",
       "    <tr>\n",
       "      <th>5</th>\n",
       "      <td>9944</td>\n",
       "      <td>functional</td>\n",
       "      <td>3/13/2011</td>\n",
       "      <td>Mkinga Distric Coun</td>\n",
       "      <td>0</td>\n",
       "      <td>DWE</td>\n",
       "      <td>39.172796</td>\n",
       "      <td>-4.765587</td>\n",
       "      <td>Pangani</td>\n",
       "      <td>Tanga</td>\n",
       "      <td>...</td>\n",
       "      <td>2009</td>\n",
       "      <td>submersible</td>\n",
       "      <td>user-group</td>\n",
       "      <td>pay per bucket</td>\n",
       "      <td>salty</td>\n",
       "      <td>enough</td>\n",
       "      <td>other</td>\n",
       "      <td>communal standpipe multiple</td>\n",
       "      <td>DWE</td>\n",
       "      <td>Others</td>\n",
       "    </tr>\n",
       "  </tbody>\n",
       "</table>\n",
       "<p>5 rows × 25 columns</p>\n",
       "</div>"
      ],
      "text/plain": [
       "      id    status_group date_recorded               funder  gps_height  \\\n",
       "0  69572      functional     3/14/2011                Roman        1390   \n",
       "2  34310      functional     2/25/2013         Lottery Club         686   \n",
       "3  67743  non functional     1/28/2013               Unicef         263   \n",
       "4  19728      functional     7/13/2011          Action In A           0   \n",
       "5   9944      functional     3/13/2011  Mkinga Distric Coun           0   \n",
       "\n",
       "      installer  longitude   latitude                    basin   region  ...  \\\n",
       "0         Roman  34.938093  -9.856322               Lake Nyasa   Iringa  ...   \n",
       "2  world vision  37.460664  -3.821329                  Pangani  Manyara  ...   \n",
       "3        Unicef  38.486161 -11.155298  Ruvuma / Southern Coast   Mtwara  ...   \n",
       "4       Artisan  31.130847  -1.825359            Lake Victoria   Kagera  ...   \n",
       "5           DWE  39.172796  -4.765587                  Pangani    Tanga  ...   \n",
       "\n",
       "  construction_year extraction_type_class  management_group         payment  \\\n",
       "0              1999               gravity        user-group    pay annually   \n",
       "2              2009               gravity        user-group  pay per bucket   \n",
       "3              1986           submersible        user-group       never pay   \n",
       "4                 0               gravity             other       never pay   \n",
       "5              2009           submersible        user-group  pay per bucket   \n",
       "\n",
       "   water_quality  quantity                source              waterpoint_type  \\\n",
       "0           soft    enough                spring           communal standpipe   \n",
       "2           soft    enough                   dam  communal standpipe multiple   \n",
       "3           soft       dry           machine dbh  communal standpipe multiple   \n",
       "4           soft  seasonal  rainwater harvesting           communal standpipe   \n",
       "5          salty    enough                 other  communal standpipe multiple   \n",
       "\n",
       "  installer_cat funder_cat  \n",
       "0        Others     Others  \n",
       "2  world vision     Others  \n",
       "3        Others     Unicef  \n",
       "4        Others     Others  \n",
       "5           DWE     Others  \n",
       "\n",
       "[5 rows x 25 columns]"
      ]
     },
     "execution_count": 82,
     "metadata": {},
     "output_type": "execute_result"
    }
   ],
   "source": [
    "df.head()"
   ]
  },
  {
   "cell_type": "code",
   "execution_count": 83,
   "metadata": {},
   "outputs": [
    {
     "name": "stdout",
     "output_type": "stream",
     "text": [
      "<class 'pandas.core.frame.DataFrame'>\n",
      "Int64Index: 59399 entries, 0 to 59399\n",
      "Data columns (total 25 columns):\n",
      " #   Column                 Non-Null Count  Dtype  \n",
      "---  ------                 --------------  -----  \n",
      " 0   id                     59399 non-null  int64  \n",
      " 1   status_group           59399 non-null  object \n",
      " 2   date_recorded          59399 non-null  object \n",
      " 3   funder                 59399 non-null  object \n",
      " 4   gps_height             59399 non-null  int64  \n",
      " 5   installer              59399 non-null  object \n",
      " 6   longitude              59399 non-null  float64\n",
      " 7   latitude               59399 non-null  float64\n",
      " 8   basin                  59399 non-null  object \n",
      " 9   region                 59399 non-null  object \n",
      " 10  lga                    59399 non-null  object \n",
      " 11  ward                   59399 non-null  object \n",
      " 12  population             59399 non-null  int64  \n",
      " 13  public_meeting         59399 non-null  bool   \n",
      " 14  permit                 59399 non-null  bool   \n",
      " 15  construction_year      59399 non-null  int64  \n",
      " 16  extraction_type_class  59399 non-null  object \n",
      " 17  management_group       59399 non-null  object \n",
      " 18  payment                59399 non-null  object \n",
      " 19  water_quality          59399 non-null  object \n",
      " 20  quantity               59399 non-null  object \n",
      " 21  source                 59399 non-null  object \n",
      " 22  waterpoint_type        59399 non-null  object \n",
      " 23  installer_cat          59399 non-null  object \n",
      " 24  funder_cat             59399 non-null  object \n",
      "dtypes: bool(2), float64(2), int64(4), object(17)\n",
      "memory usage: 11.0+ MB\n"
     ]
    }
   ],
   "source": [
    "df.info()"
   ]
  },
  {
   "cell_type": "code",
   "execution_count": 84,
   "metadata": {},
   "outputs": [],
   "source": [
    "df.permit = df.permit.astype(\"bool\").astype(int)\n",
    "df.public_meeting = df.public_meeting. astype(\"bool\").astype(int)"
   ]
  },
  {
   "cell_type": "code",
   "execution_count": 85,
   "metadata": {},
   "outputs": [
    {
     "name": "stdout",
     "output_type": "stream",
     "text": [
      "<class 'pandas.core.frame.DataFrame'>\n",
      "Int64Index: 59399 entries, 0 to 59399\n",
      "Data columns (total 25 columns):\n",
      " #   Column                 Non-Null Count  Dtype  \n",
      "---  ------                 --------------  -----  \n",
      " 0   id                     59399 non-null  int64  \n",
      " 1   status_group           59399 non-null  object \n",
      " 2   date_recorded          59399 non-null  object \n",
      " 3   funder                 59399 non-null  object \n",
      " 4   gps_height             59399 non-null  int64  \n",
      " 5   installer              59399 non-null  object \n",
      " 6   longitude              59399 non-null  float64\n",
      " 7   latitude               59399 non-null  float64\n",
      " 8   basin                  59399 non-null  object \n",
      " 9   region                 59399 non-null  object \n",
      " 10  lga                    59399 non-null  object \n",
      " 11  ward                   59399 non-null  object \n",
      " 12  population             59399 non-null  int64  \n",
      " 13  public_meeting         59399 non-null  int32  \n",
      " 14  permit                 59399 non-null  int32  \n",
      " 15  construction_year      59399 non-null  int64  \n",
      " 16  extraction_type_class  59399 non-null  object \n",
      " 17  management_group       59399 non-null  object \n",
      " 18  payment                59399 non-null  object \n",
      " 19  water_quality          59399 non-null  object \n",
      " 20  quantity               59399 non-null  object \n",
      " 21  source                 59399 non-null  object \n",
      " 22  waterpoint_type        59399 non-null  object \n",
      " 23  installer_cat          59399 non-null  object \n",
      " 24  funder_cat             59399 non-null  object \n",
      "dtypes: float64(2), int32(2), int64(4), object(17)\n",
      "memory usage: 11.3+ MB\n"
     ]
    }
   ],
   "source": [
    "df.info()"
   ]
  },
  {
   "cell_type": "markdown",
   "metadata": {},
   "source": [
    "### Exploratory Data Analysis"
   ]
  },
  {
   "cell_type": "code",
   "execution_count": 86,
   "metadata": {},
   "outputs": [],
   "source": [
    "def df_subgroups(seriesName, norm = True):\n",
    "    \"\"\"This function creates a workable dataframe \n",
    "    grouping a Series by status_group\"\"\"\n",
    "    \n",
    "    dataframe_groupings = df.groupby('status_group')[seriesName].value_counts(normalize = norm).unstack()\n",
    "    return dataframe_groupings"
   ]
  },
  {
   "cell_type": "code",
   "execution_count": 87,
   "metadata": {},
   "outputs": [
    {
     "data": {
      "image/png": "[encoded data removed]",
      "text/plain": [
       "<Figure size 576x360 with 1 Axes>"
      ]
     },
     "metadata": {
      "needs_background": "light"
     },
     "output_type": "display_data"
    }
   ],
   "source": [
    "ax = df.status_group.value_counts(normalize = True).plot(kind = 'bar', width = .45, figsize = (8, 5), \n",
    "                                                         color = ['black', 'red', 'gold'],\n",
    "                                                         edgecolor = 'black', alpha = .8)\n",
    "\n",
    "#Format x- and y-axis\n",
    "plt.xticks(fontsize = 13,  rotation = 0)\n",
    "plt.xlabel('\\nWater Pump Status', fontweight = 'bold', fontsize = 14 )\n",
    "ax.yaxis.set_major_formatter(mtick.PercentFormatter(1.0))\n",
    "plt.yticks(fontsize = 13)\n",
    "plt.ylabel('Recorded Percentage\\n', fontweight = 'bold', fontsize = 14)\n",
    "\n",
    "#Format plot\n",
    "plt.title('Water Pumps Functionality Status Spread \\n', fontsize = 16, fontweight = 'bold');"
   ]
  },
  {
   "cell_type": "code",
   "execution_count": 88,
   "metadata": {},
   "outputs": [
    {
     "data": {
      "image/png": "[encoded data removed]",
      "text/plain": [
       "<Figure size 1080x504 with 1 Axes>"
      ]
     },
     "metadata": {
      "needs_background": "light"
     },
     "output_type": "display_data"
    }
   ],
   "source": [
    "#Create workable datafame for visualization\n",
    "wtp = df_subgroups('waterpoint_type')\n",
    "\n",
    "#Plot the waterpoint type to status group\n",
    "ax = wtp.plot(kind = 'bar', figsize = (15, 7), color = ['blue', 'red', 'black', 'green', \n",
    "                                                       'gold', 'purple', 'orange'], alpha = .7,\n",
    "             width = .8, edgecolor = 'black')\n",
    "\n",
    "#Format axis\n",
    "plt.xticks(fontsize = 13, fontweight = 'bold', rotation = 0)\n",
    "plt.xlabel('\\nWater Pump Status Breakdown', fontsize = 14, fontweight = 'bold')\n",
    "plt.yticks(fontsize = 13)\n",
    "ax.yaxis.set_major_formatter(mtick.PercentFormatter(1.0))\n",
    "plt.ylabel(\"Recorded Percentage \\n\", fontweight = 'bold', fontsize = 14)\n",
    "\n",
    "#Format plot\n",
    "ax.legend(loc = 'upper right', bbox_to_anchor = (1.3, 1), title = 'Waterpoint Type',\n",
    "          title_fontsize = 'xx-large', fontsize = 'x-large', labelspacing = 1)\n",
    "plt.title(\"Waterpoint Type Spread by Functionality\\n\", fontsize = 16, fontweight = 'bold');"
   ]
  },
  {
   "cell_type": "markdown",
   "metadata": {},
   "source": []
  },
  {
   "cell_type": "markdown",
   "metadata": {},
   "source": [
    "#### water quality"
   ]
  },
  {
   "cell_type": "code",
   "execution_count": 89,
   "metadata": {},
   "outputs": [
    {
     "data": {
      "image/png": "[encoded data removed]",
      "text/plain": [
       "<Figure size 1080x504 with 1 Axes>"
      ]
     },
     "metadata": {
      "needs_background": "light"
     },
     "output_type": "display_data"
    }
   ],
   "source": [
    "qual = df_subgroups('water_quality')\n",
    "\n",
    "#Plot the waterpoint type to status group\n",
    "ax = qual.plot(kind = 'bar', figsize = (15, 7), width = .85, alpha = .8, edgecolor = 'black', \n",
    "               color = ['blue', 'turquoise', 'cornflowerblue', 'teal', \n",
    "                        'deepskyblue', 'lightskyblue', 'darkblue', 'slategray'])\n",
    "\n",
    "#Format axis\n",
    "plt.xticks(fontsize = 13, fontweight = 'bold', rotation = 0)\n",
    "plt.xlabel('\\nWater Pump Status Breakdown', fontsize = 14, fontweight = 'bold')\n",
    "plt.yticks(fontsize = 13)\n",
    "ax.yaxis.set_major_formatter(mtick.PercentFormatter(1.0))\n",
    "plt.ylabel(\"Recorded Percentage \\n\", fontweight = 'bold', fontsize = 14)\n",
    "\n",
    "#Format plot\n",
    "ax.legend(loc = 'upper right', bbox_to_anchor = (1.2, 1), title = 'Water Quality',\n",
    "          title_fontsize = 'x-large', fontsize = 'large', labelspacing = 2)\n",
    "plt.title(\"Water Pumps Quality Spread by Functionality\\n\", fontsize = 16, fontweight = 'bold');"
   ]
  },
  {
   "cell_type": "markdown",
   "metadata": {},
   "source": [
    "#### Funding "
   ]
  },
  {
   "cell_type": "code",
   "execution_count": 107,
   "metadata": {},
   "outputs": [],
   "source": [
    "Funder = df_subgroups(\"funder_cat\")"
   ]
  },
  {
   "cell_type": "code",
   "execution_count": 111,
   "metadata": {},
   "outputs": [
    {
     "data": {
      "image/png": "[encoded data removed]",
      "text/plain": [
       "<Figure size 1080x360 with 1 Axes>"
      ]
     },
     "metadata": {
      "needs_background": "light"
     },
     "output_type": "display_data"
    }
   ],
   "source": [
    "ax2 = Funder.plot(kind = 'bar', figsize = (15, 5), edgecolor = 'black', alpha = .8,\n",
    "                  color = [\"maroon\", 'black', 'purple', 'grey', 'blue', \"orange\",\"teal\",\n",
    "                          'turquoise', 'deepskyblue', 'wheat', \"green\", 'violet',\"yellow\",\"pink\",\"cyan\"])\n",
    "\n",
    "plt.xticks(fontsize = 15, rotation = 0)\n",
    "plt.xlabel('\\n Water Pump Status Breakdown', fontsize = 15, fontweight = 'bold')\n",
    "plt.yticks(fontsize = 13)\n",
    "ax2.yaxis.set_major_formatter(mtick.PercentFormatter(1.0))\n",
    "plt.ylabel(\"Recorded Percentage \\n\", fontweight = 'bold', fontsize = 14)\n",
    "\n",
    "ax2.legend(loc = 'upper right', bbox_to_anchor = (1.18, 1), title = 'Funder',\n",
    "          title_fontsize = 'x-large', fontsize = 'medium', labelspacing = 1)\n",
    "plt.title(\"Funder\\n\", fontsize = 18, fontweight = 'bold');"
   ]
  },
  {
   "cell_type": "markdown",
   "metadata": {},
   "source": [
    "#### water source"
   ]
  },
  {
   "cell_type": "code",
   "execution_count": 90,
   "metadata": {},
   "outputs": [],
   "source": [
    "source2 = df_subgroups(\"source\")"
   ]
  },
  {
   "cell_type": "code",
   "execution_count": 91,
   "metadata": {},
   "outputs": [
    {
     "data": {
      "image/png": "[encoded data removed]",
      "text/plain": [
       "<Figure size 1080x360 with 1 Axes>"
      ]
     },
     "metadata": {
      "needs_background": "light"
     },
     "output_type": "display_data"
    }
   ],
   "source": [
    "ax2 = source2.plot(kind = 'bar', figsize = (15, 5), edgecolor = 'black', alpha = .8,\n",
    "                  color = ['cyan', 'mediumspringgreen', 'yellowgreen', 'coral', 'slategray', \n",
    "                          'turquoise', 'deepskyblue', 'wheat', 'teal', 'violet'])\n",
    "\n",
    "plt.xticks(fontsize = 15, rotation = 0)\n",
    "plt.xlabel('\\n Water Pump Status Breakdown', fontsize = 15, fontweight = 'bold')\n",
    "plt.yticks(fontsize = 13)\n",
    "ax2.yaxis.set_major_formatter(mtick.PercentFormatter(1.0))\n",
    "plt.ylabel(\"Recorded Percentage \\n\", fontweight = 'bold', fontsize = 14)\n",
    "\n",
    "ax2.legend(loc = 'upper right', bbox_to_anchor = (1.18, 1), title = 'Source',\n",
    "          title_fontsize = 'x-large', fontsize = 'medium', labelspacing = 1)\n",
    "plt.title(\"Water Source Type\\n\", fontsize = 18, fontweight = 'bold');"
   ]
  },
  {
   "cell_type": "markdown",
   "metadata": {},
   "source": [
    "#### quantity_group"
   ]
  },
  {
   "cell_type": "code",
   "execution_count": 92,
   "metadata": {},
   "outputs": [
    {
     "data": {
      "image/png": "[encoded data removed]",
      "text/plain": [
       "<Figure size 1080x504 with 1 Axes>"
      ]
     },
     "metadata": {
      "needs_background": "light"
     },
     "output_type": "display_data"
    }
   ],
   "source": [
    "quant = df_subgroups(\"quantity\")\n",
    "\n",
    "#Plot the quantity to status group\n",
    "ax = quant.plot(kind = 'bar', figsize = (15, 7), alpha = .8, edgecolor = 'black', \n",
    "                color = ['red', 'purple', 'olive', 'gold', 'black'])\n",
    "\n",
    "#Format axis\n",
    "plt.xticks(fontsize = 13, fontweight = 'bold', rotation = 0)\n",
    "plt.xlabel('\\nWater Pump Status Breakdown', fontsize = 14, fontweight = 'bold')\n",
    "plt.yticks(fontsize = 13)\n",
    "ax.yaxis.set_major_formatter(mtick.PercentFormatter(1.0))\n",
    "plt.ylabel(\"Recorded Percentage \\n\", fontweight = 'bold', fontsize = 14)\n",
    "\n",
    "#Format plot\n",
    "ax.legend(loc = 'upper right', bbox_to_anchor = (1.2, 1), title = 'Water Quantity',\n",
    "          title_fontsize = 'xx-large', fontsize = 'x-large', labelspacing = 1)\n",
    "plt.title(\"Water Quantity Spread by Functionality\\n\", fontsize = 16, fontweight = 'bold');"
   ]
  },
  {
   "cell_type": "markdown",
   "metadata": {},
   "source": [
    "#### extraction type"
   ]
  },
  {
   "cell_type": "code",
   "execution_count": 93,
   "metadata": {},
   "outputs": [
    {
     "data": {
      "image/png": "[encoded data removed]",
      "text/plain": [
       "<Figure size 1080x504 with 1 Axes>"
      ]
     },
     "metadata": {
      "needs_background": "light"
     },
     "output_type": "display_data"
    }
   ],
   "source": [
    "extract = df_subgroups(\"extraction_type_class\")\n",
    "\n",
    "#Plot the quantity to status group\n",
    "ax = extract.plot(kind = 'bar', figsize = (15, 7), alpha = .8, edgecolor = 'black', \n",
    "                color = ['red', 'purple', 'olive', 'gold', 'black'])\n",
    "\n",
    "#Format axis\n",
    "plt.xticks(fontsize = 13, fontweight = 'bold', rotation = 0)\n",
    "plt.xlabel('\\nWater Pump Status Breakdown', fontsize = 14, fontweight = 'bold')\n",
    "plt.yticks(fontsize = 13)\n",
    "ax.yaxis.set_major_formatter(mtick.PercentFormatter(1.0))\n",
    "plt.ylabel(\"Recorded Percentage \\n\", fontweight = 'bold', fontsize = 14)\n",
    "\n",
    "#Format plot\n",
    "ax.legend(loc = 'upper right', bbox_to_anchor = (1.2, 1), title = 'extraction type',\n",
    "          title_fontsize = 'xx-large', fontsize = 'x-large', labelspacing = 1)\n",
    "plt.title(\"extraction type Spread by Functionality\\n\", fontsize = 16, fontweight = 'bold');"
   ]
  },
  {
   "cell_type": "code",
   "execution_count": 94,
   "metadata": {},
   "outputs": [
    {
     "name": "stdout",
     "output_type": "stream",
     "text": [
      "<class 'pandas.core.frame.DataFrame'>\n",
      "Int64Index: 59399 entries, 0 to 59399\n",
      "Data columns (total 25 columns):\n",
      " #   Column                 Non-Null Count  Dtype  \n",
      "---  ------                 --------------  -----  \n",
      " 0   id                     59399 non-null  int64  \n",
      " 1   status_group           59399 non-null  object \n",
      " 2   date_recorded          59399 non-null  object \n",
      " 3   funder                 59399 non-null  object \n",
      " 4   gps_height             59399 non-null  int64  \n",
      " 5   installer              59399 non-null  object \n",
      " 6   longitude              59399 non-null  float64\n",
      " 7   latitude               59399 non-null  float64\n",
      " 8   basin                  59399 non-null  object \n",
      " 9   region                 59399 non-null  object \n",
      " 10  lga                    59399 non-null  object \n",
      " 11  ward                   59399 non-null  object \n",
      " 12  population             59399 non-null  int64  \n",
      " 13  public_meeting         59399 non-null  int32  \n",
      " 14  permit                 59399 non-null  int32  \n",
      " 15  construction_year      59399 non-null  int64  \n",
      " 16  extraction_type_class  59399 non-null  object \n",
      " 17  management_group       59399 non-null  object \n",
      " 18  payment                59399 non-null  object \n",
      " 19  water_quality          59399 non-null  object \n",
      " 20  quantity               59399 non-null  object \n",
      " 21  source                 59399 non-null  object \n",
      " 22  waterpoint_type        59399 non-null  object \n",
      " 23  installer_cat          59399 non-null  object \n",
      " 24  funder_cat             59399 non-null  object \n",
      "dtypes: float64(2), int32(2), int64(4), object(17)\n",
      "memory usage: 11.3+ MB\n"
     ]
    }
   ],
   "source": [
    "df.info()"
   ]
  },
  {
   "cell_type": "code",
   "execution_count": 95,
   "metadata": {},
   "outputs": [
    {
     "name": "stdout",
     "output_type": "stream",
     "text": [
      "<class 'pandas.core.frame.DataFrame'>\n",
      "Int64Index: 59399 entries, 0 to 59399\n",
      "Data columns (total 25 columns):\n",
      " #   Column                 Non-Null Count  Dtype  \n",
      "---  ------                 --------------  -----  \n",
      " 0   id                     59399 non-null  int64  \n",
      " 1   status_group           59399 non-null  object \n",
      " 2   date_recorded          59399 non-null  object \n",
      " 3   funder                 59399 non-null  object \n",
      " 4   gps_height             59399 non-null  int64  \n",
      " 5   installer              59399 non-null  object \n",
      " 6   longitude              59399 non-null  float64\n",
      " 7   latitude               59399 non-null  float64\n",
      " 8   basin                  59399 non-null  object \n",
      " 9   region                 59399 non-null  object \n",
      " 10  lga                    59399 non-null  object \n",
      " 11  ward                   59399 non-null  object \n",
      " 12  population             59399 non-null  int64  \n",
      " 13  public_meeting         59399 non-null  int32  \n",
      " 14  permit                 59399 non-null  int32  \n",
      " 15  construction_year      59399 non-null  int64  \n",
      " 16  extraction_type_class  59399 non-null  object \n",
      " 17  management_group       59399 non-null  object \n",
      " 18  payment                59399 non-null  object \n",
      " 19  water_quality          59399 non-null  object \n",
      " 20  quantity               59399 non-null  object \n",
      " 21  source                 59399 non-null  object \n",
      " 22  waterpoint_type        59399 non-null  object \n",
      " 23  installer_cat          59399 non-null  object \n",
      " 24  funder_cat             59399 non-null  object \n",
      "dtypes: float64(2), int32(2), int64(4), object(17)\n",
      "memory usage: 11.3+ MB\n"
     ]
    }
   ],
   "source": [
    "#df.drop(columns = [\"permit\",\"public_meeting\"], inplace = True)\n",
    "df.info()"
   ]
  },
  {
   "cell_type": "code",
   "execution_count": 96,
   "metadata": {},
   "outputs": [
    {
     "data": {
      "image/png": "[encoded data removed]",
      "text/plain": [
       "<Figure size 1080x504 with 1 Axes>"
      ]
     },
     "metadata": {
      "needs_background": "light"
     },
     "output_type": "display_data"
    }
   ],
   "source": [
    "management_type = df_subgroups(\"management_group\")\n",
    "\n",
    "#Plot the quantity to status group\n",
    "ax = management_type.plot(kind = 'bar', figsize = (15, 7), alpha = .8, edgecolor = 'black', \n",
    "                color = ['red', 'purple', 'olive', 'black',\"maroon\",\"yellow\",\"orange\",\"green\",\"gold\",\"forestgreen\",\"slategray\",\"brown\"])\n",
    "\n",
    "#Format axis\n",
    "plt.xticks(fontsize = 13, fontweight = 'bold', rotation = 0)\n",
    "plt.xlabel('\\nWater Pump Status Breakdown', fontsize = 14, fontweight = 'bold')\n",
    "plt.yticks(fontsize = 13)\n",
    "ax.yaxis.set_major_formatter(mtick.PercentFormatter(1.0))\n",
    "plt.ylabel(\"Recorded Percentage \\n\", fontweight = 'bold', fontsize = 14)\n",
    "\n",
    "#Format plot\n",
    "ax.legend(loc = 'upper right', bbox_to_anchor = (1.2, 1), title = 'management_type',\n",
    "          title_fontsize = 'xx-large', fontsize = 'x-large', labelspacing = 1)\n",
    "plt.title(\"management type Spread by Functionality\\n\", fontsize = 16, fontweight = 'bold');"
   ]
  },
  {
   "cell_type": "markdown",
   "metadata": {},
   "source": [
    "#### payment"
   ]
  },
  {
   "cell_type": "code",
   "execution_count": 97,
   "metadata": {},
   "outputs": [
    {
     "data": {
      "image/png": "[encoded data removed]",
      "text/plain": [
       "<Figure size 1080x504 with 1 Axes>"
      ]
     },
     "metadata": {
      "needs_background": "light"
     },
     "output_type": "display_data"
    }
   ],
   "source": [
    "payment = df_subgroups(\"payment\")\n",
    "\n",
    "#Plot the quantity to status group\n",
    "ax = payment.plot(kind = 'bar', figsize = (15, 7), alpha = .8, edgecolor = 'black', \n",
    "                color = ['red', 'purple', 'olive', 'black',\"maroon\",\"yellow\",\"orange\",\"green\",\"gold\",\"forestgreen\",\"slategray\",\"brown\"])\n",
    "\n",
    "#Format axis\n",
    "plt.xticks(fontsize = 13, fontweight = 'bold', rotation = 0)\n",
    "plt.xlabel('\\nWater Pump Status Breakdown', fontsize = 14, fontweight = 'bold')\n",
    "plt.yticks(fontsize = 13)\n",
    "ax.yaxis.set_major_formatter(mtick.PercentFormatter(1.0))\n",
    "plt.ylabel(\"Recorded Percentage \\n\", fontweight = 'bold', fontsize = 14)\n",
    "\n",
    "#Format plot\n",
    "ax.legend(loc = 'upper right', bbox_to_anchor = (1.2, 1), title = 'payment',\n",
    "          title_fontsize = 'xx-large', fontsize = 'x-large', labelspacing = 1)\n",
    "plt.title(\"payment Spread by Functionality\\n\", fontsize = 16, fontweight = 'bold');"
   ]
  },
  {
   "cell_type": "markdown",
   "metadata": {},
   "source": [
    "#### FEATURE ENGINEERING"
   ]
  },
  {
   "cell_type": "code",
   "execution_count": 98,
   "metadata": {},
   "outputs": [
    {
     "name": "stderr",
     "output_type": "stream",
     "text": [
      "C:\\Users\\user\\anaconda3\\envs\\learn-env\\lib\\site-packages\\pandas\\core\\indexing.py:670: SettingWithCopyWarning: \n",
      "A value is trying to be set on a copy of a slice from a DataFrame\n",
      "\n",
      "See the caveats in the documentation: https://pandas.pydata.org/pandas-docs/stable/user_guide/indexing.html#returning-a-view-versus-a-copy\n",
      "  iloc._setitem_with_indexer(indexer, value)\n"
     ]
    }
   ],
   "source": [
    "df[[\"day\", \"month\", \"Year\"]] = df[\"date_recorded\"].str.split(\"/\", expand = True)\n",
    "\n",
    "df[['day', 'month', 'Year']] = df[['day', 'month', 'Year']].astype(int)\n",
    "df['construction_year'].loc[df['construction_year'] == 0] = df['Year']"
   ]
  },
  {
   "cell_type": "code",
   "execution_count": 99,
   "metadata": {},
   "outputs": [],
   "source": [
    "df.drop(\"date_recorded\",axis =1,inplace = True)"
   ]
  },
  {
   "cell_type": "code",
   "execution_count": 100,
   "metadata": {},
   "outputs": [
    {
     "name": "stdout",
     "output_type": "stream",
     "text": [
      "<class 'pandas.core.frame.DataFrame'>\n",
      "Int64Index: 59399 entries, 0 to 59399\n",
      "Data columns (total 28 columns):\n",
      " #   Column                 Non-Null Count  Dtype  \n",
      "---  ------                 --------------  -----  \n",
      " 0   id                     59399 non-null  int64  \n",
      " 1   status_group           59399 non-null  object \n",
      " 2   funder                 59399 non-null  object \n",
      " 3   gps_height             59399 non-null  int64  \n",
      " 4   installer              59399 non-null  object \n",
      " 5   longitude              59399 non-null  float64\n",
      " 6   latitude               59399 non-null  float64\n",
      " 7   basin                  59399 non-null  object \n",
      " 8   region                 59399 non-null  object \n",
      " 9   lga                    59399 non-null  object \n",
      " 10  ward                   59399 non-null  object \n",
      " 11  population             59399 non-null  int64  \n",
      " 12  public_meeting         59399 non-null  int32  \n",
      " 13  permit                 59399 non-null  int32  \n",
      " 14  construction_year      59399 non-null  int64  \n",
      " 15  extraction_type_class  59399 non-null  object \n",
      " 16  management_group       59399 non-null  object \n",
      " 17  payment                59399 non-null  object \n",
      " 18  water_quality          59399 non-null  object \n",
      " 19  quantity               59399 non-null  object \n",
      " 20  source                 59399 non-null  object \n",
      " 21  waterpoint_type        59399 non-null  object \n",
      " 22  installer_cat          59399 non-null  object \n",
      " 23  funder_cat             59399 non-null  object \n",
      " 24  day                    59399 non-null  int32  \n",
      " 25  month                  59399 non-null  int32  \n",
      " 26  Year                   59399 non-null  int32  \n",
      " 27  age_of_well            59399 non-null  int64  \n",
      "dtypes: float64(2), int32(5), int64(5), object(16)\n",
      "memory usage: 14.5+ MB\n"
     ]
    }
   ],
   "source": [
    "df['age_of_well'] = df['Year'] - df['construction_year']\n",
    "df.tail()\n",
    "df.info()"
   ]
  },
  {
   "cell_type": "code",
   "execution_count": 101,
   "metadata": {},
   "outputs": [],
   "source": [
    "mean_lat_train = df['latitude'].mean()\n",
    "mean_long_train = df['longitude'].mean()\n",
    "df['distance_x_height'] = np.sqrt((df['gps_height']**2 + df['longitude'] - mean_long_train)**2 + (df['latitude'] - mean_lat_train)**2)"
   ]
  },
  {
   "cell_type": "code",
   "execution_count": 102,
   "metadata": {},
   "outputs": [
    {
     "data": {
      "text/html": [
       "<div>\n",
       "<style scoped>\n",
       "    .dataframe tbody tr th:only-of-type {\n",
       "        vertical-align: middle;\n",
       "    }\n",
       "\n",
       "    .dataframe tbody tr th {\n",
       "        vertical-align: top;\n",
       "    }\n",
       "\n",
       "    .dataframe thead th {\n",
       "        text-align: right;\n",
       "    }\n",
       "</style>\n",
       "<table border=\"1\" class=\"dataframe\">\n",
       "  <thead>\n",
       "    <tr style=\"text-align: right;\">\n",
       "      <th></th>\n",
       "      <th>id</th>\n",
       "      <th>status_group</th>\n",
       "      <th>funder</th>\n",
       "      <th>gps_height</th>\n",
       "      <th>installer</th>\n",
       "      <th>longitude</th>\n",
       "      <th>latitude</th>\n",
       "      <th>basin</th>\n",
       "      <th>region</th>\n",
       "      <th>lga</th>\n",
       "      <th>...</th>\n",
       "      <th>quantity</th>\n",
       "      <th>source</th>\n",
       "      <th>waterpoint_type</th>\n",
       "      <th>installer_cat</th>\n",
       "      <th>funder_cat</th>\n",
       "      <th>day</th>\n",
       "      <th>month</th>\n",
       "      <th>Year</th>\n",
       "      <th>age_of_well</th>\n",
       "      <th>distance_x_height</th>\n",
       "    </tr>\n",
       "  </thead>\n",
       "  <tbody>\n",
       "    <tr>\n",
       "      <th>0</th>\n",
       "      <td>69572</td>\n",
       "      <td>functional</td>\n",
       "      <td>Roman</td>\n",
       "      <td>1390</td>\n",
       "      <td>Roman</td>\n",
       "      <td>34.938093</td>\n",
       "      <td>-9.856322</td>\n",
       "      <td>Lake Nyasa</td>\n",
       "      <td>Iringa</td>\n",
       "      <td>Ludewa</td>\n",
       "      <td>...</td>\n",
       "      <td>enough</td>\n",
       "      <td>spring</td>\n",
       "      <td>communal standpipe</td>\n",
       "      <td>Others</td>\n",
       "      <td>Others</td>\n",
       "      <td>3</td>\n",
       "      <td>14</td>\n",
       "      <td>2011</td>\n",
       "      <td>12</td>\n",
       "      <td>1.932101e+06</td>\n",
       "    </tr>\n",
       "    <tr>\n",
       "      <th>2</th>\n",
       "      <td>34310</td>\n",
       "      <td>functional</td>\n",
       "      <td>Lottery Club</td>\n",
       "      <td>686</td>\n",
       "      <td>world vision</td>\n",
       "      <td>37.460664</td>\n",
       "      <td>-3.821329</td>\n",
       "      <td>Pangani</td>\n",
       "      <td>Manyara</td>\n",
       "      <td>Simanjiro</td>\n",
       "      <td>...</td>\n",
       "      <td>enough</td>\n",
       "      <td>dam</td>\n",
       "      <td>communal standpipe multiple</td>\n",
       "      <td>world vision</td>\n",
       "      <td>Others</td>\n",
       "      <td>2</td>\n",
       "      <td>25</td>\n",
       "      <td>2013</td>\n",
       "      <td>4</td>\n",
       "      <td>4.705994e+05</td>\n",
       "    </tr>\n",
       "    <tr>\n",
       "      <th>3</th>\n",
       "      <td>67743</td>\n",
       "      <td>non functional</td>\n",
       "      <td>Unicef</td>\n",
       "      <td>263</td>\n",
       "      <td>Unicef</td>\n",
       "      <td>38.486161</td>\n",
       "      <td>-11.155298</td>\n",
       "      <td>Ruvuma / Southern Coast</td>\n",
       "      <td>Mtwara</td>\n",
       "      <td>Nanyumbu</td>\n",
       "      <td>...</td>\n",
       "      <td>dry</td>\n",
       "      <td>machine dbh</td>\n",
       "      <td>communal standpipe multiple</td>\n",
       "      <td>Others</td>\n",
       "      <td>Unicef</td>\n",
       "      <td>1</td>\n",
       "      <td>28</td>\n",
       "      <td>2013</td>\n",
       "      <td>27</td>\n",
       "      <td>6.917341e+04</td>\n",
       "    </tr>\n",
       "    <tr>\n",
       "      <th>4</th>\n",
       "      <td>19728</td>\n",
       "      <td>functional</td>\n",
       "      <td>Action In A</td>\n",
       "      <td>0</td>\n",
       "      <td>Artisan</td>\n",
       "      <td>31.130847</td>\n",
       "      <td>-1.825359</td>\n",
       "      <td>Lake Victoria</td>\n",
       "      <td>Kagera</td>\n",
       "      <td>Karagwe</td>\n",
       "      <td>...</td>\n",
       "      <td>seasonal</td>\n",
       "      <td>rainwater harvesting</td>\n",
       "      <td>communal standpipe</td>\n",
       "      <td>Others</td>\n",
       "      <td>Others</td>\n",
       "      <td>7</td>\n",
       "      <td>13</td>\n",
       "      <td>2011</td>\n",
       "      <td>0</td>\n",
       "      <td>4.872614e+00</td>\n",
       "    </tr>\n",
       "    <tr>\n",
       "      <th>5</th>\n",
       "      <td>9944</td>\n",
       "      <td>functional</td>\n",
       "      <td>Mkinga Distric Coun</td>\n",
       "      <td>0</td>\n",
       "      <td>DWE</td>\n",
       "      <td>39.172796</td>\n",
       "      <td>-4.765587</td>\n",
       "      <td>Pangani</td>\n",
       "      <td>Tanga</td>\n",
       "      <td>Mkinga</td>\n",
       "      <td>...</td>\n",
       "      <td>enough</td>\n",
       "      <td>other</td>\n",
       "      <td>communal standpipe multiple</td>\n",
       "      <td>DWE</td>\n",
       "      <td>Others</td>\n",
       "      <td>3</td>\n",
       "      <td>13</td>\n",
       "      <td>2011</td>\n",
       "      <td>2</td>\n",
       "      <td>5.181452e+00</td>\n",
       "    </tr>\n",
       "  </tbody>\n",
       "</table>\n",
       "<p>5 rows × 29 columns</p>\n",
       "</div>"
      ],
      "text/plain": [
       "      id    status_group               funder  gps_height     installer  \\\n",
       "0  69572      functional                Roman        1390         Roman   \n",
       "2  34310      functional         Lottery Club         686  world vision   \n",
       "3  67743  non functional               Unicef         263        Unicef   \n",
       "4  19728      functional          Action In A           0       Artisan   \n",
       "5   9944      functional  Mkinga Distric Coun           0           DWE   \n",
       "\n",
       "   longitude   latitude                    basin   region        lga  ...  \\\n",
       "0  34.938093  -9.856322               Lake Nyasa   Iringa     Ludewa  ...   \n",
       "2  37.460664  -3.821329                  Pangani  Manyara  Simanjiro  ...   \n",
       "3  38.486161 -11.155298  Ruvuma / Southern Coast   Mtwara   Nanyumbu  ...   \n",
       "4  31.130847  -1.825359            Lake Victoria   Kagera    Karagwe  ...   \n",
       "5  39.172796  -4.765587                  Pangani    Tanga     Mkinga  ...   \n",
       "\n",
       "   quantity                source              waterpoint_type  installer_cat  \\\n",
       "0    enough                spring           communal standpipe         Others   \n",
       "2    enough                   dam  communal standpipe multiple   world vision   \n",
       "3       dry           machine dbh  communal standpipe multiple         Others   \n",
       "4  seasonal  rainwater harvesting           communal standpipe         Others   \n",
       "5    enough                 other  communal standpipe multiple            DWE   \n",
       "\n",
       "   funder_cat day month  Year age_of_well distance_x_height  \n",
       "0      Others   3    14  2011          12      1.932101e+06  \n",
       "2      Others   2    25  2013           4      4.705994e+05  \n",
       "3      Unicef   1    28  2013          27      6.917341e+04  \n",
       "4      Others   7    13  2011           0      4.872614e+00  \n",
       "5      Others   3    13  2011           2      5.181452e+00  \n",
       "\n",
       "[5 rows x 29 columns]"
      ]
     },
     "execution_count": 102,
     "metadata": {},
     "output_type": "execute_result"
    }
   ],
   "source": [
    "df.head()"
   ]
  },
  {
   "cell_type": "code",
   "execution_count": 103,
   "metadata": {},
   "outputs": [
    {
     "name": "stdout",
     "output_type": "stream",
     "text": [
      "<class 'pandas.core.frame.DataFrame'>\n",
      "Int64Index: 59399 entries, 0 to 59399\n",
      "Data columns (total 18 columns):\n",
      " #   Column                 Non-Null Count  Dtype  \n",
      "---  ------                 --------------  -----  \n",
      " 0   id                     59399 non-null  int64  \n",
      " 1   status_group           59399 non-null  object \n",
      " 2   basin                  59399 non-null  object \n",
      " 3   region                 59399 non-null  object \n",
      " 4   population             59399 non-null  int64  \n",
      " 5   public_meeting         59399 non-null  int32  \n",
      " 6   permit                 59399 non-null  int32  \n",
      " 7   extraction_type_class  59399 non-null  object \n",
      " 8   management_group       59399 non-null  object \n",
      " 9   payment                59399 non-null  object \n",
      " 10  water_quality          59399 non-null  object \n",
      " 11  quantity               59399 non-null  object \n",
      " 12  source                 59399 non-null  object \n",
      " 13  waterpoint_type        59399 non-null  object \n",
      " 14  installer_cat          59399 non-null  object \n",
      " 15  funder_cat             59399 non-null  object \n",
      " 16  age_of_well            59399 non-null  int64  \n",
      " 17  distance_x_height      59399 non-null  float64\n",
      "dtypes: float64(1), int32(2), int64(3), object(12)\n",
      "memory usage: 10.7+ MB\n"
     ]
    }
   ],
   "source": [
    "df = df.drop(columns = [\"installer\",\"ward\",\"lga\",'Year', 'month', 'day','construction_year',\"latitude\",\"longitude\",\"gps_height\",\"funder\"], axis=1)\n",
    "df.info()"
   ]
  },
  {
   "cell_type": "code",
   "execution_count": 104,
   "metadata": {},
   "outputs": [],
   "source": [
    "#saving the cleaned training data"
   ]
  },
  {
   "cell_type": "code",
   "execution_count": 105,
   "metadata": {},
   "outputs": [],
   "source": [
    "df.to_csv(\"clean_training.csv\",index = False)"
   ]
  }
 ],
 "metadata": {
  "kernelspec": {
   "display_name": "Python 3",
   "language": "python",
   "name": "python3"
  },
  "language_info": {
   "codemirror_mode": {
    "name": "ipython",
    "version": 3
   },
   "file_extension": ".py",
   "mimetype": "text/x-python",
   "name": "python",
   "nbconvert_exporter": "python",
   "pygments_lexer": "ipython3",
   "version": "3.8.5"
  }
 },
 "nbformat": 4,
 "nbformat_minor": 4
}

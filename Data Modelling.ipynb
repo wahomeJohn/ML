{
 "cells": [
  {
   "cell_type": "code",
   "execution_count": 2,
   "metadata": {},
   "outputs": [],
   "source": [
    "import matplotlib.pyplot as plt\n",
    "import seaborn as sns; sns.set()\n",
    "%matplotlib inline\n",
    "\n",
    "import pandas as pd\n",
    "import numpy as np\n",
    "\n",
    "from sklearn.tree import DecisionTreeClassifier\n",
    "from sklearn.ensemble import RandomForestClassifier, ExtraTreesClassifier\n",
    "from sklearn.linear_model import LogisticRegression\n",
    "from sklearn.preprocessing import KBinsDiscretizer, FunctionTransformer,RobustScaler\n",
    "from sklearn.model_selection import cross_val_score\n",
    "from sklearn.preprocessing import OneHotEncoder\n",
    "from sklearn.pipeline import make_pipeline, Pipeline\n",
    "from sklearn.model_selection import cross_val_score\n",
    "from sklearn.model_selection import cross_val_score\n",
    "\n",
    "\n",
    "from sklearn.model_selection import GridSearchCV, train_test_split\n",
    "from sklearn.metrics import roc_auc_score\n",
    "\n",
    "from sklearn.datasets import make_classification\n",
    "from sklearn.model_selection import train_test_split, GridSearchCV\n",
    "\n",
    "import warnings\n",
    "warnings.filterwarnings(\"ignore\")\n",
    "from sklearn.neighbors import KNeighborsClassifier\n",
    "from imblearn.over_sampling import SMOTE\n",
    "\n",
    "from sklearn.pipeline import make_pipeline, Pipeline\n",
    "from imblearn.pipeline import Pipeline\n",
    "from sklearn.impute import SimpleImputer\n",
    "from sklearn.preprocessing import OneHotEncoder,LabelEncoder,MinMaxScaler\n",
    "from sklearn.preprocessing import RobustScaler\n",
    "from sklearn.compose import ColumnTransformer\n",
    "from sklearn.model_selection import train_test_split\n",
    "from sklearn.linear_model import LogisticRegression\n",
    "from sklearn.metrics import accuracy_score, balanced_accuracy_score\n",
    "from sklearn.metrics import make_scorer, recall_score,log_loss, accuracy_score, precision_score,confusion_matrix,plot_confusion_matrix,classification_report\n",
    "\n",
    "from sklearn.metrics import ConfusionMatrixDisplay"
   ]
  },
  {
   "cell_type": "code",
   "execution_count": 3,
   "metadata": {},
   "outputs": [],
   "source": [
    "df = pd.read_csv('clean_training.csv')\n",
    "pd.options.display.max_columns=100"
   ]
  },
  {
   "cell_type": "code",
   "execution_count": 4,
   "metadata": {},
   "outputs": [
    {
     "data": {
      "text/plain": [
       "Lake Victoria      10247\n",
       "Pangani             8940\n",
       "Rufiji              7976\n",
       "Internal            7785\n",
       "Lake Tanganyika     6432\n",
       "Wami                5987\n",
       "Lake Nyasa          5085\n",
       "Ruvuma              4493\n",
       "Lake Rukwa          2454\n",
       "Name: basin, dtype: int64"
      ]
     },
     "execution_count": 4,
     "metadata": {},
     "output_type": "execute_result"
    }
   ],
   "source": [
    "df.loc[df[\"basin\"] == 'Wami / Ruvu', \"basin\"] = 'Wami'\n",
    "df.loc[df[\"basin\"] == 'Ruvuma / Southern Coast', \"basin\"] = 'Ruvuma'\n",
    "df.basin.value_counts()"
   ]
  },
  {
   "cell_type": "code",
   "execution_count": 6,
   "metadata": {},
   "outputs": [],
   "source": [
    "#creating a copy of the original dataframe\n",
    "df1 =df.copy()"
   ]
  },
  {
   "cell_type": "code",
   "execution_count": 7,
   "metadata": {},
   "outputs": [],
   "source": [
    "target_var = {'functional':0, \n",
    "                   'non functional': 2, \n",
    "                   'functional needs repair': 1} \n",
    "df1['status_group'] = df1['status_group'].replace(target_var)\n",
    "target_var = df1['status_group'] "
   ]
  },
  {
   "cell_type": "code",
   "execution_count": 8,
   "metadata": {},
   "outputs": [
    {
     "data": {
      "text/plain": [
       "0    32258\n",
       "2    22824\n",
       "1     4317\n",
       "Name: status_group, dtype: int64"
      ]
     },
     "execution_count": 8,
     "metadata": {},
     "output_type": "execute_result"
    }
   ],
   "source": [
    "df1['status_group'].value_counts()"
   ]
  },
  {
   "cell_type": "code",
   "execution_count": 7,
   "metadata": {},
   "outputs": [
    {
     "name": "stdout",
     "output_type": "stream",
     "text": [
      "<class 'pandas.core.frame.DataFrame'>\n",
      "RangeIndex: 59399 entries, 0 to 59398\n",
      "Data columns (total 18 columns):\n",
      " #   Column                 Non-Null Count  Dtype  \n",
      "---  ------                 --------------  -----  \n",
      " 0   id                     59399 non-null  int64  \n",
      " 1   status_group           59399 non-null  object \n",
      " 2   basin                  59399 non-null  object \n",
      " 3   region                 59399 non-null  object \n",
      " 4   population             59399 non-null  int64  \n",
      " 5   public_meeting         59399 non-null  int64  \n",
      " 6   permit                 59399 non-null  int64  \n",
      " 7   extraction_type_class  59399 non-null  object \n",
      " 8   management_group       59399 non-null  object \n",
      " 9   payment                59399 non-null  object \n",
      " 10  water_quality          59399 non-null  object \n",
      " 11  quantity               59399 non-null  object \n",
      " 12  source                 59399 non-null  object \n",
      " 13  waterpoint_type        59399 non-null  object \n",
      " 14  installer_cat          59399 non-null  object \n",
      " 15  funder_cat             59399 non-null  object \n",
      " 16  age_of_well            59399 non-null  int64  \n",
      " 17  distance_x_height      59399 non-null  float64\n",
      "dtypes: float64(1), int64(5), object(12)\n",
      "memory usage: 8.2+ MB\n"
     ]
    }
   ],
   "source": [
    "df.info()"
   ]
  },
  {
   "cell_type": "markdown",
   "metadata": {},
   "source": [
    "### Grouping the data into categorical and numerical data"
   ]
  },
  {
   "cell_type": "code",
   "execution_count": 9,
   "metadata": {},
   "outputs": [],
   "source": [
    "cat_col = ['basin','region','extraction_type_class',\n",
    "           'management_group','payment','water_quality',\n",
    "           'quantity','source','waterpoint_type',\n",
    "           'installer_cat','funder_cat']\n",
    "\n",
    "num_col = [\"distance_x_height\",\n",
    "           \"population\",'public_meeting','permit','age_of_well']"
   ]
  },
  {
   "cell_type": "markdown",
   "metadata": {},
   "source": [
    "### converting target variable to a binary class"
   ]
  },
  {
   "cell_type": "markdown",
   "metadata": {},
   "source": [
    "we need our target class to have two binary values and not three. \n",
    "\n",
    "Therefore we will; \n",
    "\n",
    "1.merge the non functional and functional need repair and assign value 0 \n",
    "\n",
    "2.functional and assign 1"
   ]
  },
  {
   "cell_type": "code",
   "execution_count": 10,
   "metadata": {},
   "outputs": [
    {
     "data": {
      "text/plain": [
       "1    32258\n",
       "0    27141\n",
       "Name: status_group, dtype: int64"
      ]
     },
     "execution_count": 10,
     "metadata": {},
     "output_type": "execute_result"
    }
   ],
   "source": [
    "status_group_binary = {0:1, 1: 0, 2 : 0}\n",
    "df1['status_group'] = df1['status_group'].replace(status_group_binary )\n",
    "df1['status_group'].value_counts()"
   ]
  },
  {
   "cell_type": "code",
   "execution_count": 15,
   "metadata": {},
   "outputs": [],
   "source": [
    "target = 'status_group'"
   ]
  },
  {
   "cell_type": "code",
   "execution_count": 16,
   "metadata": {},
   "outputs": [],
   "source": [
    "# variable for the x and y values\n",
    "X = df1.drop('status_group', axis=1)\n",
    "y = df1['status_group']"
   ]
  },
  {
   "cell_type": "code",
   "execution_count": 17,
   "metadata": {},
   "outputs": [],
   "source": [
    "# dividing the data into training and test data\n",
    "X_train, X_test, y_train, y_test = train_test_split(X, y, test_size=0.3, random_state=40)"
   ]
  },
  {
   "cell_type": "code",
   "execution_count": 18,
   "metadata": {},
   "outputs": [
    {
     "name": "stdout",
     "output_type": "stream",
     "text": [
      "Training set:  (41579, 17) (41579,)\n",
      "Testing set:  (17820, 17) (17820,)\n"
     ]
    }
   ],
   "source": [
    "print('Training set: ', X_train.shape, y_train.shape)\n",
    "print('Testing set: ', X_test.shape, y_test.shape)"
   ]
  },
  {
   "cell_type": "markdown",
   "metadata": {},
   "source": [
    "### using pipeline"
   ]
  },
  {
   "cell_type": "code",
   "execution_count": 19,
   "metadata": {},
   "outputs": [],
   "source": [
    "#applying one hot encoder for the categorical columns and robust scaler for the numerical columns\n",
    "num_columns=X_train.select_dtypes(include=['int64', 'float64']).columns\n",
    "num_transformer=Pipeline(steps=[\n",
    "    ('imputer',SimpleImputer(strategy='median')),\n",
    "    ('scaler',RobustScaler())])"
   ]
  },
  {
   "cell_type": "code",
   "execution_count": 20,
   "metadata": {},
   "outputs": [],
   "source": [
    "# Transforming categorical features to numeric using OneHotEncoder\n",
    "categorical_columns=X_train.select_dtypes(include=['object','category']).columns\n",
    "categorical_transformer=Pipeline(steps=[\n",
    "    ('imputer',SimpleImputer(strategy='constant',fill_value='missing')),\n",
    "    ('onehot',OneHotEncoder())])\n",
    "    "
   ]
  },
  {
   "cell_type": "code",
   "execution_count": 21,
   "metadata": {},
   "outputs": [],
   "source": [
    "# combining scaler and encoder with preprocessor\n",
    "preprocessor=ColumnTransformer(transformers=[\n",
    "    ('num',num_transformer,num_columns),\n",
    "    ('cat',categorical_transformer,categorical_columns)])"
   ]
  },
  {
   "cell_type": "markdown",
   "metadata": {},
   "source": [
    "## Building Models"
   ]
  },
  {
   "cell_type": "markdown",
   "metadata": {},
   "source": [
    "### Baseline model using logistic regression"
   ]
  },
  {
   "cell_type": "markdown",
   "metadata": {},
   "source": [
    "Applying the logistic regression model on the pipeline that contains the encoded and standardized values"
   ]
  },
  {
   "cell_type": "code",
   "execution_count": 17,
   "metadata": {},
   "outputs": [
    {
     "name": "stdout",
     "output_type": "stream",
     "text": [
      "Accuracy:\n",
      "TRAIN: 0.754539551215758\n",
      "TEST: 0.7530864197530864\n",
      "\n",
      "Balanced Accuracy:\n",
      "TRAIN: 0.7478930676508377\n",
      "TEST: 0.7460440796033636\n"
     ]
    }
   ],
   "source": [
    "\n",
    "lr = Pipeline(steps=[('preprocessor', preprocessor),\n",
    "                      ('classifier', LogisticRegression(class_weight = 'balanced',\n",
    "                                                        solver = 'lbfgs', \n",
    "                                                        random_state=42))])\n",
    "\n",
    "# fit the model\n",
    "lr.fit(X_train,y_train)  \n",
    "\n",
    "# make predictions on training set\n",
    "y_pred = lr.predict(X_train)\n",
    "\n",
    "# make predictions on test set\n",
    "y_pred_test = lr.predict(X_test)\n",
    "\n",
    "print(\"Accuracy:\")\n",
    "print(f\"TRAIN: {accuracy_score(y_train, y_pred)}\")\n",
    "print(f\"TEST: {accuracy_score(y_test, y_pred_test)}\")\n",
    "\n",
    "print(\"\\nBalanced Accuracy:\")\n",
    "print(f\"TRAIN: {balanced_accuracy_score(y_train, y_pred)}\")\n",
    "print(f\"TEST: {balanced_accuracy_score(y_test, y_pred_test)}\")"
   ]
  },
  {
   "cell_type": "code",
   "execution_count": 18,
   "metadata": {},
   "outputs": [
    {
     "data": {
      "image/png": "[encoded data removed]",
      "text/plain": [
       "<Figure size 432x288 with 2 Axes>"
      ]
     },
     "metadata": {
      "needs_background": "light"
     },
     "output_type": "display_data"
    }
   ],
   "source": [
    "plot_confusion_matrix(lr, X_test, y_test)  \n",
    "plt.show()"
   ]
  },
  {
   "cell_type": "code",
   "execution_count": 19,
   "metadata": {},
   "outputs": [
    {
     "name": "stdout",
     "output_type": "stream",
     "text": [
      "              precision    recall  f1-score   support\n",
      "\n",
      "           0       0.77      0.66      0.71      8156\n",
      "           1       0.74      0.83      0.78      9664\n",
      "\n",
      "    accuracy                           0.75     17820\n",
      "   macro avg       0.76      0.75      0.75     17820\n",
      "weighted avg       0.75      0.75      0.75     17820\n",
      "\n"
     ]
    }
   ],
   "source": [
    "cr = classification_report(y_test, y_pred_test)\n",
    "print(cr)"
   ]
  },
  {
   "cell_type": "markdown",
   "metadata": {},
   "source": [
    "##### model evaluation"
   ]
  },
  {
   "cell_type": "markdown",
   "metadata": {},
   "source": [
    "From the confusion matrix we can see that:\n",
    "1650 functional waterpoints are misclassified as non functional\n",
    "\n",
    "2750 non functional waterpoints are classified as functional\n",
    "\n",
    "The model perfoms better on the train data as compared to the test data with an accuracy score of 75.5%"
   ]
  },
  {
   "cell_type": "markdown",
   "metadata": {},
   "source": [
    "#### Min Max scaler, one hot encoder and logreg"
   ]
  },
  {
   "cell_type": "code",
   "execution_count": 20,
   "metadata": {},
   "outputs": [
    {
     "name": "stdout",
     "output_type": "stream",
     "text": [
      "Accuracy:\n",
      "TRAIN: 0.754539551215758\n",
      "TEST: 0.7530864197530864\n",
      "\n",
      "Balanced Accuracy:\n",
      "TRAIN: 0.7478930676508377\n",
      "TEST: 0.7460440796033636\n"
     ]
    }
   ],
   "source": [
    "categorical_transformer=Pipeline(steps=[\n",
    "    ('imputer',SimpleImputer(strategy='constant',fill_value='missing')),\n",
    "    ('onehot',LabelEncoder())])\n",
    "\n",
    "num_transformer=Pipeline(steps=[\n",
    "    ('imputer',SimpleImputer(strategy='median')),\n",
    "    ('minmax',MinMaxScaler())])\n",
    "    \n",
    "lr = Pipeline(steps=[('preprocessor', preprocessor),\n",
    "                      ('classifier', LogisticRegression(class_weight = 'balanced',\n",
    "                                                        solver = 'lbfgs', \n",
    "                                                        random_state=42))])\n",
    "\n",
    "# fit the model\n",
    "lr.fit(X_train,y_train)  \n",
    "\n",
    "# make predictions on training set\n",
    "y_pred = lr.predict(X_train)\n",
    "\n",
    "# make predictions on test set\n",
    "y_pred_test = lr.predict(X_test)\n",
    "\n",
    "print(\"Accuracy:\")\n",
    "print(f\"TRAIN: {accuracy_score(y_train, y_pred)}\")\n",
    "print(f\"TEST: {accuracy_score(y_test, y_pred_test)}\")\n",
    "\n",
    "print(\"\\nBalanced Accuracy:\")\n",
    "print(f\"TRAIN: {balanced_accuracy_score(y_train, y_pred)}\")\n",
    "print(f\"TEST: {balanced_accuracy_score(y_test, y_pred_test)}\")"
   ]
  },
  {
   "cell_type": "code",
   "execution_count": 21,
   "metadata": {},
   "outputs": [
    {
     "data": {
      "image/png": "[encoded data removed]",
      "text/plain": [
       "<Figure size 432x288 with 2 Axes>"
      ]
     },
     "metadata": {
      "needs_background": "light"
     },
     "output_type": "display_data"
    }
   ],
   "source": [
    "plot_confusion_matrix(lr, X_test, y_test)  \n",
    "plt.show()"
   ]
  },
  {
   "cell_type": "code",
   "execution_count": 22,
   "metadata": {},
   "outputs": [
    {
     "name": "stdout",
     "output_type": "stream",
     "text": [
      "              precision    recall  f1-score   support\n",
      "\n",
      "           0       0.77      0.66      0.71      8156\n",
      "           1       0.74      0.83      0.78      9664\n",
      "\n",
      "    accuracy                           0.75     17820\n",
      "   macro avg       0.76      0.75      0.75     17820\n",
      "weighted avg       0.75      0.75      0.75     17820\n",
      "\n"
     ]
    }
   ],
   "source": [
    "cr = classification_report(y_test, y_pred_test)\n",
    "print(cr)"
   ]
  },
  {
   "cell_type": "markdown",
   "metadata": {},
   "source": [
    "only the scaler is altered for this model. It gives similar results to the baseline model"
   ]
  },
  {
   "cell_type": "markdown",
   "metadata": {},
   "source": [
    "### Decision tree classifier model"
   ]
  },
  {
   "cell_type": "code",
   "execution_count": 23,
   "metadata": {},
   "outputs": [
    {
     "name": "stdout",
     "output_type": "stream",
     "text": [
      "Accuracy:\n",
      "TRAIN: 0.7161547896774815\n",
      "TEST: 0.7130190796857464\n",
      "\n",
      "Balanced Accuracy:\n",
      "TRAIN: 0.7000250345561267\n",
      "TEST: 0.6968199172429024\n"
     ]
    }
   ],
   "source": [
    "dt = Pipeline(steps=[('preprocessor', preprocessor),\n",
    "                      ('classifier', DecisionTreeClassifier(criterion='entropy', \n",
    "                                                            max_depth=4, \n",
    "                                                            min_samples_leaf=5, \n",
    "                                                            random_state=42, \n",
    "                                                            class_weight='balanced'))])\n",
    "# fit the model\n",
    "dt.fit(X_train, y_train) \n",
    " \n",
    "# make predictions on training set\n",
    "y_pred = dt.predict(X_train)\n",
    "\n",
    "# make predictions on test set\n",
    "y_pred_test = dt.predict(X_test)\n",
    "\n",
    "print(\"Accuracy:\")\n",
    "print(f\"TRAIN: {accuracy_score(y_train, y_pred)}\")\n",
    "print(f\"TEST: {accuracy_score(y_test, y_pred_test)}\")\n",
    "\n",
    "print(\"\\nBalanced Accuracy:\")\n",
    "print(f\"TRAIN: {balanced_accuracy_score(y_train, y_pred)}\")\n",
    "print(f\"TEST: {balanced_accuracy_score(y_test, y_pred_test)}\")"
   ]
  },
  {
   "cell_type": "markdown",
   "metadata": {},
   "source": [
    "### evaluating the model using classification report"
   ]
  },
  {
   "cell_type": "code",
   "execution_count": 24,
   "metadata": {},
   "outputs": [
    {
     "data": {
      "image/png": "[encoded data removed]",
      "text/plain": [
       "<Figure size 432x288 with 2 Axes>"
      ]
     },
     "metadata": {
      "needs_background": "light"
     },
     "output_type": "display_data"
    }
   ],
   "source": [
    "#plot_confusion_matrix\n",
    "plot_confusion_matrix(dt, X_test, y_test)  \n",
    "plt.show()\n"
   ]
  },
  {
   "cell_type": "code",
   "execution_count": 25,
   "metadata": {},
   "outputs": [
    {
     "name": "stdout",
     "output_type": "stream",
     "text": [
      "              precision    recall  f1-score   support\n",
      "\n",
      "           0       0.79      0.51      0.62      8156\n",
      "           1       0.68      0.89      0.77      9664\n",
      "\n",
      "    accuracy                           0.71     17820\n",
      "   macro avg       0.74      0.70      0.69     17820\n",
      "weighted avg       0.73      0.71      0.70     17820\n",
      "\n"
     ]
    }
   ],
   "source": [
    "cr = classification_report(y_test, y_pred_test)\n",
    "print(cr)\n"
   ]
  },
  {
   "cell_type": "markdown",
   "metadata": {},
   "source": [
    "##### model evaluation"
   ]
  },
  {
   "cell_type": "markdown",
   "metadata": {},
   "source": [
    "From the confusion matrix we can see that: 4084 non functional waterpoints are classified as functional\n",
    "\n",
    "1080 functional waterpoints are classified as non functional\n",
    "\n",
    "The range of perfomance percentage between the train data and test data is very small."
   ]
  },
  {
   "cell_type": "markdown",
   "metadata": {},
   "source": [
    "#### Decision Tree classifier with different parameters"
   ]
  },
  {
   "cell_type": "code",
   "execution_count": 26,
   "metadata": {},
   "outputs": [
    {
     "name": "stdout",
     "output_type": "stream",
     "text": [
      "Accuracy:\n",
      "TRAIN: 0.7263281945212727\n",
      "TEST: 0.7239057239057239\n",
      "\n",
      "Balanced Accuracy:\n",
      "TRAIN: 0.7138577685653491\n",
      "TEST: 0.7110567089519275\n"
     ]
    }
   ],
   "source": [
    "dt = Pipeline(steps=[('preprocessor', preprocessor),\n",
    "                      ('classifier', DecisionTreeClassifier(criterion='gini', \n",
    "                                                            max_depth=5, \n",
    "                                                            min_samples_leaf=10, \n",
    "                                                            random_state=42, \n",
    "                                                            class_weight='balanced'))])\n",
    "# fit the model\n",
    "dt.fit(X_train, y_train) \n",
    " \n",
    "# make predictions on training set\n",
    "y_pred = dt.predict(X_train)\n",
    "\n",
    "# make predictions on test set\n",
    "y_pred_test = dt.predict(X_test)\n",
    "\n",
    "print(\"Accuracy:\")\n",
    "print(f\"TRAIN: {accuracy_score(y_train, y_pred)}\")\n",
    "print(f\"TEST: {accuracy_score(y_test, y_pred_test)}\")\n",
    "\n",
    "print(\"\\nBalanced Accuracy:\")\n",
    "print(f\"TRAIN: {balanced_accuracy_score(y_train, y_pred)}\")\n",
    "print(f\"TEST: {balanced_accuracy_score(y_test, y_pred_test)}\")"
   ]
  },
  {
   "cell_type": "code",
   "execution_count": 27,
   "metadata": {},
   "outputs": [
    {
     "data": {
      "image/png": "[encoded data removed]",
      "text/plain": [
       "<Figure size 432x288 with 2 Axes>"
      ]
     },
     "metadata": {
      "needs_background": "light"
     },
     "output_type": "display_data"
    }
   ],
   "source": [
    "plot_confusion_matrix(dt, X_test, y_test)  \n",
    "plt.show()"
   ]
  },
  {
   "cell_type": "markdown",
   "metadata": {},
   "source": [
    "From the confusion matrix we can see that: 1325 functional waterpoints are classified as non functional\n",
    "\n",
    "3505 non functional waterpoints are misclassified as functional\n",
    "\n",
    "The model perfoms worse than our previous model with an accuracy score of 72.63% on the test data"
   ]
  },
  {
   "cell_type": "markdown",
   "metadata": {},
   "source": [
    "#### Random Forest Classifier model"
   ]
  },
  {
   "cell_type": "code",
   "execution_count": 28,
   "metadata": {},
   "outputs": [
    {
     "name": "stdout",
     "output_type": "stream",
     "text": [
      "Accuracy:\n",
      "TRAIN: 0.988864571057505\n",
      "TEST: 0.8028058361391694\n",
      "\n",
      "Balanced Accuracy:\n",
      "TRAIN: 0.9885381481431661\n",
      "TEST: 0.7983988598569615\n"
     ]
    }
   ],
   "source": [
    "rf = Pipeline(steps=[('preprocessor', preprocessor),\n",
    "                      ('classifier', RandomForestClassifier(n_estimators=50,\n",
    "                                                            random_state=42, \n",
    "                                                            n_jobs=-1,\n",
    "                                                            class_weight='balanced'))])\n",
    "# fit the model\n",
    "rf.fit(X_train, y_train) \n",
    " \n",
    "# make predictions on training set\n",
    "y_pred = rf.predict(X_train)\n",
    "\n",
    "# make predictions on test set\n",
    "y_pred_test = rf.predict(X_test)\n",
    "\n",
    "print(\"Accuracy:\")\n",
    "print(f\"TRAIN: {accuracy_score(y_train, y_pred)}\")\n",
    "print(f\"TEST: {accuracy_score(y_test, y_pred_test)}\")\n",
    "\n",
    "print(\"\\nBalanced Accuracy:\")\n",
    "print(f\"TRAIN: {balanced_accuracy_score(y_train, y_pred)}\")\n",
    "print(f\"TEST: {balanced_accuracy_score(y_test, y_pred_test)}\")"
   ]
  },
  {
   "cell_type": "code",
   "execution_count": 29,
   "metadata": {},
   "outputs": [
    {
     "data": {
      "image/png": "[encoded data removed]",
      "text/plain": [
       "<Figure size 432x288 with 2 Axes>"
      ]
     },
     "metadata": {
      "needs_background": "light"
     },
     "output_type": "display_data"
    }
   ],
   "source": [
    "plot_confusion_matrix(rf, X_test, y_test)  \n",
    "plt.show()"
   ]
  },
  {
   "cell_type": "code",
   "execution_count": 30,
   "metadata": {},
   "outputs": [
    {
     "name": "stdout",
     "output_type": "stream",
     "text": [
      "              precision    recall  f1-score   support\n",
      "\n",
      "           0       0.81      0.75      0.78      8156\n",
      "           1       0.80      0.85      0.82      9664\n",
      "\n",
      "    accuracy                           0.80     17820\n",
      "   macro avg       0.80      0.80      0.80     17820\n",
      "weighted avg       0.80      0.80      0.80     17820\n",
      "\n"
     ]
    }
   ],
   "source": [
    "cr = classification_report(y_test, y_pred_test)\n",
    "print(cr)"
   ]
  },
  {
   "cell_type": "markdown",
   "metadata": {},
   "source": [
    "##### model evaluation"
   ]
  },
  {
   "cell_type": "markdown",
   "metadata": {},
   "source": [
    "The model seems to overfit since the training data accuracy score is 98.9%.\n",
    "\n",
    "1445 functional waterpoints are misclassified as non functional\n",
    "\n",
    "2060 non functional waterpoints are classified as functional\n",
    "\n",
    "Model has an accuracy of 80%"
   ]
  },
  {
   "cell_type": "markdown",
   "metadata": {},
   "source": [
    "### KNN MODEL"
   ]
  },
  {
   "cell_type": "code",
   "execution_count": 32,
   "metadata": {},
   "outputs": [
    {
     "name": "stdout",
     "output_type": "stream",
     "text": [
      "Accuracy:\n",
      "TRAIN: 1.0\n",
      "TEST: 0.7833894500561167\n",
      "\n",
      "Balanced Accuracy:\n",
      "TRAIN: 1.0\n",
      "TEST: 0.7785171766448298\n"
     ]
    }
   ],
   "source": [
    "from sklearn.neighbors import KNeighborsClassifier\n",
    "\n",
    "k_n_n = Pipeline(steps=[('preprocessor', preprocessor),\n",
    "                      ('classifier', KNeighborsClassifier(metric='manhattan',\n",
    "                                                          n_neighbors=7,\n",
    "                                                          weights='distance'))])\n",
    "# fit the model\n",
    "k_n_n.fit(X_train, y_train) \n",
    " \n",
    "# make predictions on training set\n",
    "y_pred = k_n_n.predict(X_train)\n",
    "\n",
    "# make predictions on test set\n",
    "y_pred_test = k_n_n.predict(X_test)\n",
    "\n",
    "print(\"Accuracy:\")\n",
    "print(f\"TRAIN: {accuracy_score(y_train, y_pred)}\")\n",
    "print(f\"TEST: {accuracy_score(y_test, y_pred_test)}\")\n",
    "\n",
    "print(\"\\nBalanced Accuracy:\")\n",
    "print(f\"TRAIN: {balanced_accuracy_score(y_train, y_pred)}\")\n",
    "print(f\"TEST: {balanced_accuracy_score(y_test, y_pred_test)}\")"
   ]
  },
  {
   "cell_type": "code",
   "execution_count": 33,
   "metadata": {},
   "outputs": [
    {
     "data": {
      "image/png": "[encoded data removed]",
      "text/plain": [
       "<Figure size 432x288 with 2 Axes>"
      ]
     },
     "metadata": {
      "needs_background": "light"
     },
     "output_type": "display_data"
    }
   ],
   "source": [
    "plot_confusion_matrix(k_n_n, X_test, y_test)  \n",
    "plt.show()"
   ]
  },
  {
   "cell_type": "code",
   "execution_count": 34,
   "metadata": {},
   "outputs": [
    {
     "name": "stdout",
     "output_type": "stream",
     "text": [
      "              precision    recall  f1-score   support\n",
      "\n",
      "           0       0.79      0.72      0.75      8156\n",
      "           1       0.78      0.84      0.81      9664\n",
      "\n",
      "    accuracy                           0.78     17820\n",
      "   macro avg       0.78      0.78      0.78     17820\n",
      "weighted avg       0.78      0.78      0.78     17820\n",
      "\n"
     ]
    }
   ],
   "source": [
    "cr = classification_report(y_test, y_pred_test)\n",
    "print(cr)\n"
   ]
  },
  {
   "cell_type": "markdown",
   "metadata": {},
   "source": [
    "The model seems to overfit since the training data accuracy score is 100%.\n",
    "\n",
    "1584 functional waterpoints are classified as non functional\n",
    "\n",
    "2276 non functional waterpoints are classified as functional\n",
    "\n",
    "The models accuracy score is 78%"
   ]
  },
  {
   "cell_type": "markdown",
   "metadata": {},
   "source": [
    "#### Using SMOTE and KNN"
   ]
  },
  {
   "cell_type": "code",
   "execution_count": 66,
   "metadata": {},
   "outputs": [
    {
     "name": "stdout",
     "output_type": "stream",
     "text": [
      "Accuracy:\n",
      "TRAIN: 1.0\n",
      "TEST: 0.7753647586980921\n",
      "\n",
      "Balanced Accuracy:\n",
      "TRAIN: 1.0\n",
      "TEST: 0.7719125744180533\n"
     ]
    }
   ],
   "source": [
    "from imblearn.over_sampling import SMOTE\n",
    "#import numpy as np\n",
    "RANDOM_SEED = 8\n",
    "k_n_n = Pipeline(steps=[('preprocessor', preprocessor),\n",
    "                        ('sampling', SMOTE(random_state=RANDOM_SEED, n_jobs=-1, sampling_strategy='auto')), \n",
    "                        ('classifier', KNeighborsClassifier(metric='euclidean',\n",
    "                                                          n_neighbors=15,\n",
    "                                                          weights='distance'))])\n",
    "# fit the model\n",
    "k_n_n.fit(X_train, y_train) \n",
    " \n",
    "# make predictions on training set\n",
    "y_pred = k_n_n.predict(X_train)\n",
    "\n",
    "# make predictions on test set\n",
    "y_pred_test = k_n_n.predict(X_test)\n",
    "\n",
    "print(\"Accuracy:\")\n",
    "print(f\"TRAIN: {accuracy_score(y_train, y_pred)}\")\n",
    "print(f\"TEST: {accuracy_score(y_test, y_pred_test)}\")\n",
    "\n",
    "print(\"\\nBalanced Accuracy:\")\n",
    "print(f\"TRAIN: {balanced_accuracy_score(y_train, y_pred)}\")\n",
    "print(f\"TEST: {balanced_accuracy_score(y_test, y_pred_test)}\")"
   ]
  },
  {
   "cell_type": "code",
   "execution_count": 68,
   "metadata": {},
   "outputs": [
    {
     "data": {
      "image/png": "[encoded data removed]",
      "text/plain": [
       "<Figure size 432x288 with 2 Axes>"
      ]
     },
     "metadata": {
      "needs_background": "light"
     },
     "output_type": "display_data"
    }
   ],
   "source": [
    "plot_confusion_matrix(k_n_n, X_test, y_test)  \n",
    "plt.show()"
   ]
  },
  {
   "cell_type": "markdown",
   "metadata": {},
   "source": [
    "The model seems to overfit since the training data accuracy score is 100%.\n",
    "\n",
    "1810 functional waterpoints are classified as  nonfunctional\n",
    "\n",
    "2103 non functional waterpoints are classified as functional"
   ]
  },
  {
   "cell_type": "code",
   "execution_count": 88,
   "metadata": {},
   "outputs": [],
   "source": [
    "from sklearn.model_selection import RandomizedSearchCV\n",
    "n_estimators = [int(x) for x in np.linspace(start = 200, stop = 2000, num = 10)]\n",
    "max_depth = [int(x) for x in np.linspace(20, 60, num = 11)]\n",
    "# Minimum number of samples required to split a node\n",
    "min_samples_split = [2, 5, 10]\n",
    "# Minimum number of samples required at each leaf node\n",
    "min_samples_leaf = [2, 4, 6]\n",
    "\n",
    "\n",
    "# Create the random grid\n",
    "parameters = [{'classifier__n_estimators': n_estimators,\n",
    "              'classifier__max_depth': max_depth,\n",
    "              'classifier__min_samples_split': min_samples_split,\n",
    "              'classifier__min_samples_leaf': min_samples_leaf}]\n",
    "\n",
    "scorers = {\n",
    "            'recall_score': make_scorer(recall_score, average='macro')\n",
    "}\n",
    "\n",
    "gridsearch = RandomizedSearchCV(rf, parameters, cv=5, random_state=RANDOM_SEED, \n",
    "                                scoring=scorers, n_jobs=-1, refit='recall_score',\n",
    "                               n_iter=5)\n",
    "clf = gridsearch.fit(X_train, y_train)"
   ]
  },
  {
   "cell_type": "code",
   "execution_count": 82,
   "metadata": {},
   "outputs": [
    {
     "data": {
      "image/png": "[encoded data removed]",
      "text/plain": [
       "<Figure size 432x288 with 2 Axes>"
      ]
     },
     "metadata": {
      "needs_background": "light"
     },
     "output_type": "display_data"
    }
   ],
   "source": [
    "plot_confusion_matrix(clf, X_test, y_test)  \n",
    "plt.show()"
   ]
  },
  {
   "cell_type": "code",
   "execution_count": 73,
   "metadata": {},
   "outputs": [],
   "source": [
    "y_hat_train = clf.predict(X_train)\n",
    "y_hat_test = clf.predict(X_test)"
   ]
  },
  {
   "cell_type": "code",
   "execution_count": 89,
   "metadata": {},
   "outputs": [
    {
     "data": {
      "text/plain": [
       "{'classifier__n_estimators': 400,\n",
       " 'classifier__min_samples_split': 2,\n",
       " 'classifier__min_samples_leaf': 2,\n",
       " 'classifier__max_depth': 40}"
      ]
     },
     "execution_count": 89,
     "metadata": {},
     "output_type": "execute_result"
    }
   ],
   "source": [
    "# models best parameters\n",
    "clf.best_params_"
   ]
  },
  {
   "cell_type": "markdown",
   "metadata": {},
   "source": [
    "### RANDOM FOREST WITH GRIDSEARCH CV"
   ]
  },
  {
   "cell_type": "code",
   "execution_count": 124,
   "metadata": {},
   "outputs": [
    {
     "name": "stdout",
     "output_type": "stream",
     "text": [
      "Accuracy:\n",
      "TRAIN: 0.9020418961494986\n",
      "TEST: 0.8078563411896745\n",
      "\n",
      "Balanced Accuracy:\n",
      "TRAIN: 0.8986374683180622\n",
      "TEST: 0.8022230617202952\n"
     ]
    }
   ],
   "source": [
    "#random forest with the best gridsearch cv\n",
    "rf = Pipeline(steps=[('preprocessor', preprocessor),\n",
    "                      ('classifier', RandomForestClassifier(n_estimators=400,\n",
    "                                                            random_state=42, \n",
    "                                                            n_jobs=-1,\n",
    "                                                            min_samples_leaf = 2,\n",
    "                                                            min_samples_split = 2,\n",
    "                                                            max_depth = 40,\n",
    "                                                            class_weight='balanced'))])\n",
    "# fit the model\n",
    "rf.fit(X_train, y_train) \n",
    " \n",
    "# make predictions on training set\n",
    "y_pred = rf.predict(X_train)\n",
    "\n",
    "# make predictions on test set\n",
    "y_pred_test = rf.predict(X_test)\n",
    "\n",
    "print(\"Accuracy:\")\n",
    "print(f\"TRAIN: {accuracy_score(y_train, y_pred)}\")\n",
    "print(f\"TEST: {accuracy_score(y_test, y_pred_test)}\")\n",
    "\n",
    "print(\"\\nBalanced Accuracy:\")\n",
    "print(f\"TRAIN: {balanced_accuracy_score(y_train, y_pred)}\")\n",
    "print(f\"TEST: {balanced_accuracy_score(y_test, y_pred_test)}\")"
   ]
  },
  {
   "cell_type": "markdown",
   "metadata": {},
   "source": [
    "Our model obtained an accuracy score of 90% on the training data and 81% on the test data\n",
    "\n",
    "I believe this is a better score since the model is neither underfitted nor overfitted."
   ]
  },
  {
   "cell_type": "code",
   "execution_count": 120,
   "metadata": {},
   "outputs": [
    {
     "data": {
      "image/png": "[encoded data removed]",
      "text/plain": [
       "<Figure size 432x288 with 2 Axes>"
      ]
     },
     "metadata": {
      "needs_background": "light"
     },
     "output_type": "display_data"
    }
   ],
   "source": [
    "plot_confusion_matrix(rf, X_test, y_test)  \n",
    "plt.show()"
   ]
  },
  {
   "cell_type": "markdown",
   "metadata": {},
   "source": [
    "1258 fuctional waterpoints are misclassified as non functional \n",
    "2156 non functional waterpoints are misclassified as functional water points"
   ]
  },
  {
   "cell_type": "code",
   "execution_count": 121,
   "metadata": {},
   "outputs": [
    {
     "name": "stdout",
     "output_type": "stream",
     "text": [
      "              precision    recall  f1-score   support\n",
      "\n",
      "           0       0.83      0.74      0.78      8156\n",
      "           1       0.80      0.87      0.83      9664\n",
      "\n",
      "    accuracy                           0.81     17820\n",
      "   macro avg       0.81      0.80      0.80     17820\n",
      "weighted avg       0.81      0.81      0.81     17820\n",
      "\n"
     ]
    }
   ],
   "source": [
    "cr = classification_report(y_test, y_pred_test)\n",
    "print(cr)\n"
   ]
  },
  {
   "cell_type": "markdown",
   "metadata": {},
   "source": [
    "precision for class 0 is 83% and precision for class 1 is 80%  \n",
    "recall for class 0 is 74% and recall for class 1 is 87%   \n",
    "The model has an accuracy of 81%"
   ]
  },
  {
   "cell_type": "markdown",
   "metadata": {},
   "source": [
    "### FINAL MODEL"
   ]
  },
  {
   "cell_type": "markdown",
   "metadata": {},
   "source": [
    "The final model chosen was the RandomtForestclassifier with gridsearchcv that had the best parameters"
   ]
  },
  {
   "cell_type": "code",
   "execution_count": 126,
   "metadata": {},
   "outputs": [
    {
     "data": {
      "text/plain": [
       "Pipeline(steps=[('preprocessor',\n",
       "                 ColumnTransformer(transformers=[('num',\n",
       "                                                  Pipeline(steps=[('imputer',\n",
       "                                                                   SimpleImputer(strategy='median')),\n",
       "                                                                  ('scaler',\n",
       "                                                                   RobustScaler())]),\n",
       "                                                  Index(['id', 'population', 'public_meeting', 'permit', 'age_of_well',\n",
       "       'distance_x_height'],\n",
       "      dtype='object')),\n",
       "                                                 ('cat',\n",
       "                                                  Pipeline(steps=[('imputer',\n",
       "                                                                   SimpleImputer(fill_value='missing',\n",
       "                                                                                 strategy='constant')),\n",
       "                                                                  ('onehot',\n",
       "                                                                   OneHotEncoder())]),\n",
       "                                                  Index(['basin', 'region', 'extraction_type_class', 'management_group',\n",
       "       'payment', 'water_quality', 'quantity', 'source', 'waterpoint_type',\n",
       "       'installer_cat', 'funder_cat'],\n",
       "      dtype='object'))])),\n",
       "                ('classifier',\n",
       "                 RandomForestClassifier(class_weight='balanced', max_depth=40,\n",
       "                                        min_samples_leaf=2, n_estimators=400,\n",
       "                                        n_jobs=-1))])"
      ]
     },
     "execution_count": 126,
     "metadata": {},
     "output_type": "execute_result"
    }
   ],
   "source": [
    "final_model = Pipeline(steps=[('preprocessor', preprocessor),\n",
    "                      ('classifier', RandomForestClassifier(n_estimators = 400,\n",
    "                                                            min_samples_split = 2,\n",
    "                                                            min_samples_leaf = 2,\n",
    "                                                            max_depth = 40,\n",
    "                                                            n_jobs = -1,\n",
    "                                                            class_weight='balanced'))])\n",
    "# fit the model\n",
    "final_model.fit(X_train, y_train) "
   ]
  },
  {
   "cell_type": "code",
   "execution_count": 133,
   "metadata": {},
   "outputs": [
    {
     "name": "stdout",
     "output_type": "stream",
     "text": [
      "log loss:  0.4106744518960779\n",
      "accuracy:  0.8078563411896745\n",
      "precision: 0.7956785443517816\n",
      "recall:    0.8687913907284768\n",
      "0.8929822025113117\n"
     ]
    }
   ],
   "source": [
    "preds = final_model.predict(X_test)\n",
    "probs = final_model.predict_proba(X_test)\n",
    "\n",
    "\n",
    "print(\"log loss: \", log_loss(y_test, probs))\n",
    "print(\"accuracy: \", accuracy_score(y_test, y_pred_test))\n",
    "print(\"precision:\", precision_score(y_test, y_pred_test))\n",
    "print(\"recall:   \", recall_score(y_test, y_pred_test))\n",
    "\n",
    "\n",
    "# Get the validation score\n",
    "scores = cross_val_score(best_model, X, y, cv=5, scoring='roc_auc')\n",
    "print(scores.mean())"
   ]
  },
  {
   "cell_type": "code",
   "execution_count": 136,
   "metadata": {},
   "outputs": [
    {
     "data": {
      "image/png": "[encoded data removed]",
      "text/plain": [
       "<Figure size 432x288 with 2 Axes>"
      ]
     },
     "metadata": {
      "needs_background": "light"
     },
     "output_type": "display_data"
    }
   ],
   "source": [
    "plot_confusion_matrix(final_model, X_test, y_test)  \n",
    "plt.show()"
   ]
  },
  {
   "cell_type": "markdown",
   "metadata": {},
   "source": [
    "In the confusion matrix, 1255 functional waterpoints are missclassified as nonfunctional.\n",
    "\n",
    "2171 non functional wateroints were missclassified as functional waterpoints."
   ]
  },
  {
   "cell_type": "markdown",
   "metadata": {},
   "source": [
    "### CONCLUSION"
   ]
  },
  {
   "cell_type": "markdown",
   "metadata": {},
   "source": [
    "The cross validation score for this model is 89%.\n",
    "\n",
    "This score shows that the perfomance of the model is standard since it can be able to predict 89% of the test data.\n",
    "\n",
    "The models perfomance improves significantly after incorporating a gridsearchv to Tune the models parameters."
   ]
  },
  {
   "cell_type": "markdown",
   "metadata": {},
   "source": [
    "### RECOMMENDATIONS"
   ]
  },
  {
   "attachments": {},
   "cell_type": "markdown",
   "metadata": {},
   "source": [
    "Use the model to prioritize site visits. Priority should be given to maintenance staff sent to waterpoints that are predicted to be functional but in need of repair or non functional.\n",
    "\n",
    "The ministry can use the analysis as a tool to choose installer with the most long lasting pumps by looking at the age of the\n",
    "well and its fuctionality.\n",
    "\n",
    "By looking at the predicted values, the ministry can figure out the management group with the highest functional pumps and extraction type that when used are the most functional\n",
    "\n",
    "The Ministry can use the accuracy of the model and its improved maintenance program as a selling point when soliciting international aid.\n",
    "\n",
    "targeting repairs to clusters of wells especially those with high populations\n",
    "\n",
    "payments of some kind will provide an incentive to keep wells functional\n",
    "\n",
    "allocate funds and resources to effective organizations with a track record"
   ]
  },
  {
   "cell_type": "code",
   "execution_count": null,
   "metadata": {},
   "outputs": [],
   "source": []
  }
 ],
 "metadata": {
  "kernelspec": {
   "display_name": "Python 3",
   "language": "python",
   "name": "python3"
  },
  "language_info": {
   "codemirror_mode": {
    "name": "ipython",
    "version": 3
   },
   "file_extension": ".py",
   "mimetype": "text/x-python",
   "name": "python",
   "nbconvert_exporter": "python",
   "pygments_lexer": "ipython3",
   "version": "3.8.5"
  }
 },
 "nbformat": 4,
 "nbformat_minor": 4
}
